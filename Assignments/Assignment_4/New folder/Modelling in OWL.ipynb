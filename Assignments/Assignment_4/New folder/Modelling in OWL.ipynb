{
 "cells": [
  {
   "cell_type": "markdown",
   "metadata": {},
   "source": [
    "# Knowledge and Data: Practical Assignment 4 \n",
    "## Modelling in OWL "
   ]
  },
  {
   "cell_type": "markdown",
   "metadata": {},
   "source": [
    "- YOUR NAME: Alex de Roode\n",
    "\n",
    "- YOUR VUNetID: ARO241\n",
    "\n",
    "*(If you do not provide your NAME and VUNetID we will not accept your submission.)*"
   ]
  },
  {
   "cell_type": "markdown",
   "metadata": {},
   "source": [
    "For this assignment you will be engineering and reasoning over your very own OWL ontology.\n",
    "\n",
    "You are free to choose the domain (subject) of the ontology you are going to build (e.g. on nutritional value, recipes, supermarkets, food safety, health, restaurants, planes, trains and automobiles, developing countries, modern slavery, political parties, refugees, you name it...). Just be creative and choose a domain we have not seen in class yet. \n",
    "\n",
    "We expect extensive answers for this assignment: give a full account of what you did, such that a peer would be able to reproduce your ontology. This means that you must explicitly state the new axioms and that we expect you to motivate your choices (usually 1-3 lines).\n",
    "\n",
    "Note that all notebooks will automatically be checked for plagiarism: while similar answers can be expected, it is not allowed to directly copy the solutions from fellow students or TAs, or from the examples discussed during the lectures. Similarly, sharing your solutions with your peers is not allowed.\n",
    "\n",
    "NB: the use of Python is not allowed for this assignment: if you add a new cell, make sure it is of the type *markdown* (see the pull-down menu at the top).\n",
    "\n",
    "**IMPORTANT: You will have to hand in your ontology (as ttl) together with the notebook**"
   ]
  },
  {
   "cell_type": "markdown",
   "metadata": {},
   "source": [
    "### Learning objectives"
   ]
  },
  {
   "cell_type": "markdown",
   "metadata": {},
   "source": [
    "At the end of this exercise you should be able to build and ontology and to reason over it: \n",
    "1. You will be able to engineer an OWL ontology\n",
    "2. You will be able to conceptualize a (small) domain\n",
    "3. You will be able use conditions and property characteristics\n",
    "4. You will be able to use a reasoner to infer implicit knowledge\n",
    "5. You will be able to work in Protégé\n"
   ]
  },
  {
   "cell_type": "markdown",
   "metadata": {},
   "source": [
    "### Preliminaries\n",
    "\n",
    "There are several tools which can be used to create and edit RDF and OWL files (in addition to your favourite text-based editor). For this assignment we urge you to use the open-source tool [Protégé](https://protege.stanford.edu), which is a stand-alone editor that is very much tailored towards OWL ontology editing.\n",
    "\n",
    "To install Protégé on your system, please take a look at the [installation instructions](https://protegeproject.github.io/protege/installation/).\n",
    " \n",
    "Protégé is a complex tool with many options, only few of which we will need for this assignment. There are various resources available to get you started:\n",
    "\n",
    "- Watch a short [Protégé Screencast Tutorial](https://vimeo.com/183829740) (created by Rinke Hoekstra)\n",
    "- Check out the [Practical Guide To Building OWL Ontologies Using Protégé 5](https://www.researchgate.net/publication/351037551_A_Practical_Guide_to_Building_OWL_Ontologies_Using_Protege_55_and_Plugins) that uses the [Pizza ontology](https://protege.stanford.edu/ontologies/pizza/pizza.owl) to describe how to create ontologies using Protégé.\n",
    "- Check the [Assignment 4 document](https://docs.google.com/document/d/1Dw2winjfr2TJq3r1q6ZRpud9Qn--tq4ioWDqiBdrrzI) containing Tips & Recommendations on how to create ontologies."
   ]
  },
  {
   "cell_type": "markdown",
   "metadata": {},
   "source": [
    "### Task 1 (10 Points) : Creating an empty ontology\n",
    "\n",
    "Create a new empty ontology in Protégé.\n",
    "\n",
    "Be sure to:\n",
    "- Choose your own unique namespace and prefix  (these do not have to exist)\n",
    "- Add metadata in the form of *rdfs:label*, *dc:creator* (http://purl.org/dc/elements/1.1/creator), and *rdfs:comment* annotations.  \n",
    "  Use *rdfs:comment* to describe the domain and target audience of your ontology.\n",
    "\n",
    "Write down the namespace, its prefix, and the metadata that you have added in the textfield below:"
   ]
  },
  {
   "cell_type": "markdown",
   "metadata": {},
   "source": [
    "Namespace: http://www.test_environment.com/\n",
    "Prefix: te:\n",
    "\n",
    "Metadata: rdfs:comment \"This is my experimental ontology\""
   ]
  },
  {
   "cell_type": "markdown",
   "metadata": {},
   "source": [
    "### Task 2a (10 Points) : Populating your ontology\n",
    "\n",
    "Populate your ontology such that it contains at least\n",
    "- six classes\n",
    "- four datatype properties\n",
    "- four object properties\n",
    "\n",
    "For **each** class, create **two** example instances:\n",
    "- assert one instance as a member of this class (i.e. using *rdf:type*).\n",
    "- leave the second instance without any type.\n",
    "\n",
    "Your ontology should now have at least 12 instances: six instances with a certain *rdf:type*, and six instances without any *rdf:type*.\n",
    "\n",
    "List and describe the classes and properties that you created in the textfield below, together with their instances. Don't forget to motivate your choices."
   ]
  },
  {
   "cell_type": "markdown",
   "metadata": {},
   "source": [
    "### Custom classes & Instances:\n",
    "\n",
    "!! IMPORTANT !! <br>\n",
    "Assume all custom instances, classes and properties have the prefix te: before them. <br>\n",
    "I forgot that here but will add it for later exercises. <br>\n",
    "\n",
    "Class Name: Heavy_Tank <br>\n",
    "Description: contains heavy tanks (tanks that are very heavily armoured and therefore can withstand a lot of punnishment) <br>\n",
    "Instances:\n",
    "- KV-1\n",
    "- Tiger_II_P\n",
    "\n",
    "Class Name: Tank_Hunter  <br>\n",
    "Description: contains tank hunters (tanks that are built to fight and destroy other, enemy tanks) <br>\n",
    "Instances: <br>\n",
    "- Su-152\n",
    "- Jagdpanther\n",
    "\n",
    "Class name: Light_Tank <br>\n",
    "Description: contains light tanks (tanks that are quick and nimble, but can't take much fire without going down) <br>\n",
    "Instances:\n",
    "- PZ_II_F\n",
    "- Crusader_Mk.1 \n",
    "\n",
    "class Name: SPAA <br>\n",
    "Description: contains SPAA; also known as Self-Propelled Anti-Air. (tanks that are built to defend airspace and shoot down enemy aircraft)<br>\n",
    "Instances:\n",
    "- ZiS-43\n",
    "- Kugelblitz\n",
    "\n",
    "Class Name: Fighter <br>\n",
    "Description: contains fighter planes (planes that are designed to engage in aerial combat with each other) <br>\n",
    "Instances:\n",
    "- FW190\n",
    "- Spitfire_Mk.23\n",
    "\n",
    "Class Name: Bomber <br>\n",
    "Description: contains bomber planes (planes that are designed to transport and drop bombs above hostile ground) <br>\n",
    "Instances:\n",
    "- HE111\n",
    "- Lancaster\n",
    "\n",
    "Class Name: Country <br>\n",
    "Description: contains countries or things that once were countries but do not exist anymore (e.g. Soviet Union or East-Germany)\n",
    "Instances:\n",
    "- Germany\n",
    "- Great-Brittain\n",
    "- Soviet-Union\n",
    "- USA\n",
    "\n",
    "!! IMPORTANT !! <br>\n",
    "To make everything work out well, I added classes which some of the classes here are subclasses of. <br>\n",
    "They don't have any seperate instances, but they are needed to make everything work and depict the relationships correctly. <br>\n",
    "They may not have been shown here, but are part of my protege ontology. <br>\n",
    "\n",
    "\n",
    "### Object Properties:\n",
    "Property Name: BuiltBy <br>\n",
    "Description: shows by what country a thing (vehicle, as far as this ontology goes) has been built. <br>\n",
    "Domain: Tank <br>\n",
    "Range: Country <br>\n",
    "\n",
    "Property Name: HasEngine <br>\n",
    "Description: shows by what engine a vehicle has. <br>\n",
    "Domain: Vehicle <br>\n",
    "Range: Engine <br>\n",
    "\n",
    "Property Name: HasMainWeapon <br>\n",
    "Description: shows what the main weapon system a particular vehicle has. <br>\n",
    "Domain: Vehicle <br>\n",
    "Range: Armament <br>\n",
    "\n",
    "Property Name: HasSecondaryWeapon <br>\n",
    "Description: shows what the secondary weapon system a particular vehicle has. <br>\n",
    "Domain: Vehicle <br>\n",
    "Range: Armament <br>\n",
    "\n",
    "\n",
    "### Data Properties:\n",
    "Property Name: HasArmorValue <br>\n",
    "Description: shows how strong a vehicle's armor is. <br>\n",
    "Domain: Vehicle <br>\n",
    "Range: Literal[string] <br>\n",
    "\n",
    "Property Name: HasTurret <br>\n",
    "Description: shows whether a tank has a turret or not. <br>\n",
    "Domain: Engine <br>\n",
    "Range: Literal[bool] <br>\n",
    "\n",
    "Property Name: HasFullName <br>\n",
    "Description: shows the full, official name of something <br>\n",
    "Domain: Thing <br>\n",
    "Range: Literal[string] <br>\n",
    "\n",
    "Property Name: MovesOn <br>\n",
    "Description: shows what type of space a given vehicle moves on (e.g. land, water, air). <br>\n",
    "Domain: Vehicle <br>\n",
    "Range: Literal[string] <br>"
   ]
  },
  {
   "cell_type": "markdown",
   "metadata": {},
   "source": [
    "### Task 2b (10 Points) : Asserting properties\n",
    " \n",
    "For *each* instance:\n",
    "- assert at least one datatype property (e.g. ex:instanceA *ex:hasFullName* \"Some Full Name\"). \n",
    "- assert at least one object property, relating instances to each other (e.g.  ex:instanceA *ex:attendsCourse* ex:instanceB) \n",
    "\n",
    "List and describe 4 statements from your ontology, containing 4 different datatype property assertions:"
   ]
  },
  {
   "cell_type": "markdown",
   "metadata": {},
   "source": [
    "Datatype property assertions: <br>\n",
    "- te:Tiger_II_P te:HasFullName \"Panzerkampfwagen 6 Tiger ausf. B Porsche Turm\"\n",
    "- te:Tiger_II_P te:hasArmorValue \"High\"\n",
    "- te:Crusader_Mk.1 te:MovesOn \"Land\"\n",
    "- te:SU-152 te:HasTurret False\n"
   ]
  },
  {
   "cell_type": "markdown",
   "metadata": {},
   "source": [
    "List and describe 4 statements from your ontology, containing 4 different object property assertions:"
   ]
  },
  {
   "cell_type": "markdown",
   "metadata": {},
   "source": [
    "Object Property assertions:\n",
    "- te:Jagdpanther te:BuiltBy te:Germany\n",
    "- te:ZiS-43 te:BuiltBy te:Soviet-Union\n",
    "- te:SU-152 te:HasMainWeapon te:152mmHowitzerM1937\n",
    "- te:PZ_II_F te:HasSecondaryWeapon te: MG34\n"
   ]
  },
  {
   "cell_type": "markdown",
   "metadata": {},
   "source": [
    "---\n",
    "### The reasoner\n",
    "\n",
    "The questions following this point make use of Protégé reasoning capabilities, which are available via plugins but which are disabled by default. Install (if necessary) and start the *Pellet* reasoner before you continue with the next question.\n",
    "\n",
    "Refer to page 15 of the [Protégé guide](https://www.researchgate.net/publication/351037551_A_Practical_Guide_to_Building_OWL_Ontologies_Using_Protege_55_and_Plugins) for instructions on how to install and run the reasoner. A version of this guide is also available on the GitHub page of the course.\n",
    "\n",
    "---"
   ]
  },
  {
   "cell_type": "markdown",
   "metadata": {},
   "source": [
    "### Task 3 (10 Points): Reasoning on a basic ontology\n",
    "\n",
    "All assertions that were addded up til now were explicit. Yet, it is certainly possible that your ontology also contains one or more *implicit* assertions, that have emerged from the interactions between the added explicit assertions. \n",
    "\n",
    "Run the reasoner on your yet-basic ontology and write down the inferences occurred (if any) below:"
   ]
  },
  {
   "cell_type": "markdown",
   "metadata": {},
   "source": [
    "NO INFERENCES"
   ]
  },
  {
   "cell_type": "markdown",
   "metadata": {},
   "source": [
    "Write down the different steps of the reasoning process (ie, what happened when you ran the reasoner. Think in terms of _set theory_, _axioms_, and _inferencing_, amongst others)."
   ]
  },
  {
   "cell_type": "markdown",
   "metadata": {},
   "source": [
    "I think the reasoner would run over all the axioms and apply them to all classes and rules made for classes and check whether there are inconsistencies or not. If there are no inconsistencies it will check whether some classes are subclasses of others and therefore say that elements that are part of a given class also are part of the larger class. And the reasoner will check whether elements possess all properties to be part of certain classes, and infer that they are of they have all the properties necessary."
   ]
  },
  {
   "cell_type": "markdown",
   "metadata": {},
   "source": [
    "### Task 4a (10 Points): Necessary and sufficient conditions \n",
    "\n",
    "Select two classes from your ontology.  \n",
    "For **both** classes:\n",
    "- add at least one *necessary* **and** one *necessary and sufficient* condition\n",
    "  (e.g. engineers are people who hold an engineering degree, and any person holding an engineering degree is an engineer)\n",
    "- infer class membership of *at least* one instance using each condition \n",
    "  \n",
    "List and describe the four (or more) conditions that you have added (i.e. axioms) in the textfield below. Do not forget to motivate your choices."
   ]
  },
  {
   "cell_type": "markdown",
   "metadata": {},
   "source": [
    "I chose the classes te:Heavy_Tank and te:Tank_Hunter. <br>\n",
    "\n",
    "#### te:Heavy_Tank\n",
    "The requirements for something to be of type te:Heavy_Tank are to be of type tank AND have \"High\" as a literal after property te:HasArmorValue. <br>\n",
    "This is to reflect that heavy tanks are a subset of tanks that wield a lot of armor which makes them able to withstand a lot of damage. <br>\n",
    "A necessary condition therefore is that something must be of type te:Tank. <br>\n",
    "And A necessary condition is the conjunction of the rules that something must be of type te:Tank and have \"High\" after the property te:HasArmorValue. <br>\n",
    "\n",
    "#### te:Tank_Hunter\n",
    "The requirements for something to belong to type te:Tank_Hunter are to be of type Tank and of and have False as value after te:HasTurret. <br>\n",
    "These rules are needed to safeguard the fact that tank hunters are tanks that often (but for the sake of simplicity here, I go with always) do not possess a turret like other types of tanks. <br>\n",
    "A necessary condition for something is that to be part of te:Tank_Hunter, is that the thing has to have False for the property te:HasTurret. <br>\n",
    "And a necessary condition is the conjunction of the rules that something must be of type te:Tank and to have the value False after the property te:HasTurret. <br>\n",
    "\n",
    "\n",
    "\n"
   ]
  },
  {
   "cell_type": "markdown",
   "metadata": {},
   "source": [
    "### Task 4b (10 Points): Reasoning over conditions\n",
    "\n",
    "Run the reasoner once again (after having added the conditions).\n",
    "\n",
    "Write down and explain the resulting inferences below."
   ]
  },
  {
   "cell_type": "markdown",
   "metadata": {},
   "source": [
    "The SU-152 is of type te:Tank and has a value of False for the property te:HasTurret. <br>\n",
    "Therefore the reasoner inferred that the SU-152 is of type te:Tank_Hunter. <br>\n",
    "\n",
    "And the KV-1 is of type te:Tank and has a value of \"High\" for the property te:HasArmorValue. <br>\n",
    "Therefor the reasoner inferred that the KV-1 is of type te:Heavy_Tank. <br>"
   ]
  },
  {
   "cell_type": "markdown",
   "metadata": {},
   "source": [
    "### Task 5a (10 Points): Property characteristics\n",
    "\n",
    "Add at least **four** different OWL property characteristics.\n",
    "\n",
    "Examples are\n",
    "- transitivity\n",
    "- symmetricity\n",
    "- functionality\n",
    "- (ir)reflexivity\n",
    "- property chain\n",
    "- disjoint properties\n",
    "- etc\n",
    "\n",
    "All four different characteristics can be asserted on one property (or on four different properties).\n",
    "\n",
    "List and describe the four (or more) property characteristics you defined (i.e. axioms) in the textfield below. Do not forget to motivate your choices."
   ]
  },
  {
   "cell_type": "markdown",
   "metadata": {},
   "source": [
    "Property characteristic 1:\n",
    "- The te:HasArmorValue property has the characteristic of functionality. <br>\n",
    "This is because a tank can only have ONE literal after the te:HasArmorValue because that is once of the core parts of the way a tank works and the way it is designed. <br>\n",
    "The value of the armor is dependant on the thickness of the armor which is fixed, and therefore so is the effectiveness/value.\n",
    "(technically this can change over time due to new enemy tanks entering the battlefield which are specially designed with guns that have an easier down of piercing through your armor. <br>You could argue that the value of the armor can change and differ over time and location, but due to simplicity, we say that it is constant now)\n",
    "\n",
    "property characterstic 2:\n",
    "- the te:HasMainWeapon is an inverse functional property. <br>\n",
    "This is because the same weapon system can get used on different tank. To give an example, but the Nashorn and Tiger II H have the long 88mm cannon as their main weapon. <br>\n",
    "This means that multiple subjects can have the same object when using the te:hasMainWeapon property. Therefore it is inverse functional <br>\n",
    "\n",
    "Property characterstic 3:\n",
    "- the te:BuiltBy and te:HasEngine are disjoint properties. <br>\n",
    "This is because the te:HasEngine has as range te:Engine and the te:BuiltBy has as range te:Country. \n",
    "The two are completely disjoint and therefore this property characteristic holds too. <br>\n",
    "\n",
    "Property characteristic 4:\n",
    "- the te:BuiltBy property is irreflexive. <br>\n",
    "This is because the te:BuiltBy property has as domain te:Tank and as range te:Country; and the property aims to show by what country a certain model/individual was built. <br>\n",
    "The te:Country and te:Tank are completely disjoint and therefore cannot swap places in a triple with the property te:BuiltBy without the triple becoming False. <br>\n"
   ]
  },
  {
   "cell_type": "markdown",
   "metadata": {},
   "source": [
    "### Task 5b (10 Points): Reasoning over properties\n",
    "\n",
    "Run the reasoner once again (after having added the properties).\n",
    "\n",
    "Write down and explain the resulting inferences below."
   ]
  },
  {
   "cell_type": "markdown",
   "metadata": {},
   "source": [
    "I have no new inferences. I think this is because given I already am very familiar with the topic of tanks, I modelled this ontology very carefully to make sure untrue references would be impossible to make."
   ]
  },
  {
   "cell_type": "markdown",
   "metadata": {},
   "source": [
    "### Task 6 (10 Points): Saving your ontology\n",
    "\n",
    "Go over your ontology to ensure that it is consistent and that it meets all requirements as asked through the various questions. Note that there are several [online validators](http://mowl-power.cs.man.ac.uk:8080/validator/) that can help you check your ontology for consistency.\n",
    "\n",
    "Next, export/save your ontology to a file using Turtle as serialization format. Use *save as* to ensure that later modifications won't end up in this file. \n",
    "\n",
    "**Submit this file together with your notebook**"
   ]
  },
  {
   "cell_type": "markdown",
   "metadata": {},
   "source": [
    "### Task 7 (10 Points): An inconsist ontology\n",
    "\n",
    "Add a new axiom to your ontology in such a way that it becomes inconsistent. Note that the added axiom itself *must* be consistent.\n",
    "\n",
    "**IMPORTANT: do not submit this version**\n",
    "\n",
    "List and describe the axiom that you added. Motivate your choice and explain why the ontology became inconsistent."
   ]
  },
  {
   "cell_type": "markdown",
   "metadata": {},
   "source": [
    "To really screw with the ontology I added the axiom that te:Heavy_Tank is disjoint with the te:Tank class. <br>\n",
    "This axiom immediately resulted in the ontology becoming inconsistent because the te:Heavy_Tank is already a subclass of te:Tank. <br>\n",
    "Something cannot be both a subclass of something while also being disjoint with it and therefore we got the error. <br>"
   ]
  },
  {
   "cell_type": "markdown",
   "metadata": {},
   "source": [
    "---\n",
    "\n",
    "## Submitting your answers\n",
    "\n",
    "To submit your answers for this assignment, create a zip-file containing both this notebook and your *consistent* ontology (saved during task 6). Name this zip-file **assignment_4_VUnetID.zip** (where VUnetID is of course to be replaced by your personal VUnetID, eg **rss220**), and submit it via Canvas."
   ]
  }
 ],
 "metadata": {
  "kernelspec": {
   "display_name": "Python 3 (ipykernel)",
   "language": "python",
   "name": "python3"
  },
  "language_info": {
   "codemirror_mode": {
    "name": "ipython",
    "version": 3
   },
   "file_extension": ".py",
   "mimetype": "text/x-python",
   "name": "python",
   "nbconvert_exporter": "python",
   "pygments_lexer": "ipython3",
   "version": "3.11.3"
  }
 },
 "nbformat": 4,
 "nbformat_minor": 4
}
