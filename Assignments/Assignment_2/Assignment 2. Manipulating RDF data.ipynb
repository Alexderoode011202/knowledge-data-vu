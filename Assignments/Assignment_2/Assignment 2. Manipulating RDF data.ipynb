{
 "cells": [
  {
   "cell_type": "markdown",
   "metadata": {},
   "source": [
    "# Knowledge and Data: Practical Assignment 2\n",
    "## Manipulate local and external RDF Knowledge Graphs "
   ]
  },
  {
   "cell_type": "markdown",
   "metadata": {},
   "source": [
    "YOUR NAME: Alex de Roode\n",
    "\n",
    "YOUR VUNetID: ARO241\n",
    "\n",
    "*(If you do not provide your name and VUNetID we will not accept your submission).*"
   ]
  },
  {
   "cell_type": "markdown",
   "metadata": {},
   "source": [
    "### Learning objectives"
   ]
  },
  {
   "cell_type": "markdown",
   "metadata": {},
   "source": [
    "At the end of this exercise you should be able to perform some simple manipulations of RDF Data using the rdflib library. You should be able to: \n",
    "\n",
    "1. Add and retrieve information from a local RDF database\n",
    "2. Represent RDF data in other formats, such as the .dot format for graph visualisation\n",
    "3. Retrieve information from an RDF database created from Web Data\n",
    "4. Query information from the Web with SPARQL"
   ]
  },
  {
   "cell_type": "markdown",
   "metadata": {},
   "source": [
    "### Practicalities"
   ]
  },
  {
   "cell_type": "markdown",
   "metadata": {},
   "source": [
    "Follow this Notebook step-by-step. \n",
    "\n",
    "Of course, you can do the exercises in any Programming Editor of your liking. \n",
    "But you do not have to. Feel free to simply write code in the Notebook. When \n",
    "everything is filled in and works, save the Notebook and submit it \n",
    "as a Jupyter Notebook, i.e. with an .ipynb extension. Please use as name of the \n",
    "Notebook your studentID+Assignment2.ipynb.  \n",
    "\n",
    "We will not evaluate the programming style of your solutions. Yet we do look whether your solutions suggests an understanding, and whether they yield the correct output.\n",
    "\n",
    "Note that all notebooks will automatically be checked for plagiarism: while similar answers can be expected, it is not allowed to directly copy the solutions from fellow students or TAs, or from the examples discussed during the lectures. Similarly, sharing your solutions with your peers is not allowed."
   ]
  },
  {
   "cell_type": "markdown",
   "metadata": {},
   "source": [
    "# A. Tasks related to local RDF Knowledge Graphs"
   ]
  },
  {
   "cell_type": "markdown",
   "metadata": {},
   "source": [
    "This first cell will open a file 'example-from-slide.ttl' using the rdflib library. The first Practical Assignment should have taught you that manipulating symbols as strings is a major pain. \n",
    "\n",
    "Programming libraries, such as **rdflib**, help you with this mess once and for all, by parsing the files, creating appropriate datastructures (Graph()) and providing useful functions (such as serialize(), save() and much more). \n",
    "Check the website of rdflib http://rdflib.readthedocs.io/: this library does most of the hard work for you."
   ]
  },
  {
   "cell_type": "code",
   "execution_count": 81,
   "metadata": {},
   "outputs": [
    {
     "name": "stdout",
     "output_type": "stream",
     "text": [
      "Requirement already satisfied: rdflib in /home/alex/Downloads/Downloads/envs/newest_version/lib/python3.11/site-packages (7.0.0)\n",
      "Requirement already satisfied: isodate<0.7.0,>=0.6.0 in /home/alex/Downloads/Downloads/envs/newest_version/lib/python3.11/site-packages (from rdflib) (0.6.1)\n",
      "Requirement already satisfied: pyparsing<4,>=2.1.0 in /home/alex/Downloads/Downloads/envs/newest_version/lib/python3.11/site-packages (from rdflib) (3.0.9)\n",
      "Requirement already satisfied: six in /home/alex/Downloads/Downloads/envs/newest_version/lib/python3.11/site-packages (from isodate<0.7.0,>=0.6.0->rdflib) (1.16.0)\n",
      "Note: you may need to restart the kernel to use updated packages.\n"
     ]
    }
   ],
   "source": [
    "# Before starting with the tasks of this assignment, do not forget to install **rdflib** so we can start using it. \n",
    "%pip install rdflib"
   ]
  },
  {
   "cell_type": "code",
   "execution_count": 2,
   "metadata": {},
   "outputs": [],
   "source": [
    "from rdflib import Graph, RDF, Namespace, Literal, URIRef\n",
    "\n",
    "g = Graph()\n",
    "\n",
    "EX = Namespace('http://example.com/kad0/')\n",
    "g.bind('ex',EX)\n",
    "\n",
    "def serialize_graph():\n",
    "    # g.serialize() returns a string\n",
    "    print(g.serialize(format='turtle'))\n",
    "\n",
    "def save_graph(filename):\n",
    "    with open(filename, 'w') as f:\n",
    "        g.serialize(f, format='nt')\n",
    "        \n",
    "def load_graph(filename):\n",
    "    with open(filename, 'r') as f:\n",
    "        g.parse(f, format='turtle')   "
   ]
  },
  {
   "cell_type": "markdown",
   "metadata": {},
   "source": [
    "The file 'example-from-slides.ttl' formalises the knowledge base from the slides from Module 1, and a bit more. \n",
    "\n",
    "Here is how it looks when you load it into your program and serialise it with rdflib in turtle. "
   ]
  },
  {
   "cell_type": "code",
   "execution_count": 3,
   "metadata": {},
   "outputs": [
    {
     "name": "stdout",
     "output_type": "stream",
     "text": [
      "@prefix ex1: <http://example.com/kad/> .\n",
      "@prefix rdfs: <http://www.w3.org/2000/01/rdf-schema#> .\n",
      "\n",
      "ex1:Germany a ex1:EuropeanCountry .\n",
      "\n",
      "ex1:Netherlands a ex1:Country ;\n",
      "    ex1:hasCapital ex1:Amsterdam ;\n",
      "    ex1:hasName \"The Netherlands\" ;\n",
      "    ex1:neighbours ex1:Belgium .\n",
      "\n",
      "ex1:hasCapital rdfs:range ex1:Capital ;\n",
      "    rdfs:subPropertyOf ex1:containsCity .\n",
      "\n",
      "ex1:Amsterdam a ex1:Capital .\n",
      "\n",
      "ex1:Belgium a ex1:Country .\n",
      "\n",
      "ex1:EuropeanCountry rdfs:subClassOf ex1:Country .\n",
      "\n",
      "ex1:containsCity rdfs:domain ex1:Country ;\n",
      "    rdfs:range ex1:City .\n",
      "\n",
      "ex1:Capital rdfs:subClassOf ex1:City .\n",
      "\n",
      "\n"
     ]
    }
   ],
   "source": [
    "load_graph('example-from-slides.ttl')\n",
    "serialize_graph()"
   ]
  },
  {
   "cell_type": "markdown",
   "metadata": {},
   "source": [
    "Now, we can manipulate the graph very easily, e.g. like in the following very simple function, which returns the predicate(s) that relate a subject to a literal object: "
   ]
  },
  {
   "cell_type": "code",
   "execution_count": 6,
   "metadata": {
    "scrolled": true
   },
   "outputs": [
    {
     "name": "stdout",
     "output_type": "stream",
     "text": [
      "Predicate:http://www.w3.org/1999/02/22-rdf-syntax-ns#type\n",
      "Predicate:http://www.w3.org/2000/01/rdf-schema#subPropertyOf\n",
      "Predicate:http://www.w3.org/2000/01/rdf-schema#subClassOf\n",
      "Predicate:http://www.w3.org/1999/02/22-rdf-syntax-ns#type\n",
      "Predicate:http://example.com/kad/hasCapital\n",
      "Predicate:http://www.w3.org/2000/01/rdf-schema#domain\n",
      "Predicate:http://example.com/kad/neighbours\n",
      "Predicate:http://www.w3.org/1999/02/22-rdf-syntax-ns#type\n",
      "Predicate:http://www.w3.org/1999/02/22-rdf-syntax-ns#type\n",
      "http://example.com/kad/hasName\n",
      "Predicate:http://example.com/kad/hasName\n",
      "Predicate:http://www.w3.org/2000/01/rdf-schema#range\n",
      "Predicate:http://www.w3.org/2000/01/rdf-schema#range\n",
      "Predicate:http://www.w3.org/2000/01/rdf-schema#subClassOf\n"
     ]
    }
   ],
   "source": [
    "for s,p,o in g:\n",
    "    if type(o) is Literal:\n",
    "        print(p)\n",
    "\n",
    "    print(f\"Predicate:{p}\")"
   ]
  },
  {
   "cell_type": "markdown",
   "metadata": {},
   "source": [
    "### - Task 1: (10 Points) Add information to an RDF graph"
   ]
  },
  {
   "cell_type": "markdown",
   "metadata": {},
   "source": [
    "Add triples to the knowledge graph. Make sure that they have the right namespaces. \n",
    "\n",
    "Similarily to the triples already present in the file 'example-from-slides.ttl':\n",
    "- add at least three new countries with their name and capital \n",
    "- add at least one triple with the neighbour predicate\n",
    "\n",
    "Check: http://rdflib.readthedocs.io/en/stable/intro_to_creating_rdf.html\n",
    "\n",
    "Remember that ```a``` is Turtle shorthand for ```rdf:type```."
   ]
  },
  {
   "cell_type": "code",
   "execution_count": 7,
   "metadata": {},
   "outputs": [
    {
     "name": "stdout",
     "output_type": "stream",
     "text": [
      "@prefix ex1: <http://example.com/kad/> .\n",
      "@prefix rdfs: <http://www.w3.org/2000/01/rdf-schema#> .\n",
      "\n",
      "ex1:Germany a ex1:EuropeanCountry ;\n",
      "    ex1:neighbors ex1:France .\n",
      "\n",
      "ex1:Netherlands a ex1:Country ;\n",
      "    ex1:hasCapital ex1:Amsterdam ;\n",
      "    ex1:hasName \"The Netherlands\" ;\n",
      "    ex1:neighbours ex1:Belgium .\n",
      "\n",
      "ex1:Russia ex1:hasCapital ex1:Moscow ;\n",
      "    ex1:hasName \"Russian Federation\" .\n",
      "\n",
      "ex1:Turkey ex1:hasCapital ex1:Ankara ;\n",
      "    ex1:hasName \"Republic of Turkey\" .\n",
      "\n",
      "ex1:Ukraine ex1:hasCapital ex1:Kiev ;\n",
      "    ex1:hasName \"Ukraine\" .\n",
      "\n",
      "ex1:hasCapital rdfs:range ex1:Capital ;\n",
      "    rdfs:subPropertyOf ex1:containsCity .\n",
      "\n",
      "ex1:Amsterdam a ex1:Capital .\n",
      "\n",
      "ex1:Belgium a ex1:Country .\n",
      "\n",
      "ex1:EuropeanCountry rdfs:subClassOf ex1:Country .\n",
      "\n",
      "ex1:containsCity rdfs:domain ex1:Country ;\n",
      "    rdfs:range ex1:City .\n",
      "\n",
      "ex1:Capital rdfs:subClassOf ex1:City .\n",
      "\n",
      "\n"
     ]
    }
   ],
   "source": [
    "ex = Namespace(\"http://example.com/kad/\")\n",
    "owl = Namespace(\"http://www.w3.org/2002/07/owl#\")\n",
    "rdf = Namespace(\"http://www.w3.org/1999/02/22-rdf-syntax-ns#\")\n",
    "rdfs = Namespace(\"http://www.w3.org/2000/01/rdf-schema#\")\n",
    "\n",
    "\n",
    "\n",
    "# add triples here to the graph 'g' (do not forget the namespaces).\n",
    "\n",
    "g.add((ex.Ukraine, ex.hasCapital, ex.Kiev))\n",
    "g.add((ex.Russia, ex.hasCapital, ex.Moscow))\n",
    "g.add((ex.Turkey, ex.hasCapital, ex.Ankara))\n",
    "\n",
    "g.add((ex.Ukraine, ex.hasName, Literal(\"Ukraine\")))\n",
    "g.add((ex.Russia, ex.hasName, Literal(\"Russian Federation\")))\n",
    "g.add((ex.Turkey, ex.hasName, Literal(\"Republic of Turkey\")))\n",
    "\n",
    "g.add((ex.Germany, ex.neighbors, ex.France))\n",
    "\n",
    "\n",
    "# g.add(())\n",
    "serialize_graph()\n"
   ]
  },
  {
   "cell_type": "markdown",
   "metadata": {},
   "source": [
    "*After you ran the previous code (adding triples) the next cells will be executed on your extended graph. That is ok.*"
   ]
  },
  {
   "cell_type": "markdown",
   "metadata": {},
   "source": [
    "### - Task 2a: (10 Points) Get unstructured information from an RDF graph (all Literals)"
   ]
  },
  {
   "cell_type": "markdown",
   "metadata": {},
   "source": [
    "Use the functions available in the RDFLib library. Write a small function to print all Literals. \n",
    "\n",
    "Hint: there is a function in rdflib to test the type of an object (check previous examples in this notebook)"
   ]
  },
  {
   "cell_type": "code",
   "execution_count": 8,
   "metadata": {},
   "outputs": [
    {
     "name": "stdout",
     "output_type": "stream",
     "text": [
      "Russian Federation\n",
      "Ukraine\n",
      "Republic of Turkey\n",
      "The Netherlands\n"
     ]
    }
   ],
   "source": [
    "from typing import List\n",
    "\n",
    "for s,p,o in g:\n",
    "    if type(o) == Literal:\n",
    "        print(o)"
   ]
  },
  {
   "cell_type": "markdown",
   "metadata": {},
   "source": [
    "### - Task 2b: (10 Points) Get structured information from an RDF graph (all unique Predicates)"
   ]
  },
  {
   "cell_type": "markdown",
   "metadata": {},
   "source": [
    "Please provide another function that gives a **unique** list of the predicates, ordered by occurrence (most occurring first). The answer will look like similar to this: \n",
    "<br>http://www.w3.org/2000/01/rdf-schema#label\n",
    "<br>http://www.w3.org/1999/02/22-rdf-syntax-ns#type\n",
    "<br>http://example.com/sw2016/locatedIn\n",
    "<br>http://www.w3.org/2000/01/rdf-schema#range"
   ]
  },
  {
   "cell_type": "code",
   "execution_count": 9,
   "metadata": {},
   "outputs": [
    {
     "name": "stdout",
     "output_type": "stream",
     "text": [
      "['http://example.com/kad/hasCapital' 'http://example.com/kad/hasName'\n",
      " 'http://example.com/kad/neighbors' 'http://example.com/kad/neighbours'\n",
      " 'http://www.w3.org/1999/02/22-rdf-syntax-ns#type'\n",
      " 'http://www.w3.org/2000/01/rdf-schema#domain'\n",
      " 'http://www.w3.org/2000/01/rdf-schema#range'\n",
      " 'http://www.w3.org/2000/01/rdf-schema#subClassOf'\n",
      " 'http://www.w3.org/2000/01/rdf-schema#subPropertyOf']\n"
     ]
    }
   ],
   "source": [
    "import numpy as np\n",
    "predicates: list = []\n",
    "for s,p,o in g:\n",
    "    predicates.append(p)\n",
    "predicates = np.unique(predicates)\n",
    "print(predicates)"
   ]
  },
  {
   "cell_type": "markdown",
   "metadata": {},
   "source": [
    "# B. Tasks related to Graph visualisations "
   ]
  },
  {
   "cell_type": "markdown",
   "metadata": {},
   "source": [
    "### - Task 3a: (20 Points) From RDF to .dot \n"
   ]
  },
  {
   "cell_type": "markdown",
   "metadata": {},
   "source": [
    "In the lecture, we have seen two ways of writing a knowledge graph (simple n-triples, and simple turtle). Let us consider a 3rd syntax, this time a syntax that is useful for visualisation. One standard for visualising graphs is the .dot format.\n",
    "\n",
    "Print the knowledge graph in .dot file format. Check https://graphviz.gitlab.io/documentation/ and https://graphviz.readthedocs.io/en/stable/ for the documentation. You will only need very little of this information, and the most relevant information can be found in the examples that are given. \n",
    "\n",
    "<br>Basically, an RDF graph in .dot format starts with \n",
    "<br>digraph G { \n",
    "    and then a list of links of the following form \n",
    "<br>s -> o [label=\"p\"]\n",
    "    for every (s p o ) in KG (separated by ;\n",
    "<br>Do not forget to end with a closing bracket. }\n",
    "\n",
    "An example is \n",
    "     \n",
    "     digraph G { s1 -> o1 [label=\"p1\"] ; s2 -> o2 [label=\"p2\"] } \n",
    "     \n",
    "for an RDF graph {(s1 p1 o1),(s2 p2 o2)}"
   ]
  },
  {
   "cell_type": "markdown",
   "metadata": {},
   "source": [
    "First, create an auxiliary function which strips the namespaces from URIs. This is necessary to make the node names readable when visualizing the .dot graph. Make sure that literals are enclosed by quotation marks. Hint: use `'\"...\"'` or `\"\\\"...\\\"\"` to insert quotation marks in Python strings."
   ]
  },
  {
   "cell_type": "code",
   "execution_count": 10,
   "metadata": {},
   "outputs": [
    {
     "name": "stdout",
     "output_type": "stream",
     "text": [
      "Requirement already satisfied: graphviz in /home/alex/Downloads/Downloads/envs/newest_version/lib/python3.11/site-packages (0.20.1)\n",
      "Note: you may need to restart the kernel to use updated packages.\n"
     ]
    }
   ],
   "source": [
    "# install and import the graphviz library\n",
    "%pip install graphviz\n",
    "import graphviz"
   ]
  },
  {
   "cell_type": "code",
   "execution_count": 11,
   "metadata": {},
   "outputs": [],
   "source": [
    "def strip(e):\n",
    "    # 'http://www.example.org/pizza' should become 'pizza'\n",
    "    string: str = \"\"\n",
    "    for char in e[::-1]:\n",
    "        if char == \"/\": # Appearantly 'or char == \"#\"' is not needed anymore\n",
    "            break\n",
    "        else:\n",
    "            string+= char\n",
    "    return string[::-1]\n",
    "\n",
    "# strip(\"http://www.example.org/pizza\")"
   ]
  },
  {
   "cell_type": "code",
   "execution_count": 90,
   "metadata": {},
   "outputs": [
    {
     "data": {
      "text/plain": [
       "'# TEST AREA\\ndot = graphviz.Digraph(comment=\"The Round Table\")\\ndot.node(\"A\",\"King Arthur\")\\ndot.node(\"B\",\"Sir Bedevere the Wise\")\\ndot.node(\"L\", \"Sir Lancelot the Brave\")\\n\\ndot.edges([\"AB\",\"AL\"])\\ndot.edge(\"B\",\"L\")\\n\\nprint(dot)'"
      ]
     },
     "execution_count": 90,
     "metadata": {},
     "output_type": "execute_result"
    }
   ],
   "source": [
    "\"\"\"# TEST AREA\n",
    "dot = graphviz.Digraph(comment=\"The Round Table\")\n",
    "dot.node(\"A\",\"King Arthur\")\n",
    "dot.node(\"B\",\"Sir Bedevere the Wise\")\n",
    "dot.node(\"L\", \"Sir Lancelot the Brave\")\n",
    "\n",
    "dot.edges([\"AB\",\"AL\"])\n",
    "dot.edge(\"B\",\"L\")\n",
    "\n",
    "print(dot)\"\"\""
   ]
  },
  {
   "cell_type": "markdown",
   "metadata": {},
   "source": [
    "Next, convert your graph to the .dot format."
   ]
  },
  {
   "cell_type": "code",
   "execution_count": 12,
   "metadata": {},
   "outputs": [],
   "source": [
    "dot = graphviz.Digraph(strict=True, graph_attr={\"dpi\":\"75\"})  # adjust dpi to scale graph\n",
    "for s,p,o in g:\n",
    "    # Your code here (see the documentation)\n",
    "    dot.edge(strip(s),strip(o),strip(p))"
   ]
  },
  {
   "cell_type": "markdown",
   "metadata": {},
   "source": [
    "View the end result as .dot syntax and as a graph:"
   ]
  },
  {
   "cell_type": "code",
   "execution_count": 13,
   "metadata": {},
   "outputs": [
    {
     "name": "stdout",
     "output_type": "stream",
     "text": [
      "strict digraph {\n",
      "\tgraph [dpi=75]\n",
      "\tAmsterdam -> Capital [label=\"22-rdf-syntax-ns#type\"]\n",
      "\thasCapital -> containsCity [label=\"rdf-schema#subPropertyOf\"]\n",
      "\tBelgium -> Country [label=\"22-rdf-syntax-ns#type\"]\n",
      "\tTurkey -> Ankara [label=hasCapital]\n",
      "\tRussia -> \"Russian Federation\" [label=hasName]\n",
      "\tRussia -> Moscow [label=hasCapital]\n",
      "\tNetherlands -> Belgium [label=neighbours]\n",
      "\tGermany -> France [label=neighbors]\n",
      "\thasCapital -> Capital [label=\"rdf-schema#range\"]\n",
      "\tcontainsCity -> City [label=\"rdf-schema#range\"]\n",
      "\tUkraine -> Kiev [label=hasCapital]\n",
      "\tCapital -> City [label=\"rdf-schema#subClassOf\"]\n",
      "\tUkraine -> Ukraine [label=hasName]\n",
      "\tEuropeanCountry -> Country [label=\"rdf-schema#subClassOf\"]\n",
      "\tNetherlands -> Amsterdam [label=hasCapital]\n",
      "\tcontainsCity -> Country [label=\"rdf-schema#domain\"]\n",
      "\tTurkey -> \"Republic of Turkey\" [label=hasName]\n",
      "\tNetherlands -> Country [label=\"22-rdf-syntax-ns#type\"]\n",
      "\tGermany -> EuropeanCountry [label=\"22-rdf-syntax-ns#type\"]\n",
      "\tNetherlands -> \"The Netherlands\" [label=hasName]\n",
      "}\n",
      "\n"
     ]
    },
    {
     "data": {
      "image/svg+xml": [
       "<?xml version=\"1.0\" encoding=\"UTF-8\" standalone=\"no\"?>\n",
       "<!DOCTYPE svg PUBLIC \"-//W3C//DTD SVG 1.1//EN\"\n",
       " \"http://www.w3.org/Graphics/SVG/1.1/DTD/svg11.dtd\">\n",
       "<!-- Generated by graphviz version 2.43.0 (0)\n",
       " -->\n",
       "<!-- Title: %3 Pages: 1 -->\n",
       "<svg width=\"2225pt\" height=\"318pt\"\n",
       " viewBox=\"0.00 0.00 2135.89 305.00\" xmlns=\"http://www.w3.org/2000/svg\" xmlns:xlink=\"http://www.w3.org/1999/xlink\">\n",
       "<g id=\"graph0\" class=\"graph\" transform=\"scale(0.96 0.96) rotate(0) translate(4 301)\">\n",
       "<title>%3</title>\n",
       "<polygon fill=\"white\" stroke=\"transparent\" points=\"-4,4 -4,-301 2131.89,-301 2131.89,4 -4,4\"/>\n",
       "<!-- Amsterdam -->\n",
       "<g id=\"node1\" class=\"node\">\n",
       "<title>Amsterdam</title>\n",
       "<ellipse fill=\"none\" stroke=\"black\" cx=\"383.79\" cy=\"-192\" rx=\"64.19\" ry=\"18\"/>\n",
       "<text text-anchor=\"middle\" x=\"383.79\" y=\"-188.3\" font-family=\"Times,serif\" font-size=\"14.00\">Amsterdam</text>\n",
       "</g>\n",
       "<!-- Capital -->\n",
       "<g id=\"node2\" class=\"node\">\n",
       "<title>Capital</title>\n",
       "<ellipse fill=\"none\" stroke=\"black\" cx=\"386.79\" cy=\"-105\" rx=\"44.39\" ry=\"18\"/>\n",
       "<text text-anchor=\"middle\" x=\"386.79\" y=\"-101.3\" font-family=\"Times,serif\" font-size=\"14.00\">Capital</text>\n",
       "</g>\n",
       "<!-- Amsterdam&#45;&gt;Capital -->\n",
       "<g id=\"edge1\" class=\"edge\">\n",
       "<title>Amsterdam&#45;&gt;Capital</title>\n",
       "<path fill=\"none\" stroke=\"black\" d=\"M384.4,-173.8C384.81,-162.16 385.36,-146.55 385.83,-133.24\"/>\n",
       "<polygon fill=\"black\" stroke=\"black\" points=\"389.33,-133.29 386.19,-123.18 382.34,-133.05 389.33,-133.29\"/>\n",
       "<text text-anchor=\"middle\" x=\"465.29\" y=\"-144.8\" font-family=\"Times,serif\" font-size=\"14.00\">22&#45;rdf&#45;syntax&#45;ns#type</text>\n",
       "</g>\n",
       "<!-- City -->\n",
       "<g id=\"node15\" class=\"node\">\n",
       "<title>City</title>\n",
       "<ellipse fill=\"none\" stroke=\"black\" cx=\"207.79\" cy=\"-18\" rx=\"29.8\" ry=\"18\"/>\n",
       "<text text-anchor=\"middle\" x=\"207.79\" y=\"-14.3\" font-family=\"Times,serif\" font-size=\"14.00\">City</text>\n",
       "</g>\n",
       "<!-- Capital&#45;&gt;City -->\n",
       "<g id=\"edge12\" class=\"edge\">\n",
       "<title>Capital&#45;&gt;City</title>\n",
       "<path fill=\"none\" stroke=\"black\" d=\"M359.22,-90.91C326.95,-75.58 273.61,-50.25 239.61,-34.11\"/>\n",
       "<polygon fill=\"black\" stroke=\"black\" points=\"241.11,-30.94 230.57,-29.82 238.1,-37.27 241.11,-30.94\"/>\n",
       "<text text-anchor=\"middle\" x=\"394.79\" y=\"-57.8\" font-family=\"Times,serif\" font-size=\"14.00\">rdf&#45;schema#subClassOf</text>\n",
       "</g>\n",
       "<!-- hasCapital -->\n",
       "<g id=\"node3\" class=\"node\">\n",
       "<title>hasCapital</title>\n",
       "<ellipse fill=\"none\" stroke=\"black\" cx=\"59.79\" cy=\"-279\" rx=\"59.59\" ry=\"18\"/>\n",
       "<text text-anchor=\"middle\" x=\"59.79\" y=\"-275.3\" font-family=\"Times,serif\" font-size=\"14.00\">hasCapital</text>\n",
       "</g>\n",
       "<!-- hasCapital&#45;&gt;Capital -->\n",
       "<g id=\"edge9\" class=\"edge\">\n",
       "<title>hasCapital&#45;&gt;Capital</title>\n",
       "<path fill=\"none\" stroke=\"black\" d=\"M42.51,-261.62C21.42,-239.66 -8.78,-200.41 13.79,-174 61.16,-118.6 267.09,-140.68 337.79,-123 340.41,-122.35 343.08,-121.61 345.76,-120.83\"/>\n",
       "<polygon fill=\"black\" stroke=\"black\" points=\"346.91,-124.14 355.41,-117.81 344.82,-117.45 346.91,-124.14\"/>\n",
       "<text text-anchor=\"middle\" x=\"80.29\" y=\"-188.3\" font-family=\"Times,serif\" font-size=\"14.00\">rdf&#45;schema#range</text>\n",
       "</g>\n",
       "<!-- containsCity -->\n",
       "<g id=\"node4\" class=\"node\">\n",
       "<title>containsCity</title>\n",
       "<ellipse fill=\"none\" stroke=\"black\" cx=\"224.79\" cy=\"-192\" rx=\"68.79\" ry=\"18\"/>\n",
       "<text text-anchor=\"middle\" x=\"224.79\" y=\"-188.3\" font-family=\"Times,serif\" font-size=\"14.00\">containsCity</text>\n",
       "</g>\n",
       "<!-- hasCapital&#45;&gt;containsCity -->\n",
       "<g id=\"edge2\" class=\"edge\">\n",
       "<title>hasCapital&#45;&gt;containsCity</title>\n",
       "<path fill=\"none\" stroke=\"black\" d=\"M88.54,-263.19C115.56,-249.27 156.22,-228.32 186.1,-212.94\"/>\n",
       "<polygon fill=\"black\" stroke=\"black\" points=\"187.71,-216.04 194.99,-208.35 184.5,-209.82 187.71,-216.04\"/>\n",
       "<text text-anchor=\"middle\" x=\"250.79\" y=\"-231.8\" font-family=\"Times,serif\" font-size=\"14.00\">rdf&#45;schema#subPropertyOf</text>\n",
       "</g>\n",
       "<!-- Country -->\n",
       "<g id=\"node6\" class=\"node\">\n",
       "<title>Country</title>\n",
       "<ellipse fill=\"none\" stroke=\"black\" cx=\"708.79\" cy=\"-105\" rx=\"48.19\" ry=\"18\"/>\n",
       "<text text-anchor=\"middle\" x=\"708.79\" y=\"-101.3\" font-family=\"Times,serif\" font-size=\"14.00\">Country</text>\n",
       "</g>\n",
       "<!-- containsCity&#45;&gt;Country -->\n",
       "<g id=\"edge16\" class=\"edge\">\n",
       "<title>containsCity&#45;&gt;Country</title>\n",
       "<path fill=\"none\" stroke=\"black\" d=\"M224.48,-173.98C225.26,-162.84 228.29,-148.93 237.79,-141 241.73,-137.71 527.35,-118.18 651.84,-109.8\"/>\n",
       "<polygon fill=\"black\" stroke=\"black\" points=\"652.2,-113.29 661.94,-109.13 651.73,-106.3 652.2,-113.29\"/>\n",
       "<text text-anchor=\"middle\" x=\"309.79\" y=\"-144.8\" font-family=\"Times,serif\" font-size=\"14.00\">rdf&#45;schema#domain</text>\n",
       "</g>\n",
       "<!-- containsCity&#45;&gt;City -->\n",
       "<g id=\"edge10\" class=\"edge\">\n",
       "<title>containsCity&#45;&gt;City</title>\n",
       "<path fill=\"none\" stroke=\"black\" d=\"M217.02,-174.1C211.25,-160.6 203.88,-141.02 200.79,-123 196.35,-97.06 199.22,-67.03 202.52,-45.93\"/>\n",
       "<polygon fill=\"black\" stroke=\"black\" points=\"205.97,-46.5 204.2,-36.06 199.07,-45.33 205.97,-46.5\"/>\n",
       "<text text-anchor=\"middle\" x=\"267.29\" y=\"-101.3\" font-family=\"Times,serif\" font-size=\"14.00\">rdf&#45;schema#range</text>\n",
       "</g>\n",
       "<!-- Belgium -->\n",
       "<g id=\"node5\" class=\"node\">\n",
       "<title>Belgium</title>\n",
       "<ellipse fill=\"none\" stroke=\"black\" cx=\"710.79\" cy=\"-192\" rx=\"49.29\" ry=\"18\"/>\n",
       "<text text-anchor=\"middle\" x=\"710.79\" y=\"-188.3\" font-family=\"Times,serif\" font-size=\"14.00\">Belgium</text>\n",
       "</g>\n",
       "<!-- Belgium&#45;&gt;Country -->\n",
       "<g id=\"edge3\" class=\"edge\">\n",
       "<title>Belgium&#45;&gt;Country</title>\n",
       "<path fill=\"none\" stroke=\"black\" d=\"M672.67,-180.49C651.74,-173.87 628.84,-164.91 622.79,-156 610.2,-137.43 632.53,-124.84 657.59,-116.93\"/>\n",
       "<polygon fill=\"black\" stroke=\"black\" points=\"658.63,-120.27 667.26,-114.13 656.68,-113.55 658.63,-120.27\"/>\n",
       "<text text-anchor=\"middle\" x=\"702.29\" y=\"-144.8\" font-family=\"Times,serif\" font-size=\"14.00\">22&#45;rdf&#45;syntax&#45;ns#type</text>\n",
       "</g>\n",
       "<!-- Turkey -->\n",
       "<g id=\"node7\" class=\"node\">\n",
       "<title>Turkey</title>\n",
       "<ellipse fill=\"none\" stroke=\"black\" cx=\"1431.79\" cy=\"-279\" rx=\"42.79\" ry=\"18\"/>\n",
       "<text text-anchor=\"middle\" x=\"1431.79\" y=\"-275.3\" font-family=\"Times,serif\" font-size=\"14.00\">Turkey</text>\n",
       "</g>\n",
       "<!-- Ankara -->\n",
       "<g id=\"node8\" class=\"node\">\n",
       "<title>Ankara</title>\n",
       "<ellipse fill=\"none\" stroke=\"black\" cx=\"1351.79\" cy=\"-192\" rx=\"43.59\" ry=\"18\"/>\n",
       "<text text-anchor=\"middle\" x=\"1351.79\" y=\"-188.3\" font-family=\"Times,serif\" font-size=\"14.00\">Ankara</text>\n",
       "</g>\n",
       "<!-- Turkey&#45;&gt;Ankara -->\n",
       "<g id=\"edge4\" class=\"edge\">\n",
       "<title>Turkey&#45;&gt;Ankara</title>\n",
       "<path fill=\"none\" stroke=\"black\" d=\"M1416.75,-262.01C1404.68,-249.19 1387.57,-231.01 1373.94,-216.52\"/>\n",
       "<polygon fill=\"black\" stroke=\"black\" points=\"1376.18,-213.8 1366.77,-208.92 1371.08,-218.6 1376.18,-213.8\"/>\n",
       "<text text-anchor=\"middle\" x=\"1433.79\" y=\"-231.8\" font-family=\"Times,serif\" font-size=\"14.00\">hasCapital</text>\n",
       "</g>\n",
       "<!-- Republic of Turkey -->\n",
       "<g id=\"node19\" class=\"node\">\n",
       "<title>Republic of Turkey</title>\n",
       "<ellipse fill=\"none\" stroke=\"black\" cx=\"1511.79\" cy=\"-192\" rx=\"98.28\" ry=\"18\"/>\n",
       "<text text-anchor=\"middle\" x=\"1511.79\" y=\"-188.3\" font-family=\"Times,serif\" font-size=\"14.00\">Republic of Turkey</text>\n",
       "</g>\n",
       "<!-- Turkey&#45;&gt;Republic of Turkey -->\n",
       "<g id=\"edge17\" class=\"edge\">\n",
       "<title>Turkey&#45;&gt;Republic of Turkey</title>\n",
       "<path fill=\"none\" stroke=\"black\" d=\"M1452.95,-263.07C1460.54,-257.23 1468.93,-250.21 1475.79,-243 1482.84,-235.61 1489.64,-226.78 1495.39,-218.61\"/>\n",
       "<polygon fill=\"black\" stroke=\"black\" points=\"1498.45,-220.33 1501.19,-210.1 1492.67,-216.39 1498.45,-220.33\"/>\n",
       "<text text-anchor=\"middle\" x=\"1521.29\" y=\"-231.8\" font-family=\"Times,serif\" font-size=\"14.00\">hasName</text>\n",
       "</g>\n",
       "<!-- Russia -->\n",
       "<g id=\"node9\" class=\"node\">\n",
       "<title>Russia</title>\n",
       "<ellipse fill=\"none\" stroke=\"black\" cx=\"1807.79\" cy=\"-279\" rx=\"41.69\" ry=\"18\"/>\n",
       "<text text-anchor=\"middle\" x=\"1807.79\" y=\"-275.3\" font-family=\"Times,serif\" font-size=\"14.00\">Russia</text>\n",
       "</g>\n",
       "<!-- Russian Federation -->\n",
       "<g id=\"node10\" class=\"node\">\n",
       "<title>Russian Federation</title>\n",
       "<ellipse fill=\"none\" stroke=\"black\" cx=\"1728.79\" cy=\"-192\" rx=\"100.98\" ry=\"18\"/>\n",
       "<text text-anchor=\"middle\" x=\"1728.79\" y=\"-188.3\" font-family=\"Times,serif\" font-size=\"14.00\">Russian Federation</text>\n",
       "</g>\n",
       "<!-- Russia&#45;&gt;Russian Federation -->\n",
       "<g id=\"edge5\" class=\"edge\">\n",
       "<title>Russia&#45;&gt;Russian Federation</title>\n",
       "<path fill=\"none\" stroke=\"black\" d=\"M1792.94,-262.01C1781.24,-249.43 1764.76,-231.7 1751.43,-217.35\"/>\n",
       "<polygon fill=\"black\" stroke=\"black\" points=\"1753.77,-214.73 1744.4,-209.79 1748.64,-219.5 1753.77,-214.73\"/>\n",
       "<text text-anchor=\"middle\" x=\"1806.29\" y=\"-231.8\" font-family=\"Times,serif\" font-size=\"14.00\">hasName</text>\n",
       "</g>\n",
       "<!-- Moscow -->\n",
       "<g id=\"node11\" class=\"node\">\n",
       "<title>Moscow</title>\n",
       "<ellipse fill=\"none\" stroke=\"black\" cx=\"1895.79\" cy=\"-192\" rx=\"48.19\" ry=\"18\"/>\n",
       "<text text-anchor=\"middle\" x=\"1895.79\" y=\"-188.3\" font-family=\"Times,serif\" font-size=\"14.00\">Moscow</text>\n",
       "</g>\n",
       "<!-- Russia&#45;&gt;Moscow -->\n",
       "<g id=\"edge6\" class=\"edge\">\n",
       "<title>Russia&#45;&gt;Moscow</title>\n",
       "<path fill=\"none\" stroke=\"black\" d=\"M1823.94,-262.41C1837.29,-249.51 1856.45,-231 1871.64,-216.34\"/>\n",
       "<polygon fill=\"black\" stroke=\"black\" points=\"1874.4,-218.53 1879.16,-209.07 1869.53,-213.5 1874.4,-218.53\"/>\n",
       "<text text-anchor=\"middle\" x=\"1894.79\" y=\"-231.8\" font-family=\"Times,serif\" font-size=\"14.00\">hasCapital</text>\n",
       "</g>\n",
       "<!-- Netherlands -->\n",
       "<g id=\"node12\" class=\"node\">\n",
       "<title>Netherlands</title>\n",
       "<ellipse fill=\"none\" stroke=\"black\" cx=\"613.79\" cy=\"-279\" rx=\"68.49\" ry=\"18\"/>\n",
       "<text text-anchor=\"middle\" x=\"613.79\" y=\"-275.3\" font-family=\"Times,serif\" font-size=\"14.00\">Netherlands</text>\n",
       "</g>\n",
       "<!-- Netherlands&#45;&gt;Amsterdam -->\n",
       "<g id=\"edge15\" class=\"edge\">\n",
       "<title>Netherlands&#45;&gt;Amsterdam</title>\n",
       "<path fill=\"none\" stroke=\"black\" d=\"M566.97,-265.83C544.85,-259.67 518.22,-251.67 494.79,-243 470.56,-234.03 444.15,-222.22 423.18,-212.33\"/>\n",
       "<polygon fill=\"black\" stroke=\"black\" points=\"424.48,-209.08 413.95,-207.94 421.48,-215.4 424.48,-209.08\"/>\n",
       "<text text-anchor=\"middle\" x=\"532.79\" y=\"-231.8\" font-family=\"Times,serif\" font-size=\"14.00\">hasCapital</text>\n",
       "</g>\n",
       "<!-- Netherlands&#45;&gt;Belgium -->\n",
       "<g id=\"edge7\" class=\"edge\">\n",
       "<title>Netherlands&#45;&gt;Belgium</title>\n",
       "<path fill=\"none\" stroke=\"black\" d=\"M632.5,-261.61C647.35,-248.59 668.3,-230.24 684.79,-215.79\"/>\n",
       "<polygon fill=\"black\" stroke=\"black\" points=\"687.26,-218.27 692.48,-209.05 682.65,-213.01 687.26,-218.27\"/>\n",
       "<text text-anchor=\"middle\" x=\"709.29\" y=\"-231.8\" font-family=\"Times,serif\" font-size=\"14.00\">neighbours</text>\n",
       "</g>\n",
       "<!-- Netherlands&#45;&gt;Country -->\n",
       "<g id=\"edge18\" class=\"edge\">\n",
       "<title>Netherlands&#45;&gt;Country</title>\n",
       "<path fill=\"none\" stroke=\"black\" d=\"M679.22,-273.8C704.84,-269.25 733.01,-260.32 753.79,-243 789.91,-212.91 806.84,-180.78 781.79,-141 775.95,-131.71 766.87,-124.83 757.09,-119.76\"/>\n",
       "<polygon fill=\"black\" stroke=\"black\" points=\"758.52,-116.57 747.97,-115.59 755.61,-122.93 758.52,-116.57\"/>\n",
       "<text text-anchor=\"middle\" x=\"873.29\" y=\"-188.3\" font-family=\"Times,serif\" font-size=\"14.00\">22&#45;rdf&#45;syntax&#45;ns#type</text>\n",
       "</g>\n",
       "<!-- The Netherlands -->\n",
       "<g id=\"node20\" class=\"node\">\n",
       "<title>The Netherlands</title>\n",
       "<ellipse fill=\"none\" stroke=\"black\" cx=\"554.79\" cy=\"-192\" rx=\"88.28\" ry=\"18\"/>\n",
       "<text text-anchor=\"middle\" x=\"554.79\" y=\"-188.3\" font-family=\"Times,serif\" font-size=\"14.00\">The Netherlands</text>\n",
       "</g>\n",
       "<!-- Netherlands&#45;&gt;The Netherlands -->\n",
       "<g id=\"edge20\" class=\"edge\">\n",
       "<title>Netherlands&#45;&gt;The Netherlands</title>\n",
       "<path fill=\"none\" stroke=\"black\" d=\"M598.5,-261.42C593.57,-255.75 588.24,-249.27 583.79,-243 578.45,-235.47 573.2,-226.9 568.67,-219\"/>\n",
       "<polygon fill=\"black\" stroke=\"black\" points=\"571.66,-217.16 563.72,-210.14 565.55,-220.58 571.66,-217.16\"/>\n",
       "<text text-anchor=\"middle\" x=\"617.29\" y=\"-231.8\" font-family=\"Times,serif\" font-size=\"14.00\">hasName</text>\n",
       "</g>\n",
       "<!-- Germany -->\n",
       "<g id=\"node13\" class=\"node\">\n",
       "<title>Germany</title>\n",
       "<ellipse fill=\"none\" stroke=\"black\" cx=\"1151.79\" cy=\"-279\" rx=\"53.09\" ry=\"18\"/>\n",
       "<text text-anchor=\"middle\" x=\"1151.79\" y=\"-275.3\" font-family=\"Times,serif\" font-size=\"14.00\">Germany</text>\n",
       "</g>\n",
       "<!-- France -->\n",
       "<g id=\"node14\" class=\"node\">\n",
       "<title>France</title>\n",
       "<ellipse fill=\"none\" stroke=\"black\" cx=\"1247.79\" cy=\"-192\" rx=\"42.79\" ry=\"18\"/>\n",
       "<text text-anchor=\"middle\" x=\"1247.79\" y=\"-188.3\" font-family=\"Times,serif\" font-size=\"14.00\">France</text>\n",
       "</g>\n",
       "<!-- Germany&#45;&gt;France -->\n",
       "<g id=\"edge8\" class=\"edge\">\n",
       "<title>Germany&#45;&gt;France</title>\n",
       "<path fill=\"none\" stroke=\"black\" d=\"M1189.7,-266.2C1202.42,-260.75 1215.88,-253.19 1225.79,-243 1232.16,-236.45 1236.86,-227.76 1240.23,-219.45\"/>\n",
       "<polygon fill=\"black\" stroke=\"black\" points=\"1243.52,-220.63 1243.61,-210.04 1236.94,-218.27 1243.52,-220.63\"/>\n",
       "<text text-anchor=\"middle\" x=\"1272.79\" y=\"-231.8\" font-family=\"Times,serif\" font-size=\"14.00\">neighbors</text>\n",
       "</g>\n",
       "<!-- EuropeanCountry -->\n",
       "<g id=\"node18\" class=\"node\">\n",
       "<title>EuropeanCountry</title>\n",
       "<ellipse fill=\"none\" stroke=\"black\" cx=\"1065.79\" cy=\"-192\" rx=\"92.88\" ry=\"18\"/>\n",
       "<text text-anchor=\"middle\" x=\"1065.79\" y=\"-188.3\" font-family=\"Times,serif\" font-size=\"14.00\">EuropeanCountry</text>\n",
       "</g>\n",
       "<!-- Germany&#45;&gt;EuropeanCountry -->\n",
       "<g id=\"edge19\" class=\"edge\">\n",
       "<title>Germany&#45;&gt;EuropeanCountry</title>\n",
       "<path fill=\"none\" stroke=\"black\" d=\"M1106.06,-269.67C1091.05,-264.56 1075.9,-256.3 1066.79,-243 1062.29,-236.42 1060.89,-228.14 1060.95,-220.21\"/>\n",
       "<polygon fill=\"black\" stroke=\"black\" points=\"1064.44,-220.41 1061.72,-210.17 1057.46,-219.87 1064.44,-220.41\"/>\n",
       "<text text-anchor=\"middle\" x=\"1146.29\" y=\"-231.8\" font-family=\"Times,serif\" font-size=\"14.00\">22&#45;rdf&#45;syntax&#45;ns#type</text>\n",
       "</g>\n",
       "<!-- Ukraine -->\n",
       "<g id=\"node16\" class=\"node\">\n",
       "<title>Ukraine</title>\n",
       "<ellipse fill=\"none\" stroke=\"black\" cx=\"1994.79\" cy=\"-279\" rx=\"48.19\" ry=\"18\"/>\n",
       "<text text-anchor=\"middle\" x=\"1994.79\" y=\"-275.3\" font-family=\"Times,serif\" font-size=\"14.00\">Ukraine</text>\n",
       "</g>\n",
       "<!-- Ukraine&#45;&gt;Ukraine -->\n",
       "<g id=\"edge13\" class=\"edge\">\n",
       "<title>Ukraine&#45;&gt;Ukraine</title>\n",
       "<path fill=\"none\" stroke=\"black\" d=\"M2038.34,-286.85C2051.05,-286.58 2060.89,-283.96 2060.89,-279 2060.89,-275.51 2056.02,-273.18 2048.72,-272.01\"/>\n",
       "<polygon fill=\"black\" stroke=\"black\" points=\"2048.59,-268.49 2038.34,-271.15 2048.01,-275.46 2048.59,-268.49\"/>\n",
       "<text text-anchor=\"middle\" x=\"2094.39\" y=\"-275.3\" font-family=\"Times,serif\" font-size=\"14.00\">hasName</text>\n",
       "</g>\n",
       "<!-- Kiev -->\n",
       "<g id=\"node17\" class=\"node\">\n",
       "<title>Kiev</title>\n",
       "<ellipse fill=\"none\" stroke=\"black\" cx=\"1994.79\" cy=\"-192\" rx=\"31.4\" ry=\"18\"/>\n",
       "<text text-anchor=\"middle\" x=\"1994.79\" y=\"-188.3\" font-family=\"Times,serif\" font-size=\"14.00\">Kiev</text>\n",
       "</g>\n",
       "<!-- Ukraine&#45;&gt;Kiev -->\n",
       "<g id=\"edge11\" class=\"edge\">\n",
       "<title>Ukraine&#45;&gt;Kiev</title>\n",
       "<path fill=\"none\" stroke=\"black\" d=\"M1994.79,-260.8C1994.79,-249.16 1994.79,-233.55 1994.79,-220.24\"/>\n",
       "<polygon fill=\"black\" stroke=\"black\" points=\"1998.29,-220.18 1994.79,-210.18 1991.29,-220.18 1998.29,-220.18\"/>\n",
       "<text text-anchor=\"middle\" x=\"2032.79\" y=\"-231.8\" font-family=\"Times,serif\" font-size=\"14.00\">hasCapital</text>\n",
       "</g>\n",
       "<!-- EuropeanCountry&#45;&gt;Country -->\n",
       "<g id=\"edge14\" class=\"edge\">\n",
       "<title>EuropeanCountry&#45;&gt;Country</title>\n",
       "<path fill=\"none\" stroke=\"black\" d=\"M1009.62,-177.63C940.42,-161.15 823.96,-133.42 758.09,-117.74\"/>\n",
       "<polygon fill=\"black\" stroke=\"black\" points=\"758.89,-114.33 748.35,-115.42 757.27,-121.14 758.89,-114.33\"/>\n",
       "<text text-anchor=\"middle\" x=\"994.79\" y=\"-144.8\" font-family=\"Times,serif\" font-size=\"14.00\">rdf&#45;schema#subClassOf</text>\n",
       "</g>\n",
       "</g>\n",
       "</svg>\n"
      ],
      "text/plain": [
       "<graphviz.graphs.Digraph at 0x7f74e6acf410>"
      ]
     },
     "execution_count": 13,
     "metadata": {},
     "output_type": "execute_result"
    }
   ],
   "source": [
    "print(dot.source)\n",
    "dot  # try dot.view() if this does not produce anything (or paste the source at www.webgraphviz.com)"
   ]
  },
  {
   "cell_type": "markdown",
   "metadata": {},
   "source": [
    "### - Task 3b: (10 Points) From RDF to .dot with \"semantic information\""
   ]
  },
  {
   "cell_type": "markdown",
   "metadata": {},
   "source": [
    "There is a conceptual distinction between properties, instances and classes (sets of instances). A simple way of checking is the following\n",
    "\n",
    "1. in a triple (s a o), with predicate a (which is a special abbreviation for the predicate rdf:type), the s is an Instance, and o is a Class. \n",
    "2. in a triple (s rdfs:subClassOf o) both s and o are Classes. \n",
    "3. in a triple (p rdfs:domain o) p is a Property and o is a Class. \n",
    "4. in a triple (p rdfs:range o)  p is a Property and o is a Class. \n",
    "\n",
    "Update the .dot representation for an RDF graph that:\n",
    "\n",
    "- renders all predicates that are defined in the RDF namespace as dotted lines,\n",
    "- renders all classes as rectangles,\n",
    "- renders all literals as plain text (no enclosure), and\n",
    "- renders all entities with the color blue. \n",
    "\n",
    "Check how your graph looks once finished. Hint: you can use the `color`, `shape` and `style` attributes in the node and edge function (see the documentation)."
   ]
  },
  {
   "cell_type": "code",
   "execution_count": 14,
   "metadata": {},
   "outputs": [
    {
     "name": "stdout",
     "output_type": "stream",
     "text": [
      "strict digraph {\n",
      "\tgraph [dpi=75]\n",
      "\tAmsterdam -> Capital [label=\"22-rdf-syntax-ns#type\"]\n",
      "\thasCapital -> containsCity [label=\"rdf-schema#subPropertyOf\"]\n",
      "\tBelgium -> Country [label=\"22-rdf-syntax-ns#type\"]\n",
      "\tTurkey -> Ankara [label=hasCapital]\n",
      "\tRussia -> \"Russian Federation\" [label=hasName]\n",
      "\tRussia -> Moscow [label=hasCapital]\n",
      "\tNetherlands -> Belgium [label=neighbours]\n",
      "\tGermany -> France [label=neighbors]\n",
      "\thasCapital -> Capital [label=\"rdf-schema#range\"]\n",
      "\tcontainsCity -> City [label=\"rdf-schema#range\"]\n",
      "\tUkraine -> Kiev [label=hasCapital]\n",
      "\tCapital -> City [label=\"rdf-schema#subClassOf\"]\n",
      "\tUkraine -> Ukraine [label=hasName]\n",
      "\tEuropeanCountry -> Country [label=\"rdf-schema#subClassOf\"]\n",
      "\tNetherlands -> Amsterdam [label=hasCapital]\n",
      "\tcontainsCity -> Country [label=\"rdf-schema#domain\"]\n",
      "\tTurkey -> \"Republic of Turkey\" [label=hasName]\n",
      "\tNetherlands -> Country [label=\"22-rdf-syntax-ns#type\"]\n",
      "\tGermany -> EuropeanCountry [label=\"22-rdf-syntax-ns#type\"]\n",
      "\tNetherlands -> \"The Netherlands\" [label=hasName]\n",
      "\tAmsterdam [color=blue]\n",
      "\tAmsterdam -> Capital [label=\"22-rdf-syntax-ns#type\" style=dotted]\n",
      "\thasCapital [color=blue]\n",
      "\thasCapital -> containsCity [label=\"rdf-schema#subPropertyOf\" style=dotted]\n",
      "\tBelgium [color=blue]\n",
      "\tBelgium -> Country [label=\"22-rdf-syntax-ns#type\" style=dotted]\n",
      "\tTurkey [color=blue]\n",
      "\tRussia [color=blue]\n",
      "\tRussia [color=blue]\n",
      "\tNetherlands [color=blue]\n",
      "\tGermany [color=blue]\n",
      "\thasCapital [color=blue]\n",
      "\thasCapital -> Capital [label=\"rdf-schema#range\" style=dotted]\n",
      "\tcontainsCity [color=blue]\n",
      "\tcontainsCity -> City [label=\"rdf-schema#range\" style=dotted]\n",
      "\tUkraine [color=blue]\n",
      "\tCapital [color=blue]\n",
      "\tCapital [shape=rectangle]\n",
      "\tCity [shape=rectangle]\n",
      "\tCapital -> City [label=\"rdf-schema#subClassOf\" style=dotted]\n",
      "\tUkraine [color=blue]\n",
      "\tEuropeanCountry [color=blue]\n",
      "\tEuropeanCountry [shape=rectangle]\n",
      "\tCountry [shape=rectangle]\n",
      "\tEuropeanCountry -> Country [label=\"rdf-schema#subClassOf\" style=dotted]\n",
      "\tNetherlands [color=blue]\n",
      "\tcontainsCity [color=blue]\n",
      "\tcontainsCity -> Country [label=\"rdf-schema#domain\" style=dotted]\n",
      "\tTurkey [color=blue]\n",
      "\tNetherlands [color=blue]\n",
      "\tNetherlands -> Country [label=\"22-rdf-syntax-ns#type\" style=dotted]\n",
      "\tGermany [color=blue]\n",
      "\tGermany -> EuropeanCountry [label=\"22-rdf-syntax-ns#type\" style=dotted]\n",
      "\tNetherlands [color=blue]\n",
      "}\n",
      "\n"
     ]
    },
    {
     "data": {
      "image/svg+xml": [
       "<?xml version=\"1.0\" encoding=\"UTF-8\" standalone=\"no\"?>\n",
       "<!DOCTYPE svg PUBLIC \"-//W3C//DTD SVG 1.1//EN\"\n",
       " \"http://www.w3.org/Graphics/SVG/1.1/DTD/svg11.dtd\">\n",
       "<!-- Generated by graphviz version 2.43.0 (0)\n",
       " -->\n",
       "<!-- Title: %3 Pages: 1 -->\n",
       "<svg width=\"2203pt\" height=\"318pt\"\n",
       " viewBox=\"0.00 0.00 2114.89 305.00\" xmlns=\"http://www.w3.org/2000/svg\" xmlns:xlink=\"http://www.w3.org/1999/xlink\">\n",
       "<g id=\"graph0\" class=\"graph\" transform=\"scale(0.96 0.96) rotate(0) translate(4 301)\">\n",
       "<title>%3</title>\n",
       "<polygon fill=\"white\" stroke=\"transparent\" points=\"-4,4 -4,-301 2110.89,-301 2110.89,4 -4,4\"/>\n",
       "<!-- Amsterdam -->\n",
       "<g id=\"node1\" class=\"node\">\n",
       "<title>Amsterdam</title>\n",
       "<ellipse fill=\"none\" stroke=\"blue\" cx=\"383.79\" cy=\"-192\" rx=\"64.19\" ry=\"18\"/>\n",
       "<text text-anchor=\"middle\" x=\"383.79\" y=\"-188.3\" font-family=\"Times,serif\" font-size=\"14.00\">Amsterdam</text>\n",
       "</g>\n",
       "<!-- Capital -->\n",
       "<g id=\"node2\" class=\"node\">\n",
       "<title>Capital</title>\n",
       "<polygon fill=\"none\" stroke=\"blue\" points=\"410.79,-123 342.79,-123 342.79,-87 410.79,-87 410.79,-123\"/>\n",
       "<text text-anchor=\"middle\" x=\"376.79\" y=\"-101.3\" font-family=\"Times,serif\" font-size=\"14.00\">Capital</text>\n",
       "</g>\n",
       "<!-- Amsterdam&#45;&gt;Capital -->\n",
       "<g id=\"edge1\" class=\"edge\">\n",
       "<title>Amsterdam&#45;&gt;Capital</title>\n",
       "<path fill=\"none\" stroke=\"black\" stroke-dasharray=\"1,5\" d=\"M382.38,-173.8C381.42,-162.16 380.13,-146.55 379.04,-133.24\"/>\n",
       "<polygon fill=\"black\" stroke=\"black\" points=\"382.52,-132.85 378.21,-123.18 375.54,-133.43 382.52,-132.85\"/>\n",
       "<text text-anchor=\"middle\" x=\"460.29\" y=\"-144.8\" font-family=\"Times,serif\" font-size=\"14.00\">22&#45;rdf&#45;syntax&#45;ns#type</text>\n",
       "</g>\n",
       "<!-- City -->\n",
       "<g id=\"node15\" class=\"node\">\n",
       "<title>City</title>\n",
       "<polygon fill=\"none\" stroke=\"black\" points=\"234.79,-36 180.79,-36 180.79,0 234.79,0 234.79,-36\"/>\n",
       "<text text-anchor=\"middle\" x=\"207.79\" y=\"-14.3\" font-family=\"Times,serif\" font-size=\"14.00\">City</text>\n",
       "</g>\n",
       "<!-- Capital&#45;&gt;City -->\n",
       "<g id=\"edge12\" class=\"edge\">\n",
       "<title>Capital&#45;&gt;City</title>\n",
       "<path fill=\"none\" stroke=\"black\" stroke-dasharray=\"1,5\" d=\"M342.6,-86.8C313.96,-72.4 273.21,-51.9 244.03,-37.22\"/>\n",
       "<polygon fill=\"black\" stroke=\"black\" points=\"245.49,-34.04 234.99,-32.68 242.35,-40.3 245.49,-34.04\"/>\n",
       "<text text-anchor=\"middle\" x=\"388.79\" y=\"-57.8\" font-family=\"Times,serif\" font-size=\"14.00\">rdf&#45;schema#subClassOf</text>\n",
       "</g>\n",
       "<!-- hasCapital -->\n",
       "<g id=\"node3\" class=\"node\">\n",
       "<title>hasCapital</title>\n",
       "<ellipse fill=\"none\" stroke=\"blue\" cx=\"59.79\" cy=\"-279\" rx=\"59.59\" ry=\"18\"/>\n",
       "<text text-anchor=\"middle\" x=\"59.79\" y=\"-275.3\" font-family=\"Times,serif\" font-size=\"14.00\">hasCapital</text>\n",
       "</g>\n",
       "<!-- hasCapital&#45;&gt;Capital -->\n",
       "<g id=\"edge9\" class=\"edge\">\n",
       "<title>hasCapital&#45;&gt;Capital</title>\n",
       "<path fill=\"none\" stroke=\"black\" stroke-dasharray=\"1,5\" d=\"M42.52,-261.62C21.44,-239.68 -8.76,-200.43 13.79,-174 59.16,-120.83 251.1,-141.38 332.68,-123.96\"/>\n",
       "<polygon fill=\"black\" stroke=\"black\" points=\"333.66,-127.33 342.52,-121.51 331.97,-120.53 333.66,-127.33\"/>\n",
       "<text text-anchor=\"middle\" x=\"80.29\" y=\"-188.3\" font-family=\"Times,serif\" font-size=\"14.00\">rdf&#45;schema#range</text>\n",
       "</g>\n",
       "<!-- containsCity -->\n",
       "<g id=\"node4\" class=\"node\">\n",
       "<title>containsCity</title>\n",
       "<ellipse fill=\"none\" stroke=\"blue\" cx=\"224.79\" cy=\"-192\" rx=\"68.79\" ry=\"18\"/>\n",
       "<text text-anchor=\"middle\" x=\"224.79\" y=\"-188.3\" font-family=\"Times,serif\" font-size=\"14.00\">containsCity</text>\n",
       "</g>\n",
       "<!-- hasCapital&#45;&gt;containsCity -->\n",
       "<g id=\"edge2\" class=\"edge\">\n",
       "<title>hasCapital&#45;&gt;containsCity</title>\n",
       "<path fill=\"none\" stroke=\"black\" stroke-dasharray=\"1,5\" d=\"M88.54,-263.19C115.56,-249.27 156.22,-228.32 186.1,-212.94\"/>\n",
       "<polygon fill=\"black\" stroke=\"black\" points=\"187.71,-216.04 194.99,-208.35 184.5,-209.82 187.71,-216.04\"/>\n",
       "<text text-anchor=\"middle\" x=\"250.79\" y=\"-231.8\" font-family=\"Times,serif\" font-size=\"14.00\">rdf&#45;schema#subPropertyOf</text>\n",
       "</g>\n",
       "<!-- Country -->\n",
       "<g id=\"node6\" class=\"node\">\n",
       "<title>Country</title>\n",
       "<polygon fill=\"none\" stroke=\"black\" points=\"745.79,-123 671.79,-123 671.79,-87 745.79,-87 745.79,-123\"/>\n",
       "<text text-anchor=\"middle\" x=\"708.79\" y=\"-101.3\" font-family=\"Times,serif\" font-size=\"14.00\">Country</text>\n",
       "</g>\n",
       "<!-- containsCity&#45;&gt;Country -->\n",
       "<g id=\"edge16\" class=\"edge\">\n",
       "<title>containsCity&#45;&gt;Country</title>\n",
       "<path fill=\"none\" stroke=\"black\" stroke-dasharray=\"1,5\" d=\"M222.62,-173.67C222.28,-162.69 223.99,-149.09 232.79,-141 240.64,-133.8 542.75,-115.6 661.53,-108.7\"/>\n",
       "<polygon fill=\"black\" stroke=\"black\" points=\"661.99,-112.18 671.77,-108.11 661.58,-105.19 661.99,-112.18\"/>\n",
       "<text text-anchor=\"middle\" x=\"304.79\" y=\"-144.8\" font-family=\"Times,serif\" font-size=\"14.00\">rdf&#45;schema#domain</text>\n",
       "</g>\n",
       "<!-- containsCity&#45;&gt;City -->\n",
       "<g id=\"edge10\" class=\"edge\">\n",
       "<title>containsCity&#45;&gt;City</title>\n",
       "<path fill=\"none\" stroke=\"black\" stroke-dasharray=\"1,5\" d=\"M217.02,-174.1C211.25,-160.6 203.88,-141.02 200.79,-123 196.35,-97.06 199.22,-67.03 202.52,-45.93\"/>\n",
       "<polygon fill=\"black\" stroke=\"black\" points=\"205.97,-46.5 204.2,-36.06 199.07,-45.33 205.97,-46.5\"/>\n",
       "<text text-anchor=\"middle\" x=\"267.29\" y=\"-101.3\" font-family=\"Times,serif\" font-size=\"14.00\">rdf&#45;schema#range</text>\n",
       "</g>\n",
       "<!-- Belgium -->\n",
       "<g id=\"node5\" class=\"node\">\n",
       "<title>Belgium</title>\n",
       "<ellipse fill=\"none\" stroke=\"blue\" cx=\"710.79\" cy=\"-192\" rx=\"49.29\" ry=\"18\"/>\n",
       "<text text-anchor=\"middle\" x=\"710.79\" y=\"-188.3\" font-family=\"Times,serif\" font-size=\"14.00\">Belgium</text>\n",
       "</g>\n",
       "<!-- Belgium&#45;&gt;Country -->\n",
       "<g id=\"edge3\" class=\"edge\">\n",
       "<title>Belgium&#45;&gt;Country</title>\n",
       "<path fill=\"none\" stroke=\"black\" stroke-dasharray=\"1,5\" d=\"M672.67,-180.49C651.74,-173.87 628.84,-164.91 622.79,-156 609.5,-136.4 635.13,-123.45 661.8,-115.65\"/>\n",
       "<polygon fill=\"black\" stroke=\"black\" points=\"662.86,-118.99 671.6,-113.01 661.04,-112.23 662.86,-118.99\"/>\n",
       "<text text-anchor=\"middle\" x=\"702.29\" y=\"-144.8\" font-family=\"Times,serif\" font-size=\"14.00\">22&#45;rdf&#45;syntax&#45;ns#type</text>\n",
       "</g>\n",
       "<!-- Turkey -->\n",
       "<g id=\"node7\" class=\"node\">\n",
       "<title>Turkey</title>\n",
       "<ellipse fill=\"none\" stroke=\"blue\" cx=\"1410.79\" cy=\"-279\" rx=\"42.79\" ry=\"18\"/>\n",
       "<text text-anchor=\"middle\" x=\"1410.79\" y=\"-275.3\" font-family=\"Times,serif\" font-size=\"14.00\">Turkey</text>\n",
       "</g>\n",
       "<!-- Ankara -->\n",
       "<g id=\"node8\" class=\"node\">\n",
       "<title>Ankara</title>\n",
       "<ellipse fill=\"none\" stroke=\"black\" cx=\"1330.79\" cy=\"-192\" rx=\"43.59\" ry=\"18\"/>\n",
       "<text text-anchor=\"middle\" x=\"1330.79\" y=\"-188.3\" font-family=\"Times,serif\" font-size=\"14.00\">Ankara</text>\n",
       "</g>\n",
       "<!-- Turkey&#45;&gt;Ankara -->\n",
       "<g id=\"edge4\" class=\"edge\">\n",
       "<title>Turkey&#45;&gt;Ankara</title>\n",
       "<path fill=\"none\" stroke=\"black\" d=\"M1395.75,-262.01C1383.68,-249.19 1366.57,-231.01 1352.94,-216.52\"/>\n",
       "<polygon fill=\"black\" stroke=\"black\" points=\"1355.18,-213.8 1345.77,-208.92 1350.08,-218.6 1355.18,-213.8\"/>\n",
       "<text text-anchor=\"middle\" x=\"1412.79\" y=\"-231.8\" font-family=\"Times,serif\" font-size=\"14.00\">hasCapital</text>\n",
       "</g>\n",
       "<!-- Republic of Turkey -->\n",
       "<g id=\"node19\" class=\"node\">\n",
       "<title>Republic of Turkey</title>\n",
       "<ellipse fill=\"none\" stroke=\"black\" cx=\"1490.79\" cy=\"-192\" rx=\"98.28\" ry=\"18\"/>\n",
       "<text text-anchor=\"middle\" x=\"1490.79\" y=\"-188.3\" font-family=\"Times,serif\" font-size=\"14.00\">Republic of Turkey</text>\n",
       "</g>\n",
       "<!-- Turkey&#45;&gt;Republic of Turkey -->\n",
       "<g id=\"edge17\" class=\"edge\">\n",
       "<title>Turkey&#45;&gt;Republic of Turkey</title>\n",
       "<path fill=\"none\" stroke=\"black\" d=\"M1431.95,-263.07C1439.54,-257.23 1447.93,-250.21 1454.79,-243 1461.84,-235.61 1468.64,-226.78 1474.39,-218.61\"/>\n",
       "<polygon fill=\"black\" stroke=\"black\" points=\"1477.45,-220.33 1480.19,-210.1 1471.67,-216.39 1477.45,-220.33\"/>\n",
       "<text text-anchor=\"middle\" x=\"1500.29\" y=\"-231.8\" font-family=\"Times,serif\" font-size=\"14.00\">hasName</text>\n",
       "</g>\n",
       "<!-- Russia -->\n",
       "<g id=\"node9\" class=\"node\">\n",
       "<title>Russia</title>\n",
       "<ellipse fill=\"none\" stroke=\"blue\" cx=\"1786.79\" cy=\"-279\" rx=\"41.69\" ry=\"18\"/>\n",
       "<text text-anchor=\"middle\" x=\"1786.79\" y=\"-275.3\" font-family=\"Times,serif\" font-size=\"14.00\">Russia</text>\n",
       "</g>\n",
       "<!-- Russian Federation -->\n",
       "<g id=\"node10\" class=\"node\">\n",
       "<title>Russian Federation</title>\n",
       "<ellipse fill=\"none\" stroke=\"black\" cx=\"1707.79\" cy=\"-192\" rx=\"100.98\" ry=\"18\"/>\n",
       "<text text-anchor=\"middle\" x=\"1707.79\" y=\"-188.3\" font-family=\"Times,serif\" font-size=\"14.00\">Russian Federation</text>\n",
       "</g>\n",
       "<!-- Russia&#45;&gt;Russian Federation -->\n",
       "<g id=\"edge5\" class=\"edge\">\n",
       "<title>Russia&#45;&gt;Russian Federation</title>\n",
       "<path fill=\"none\" stroke=\"black\" d=\"M1771.94,-262.01C1760.24,-249.43 1743.76,-231.7 1730.43,-217.35\"/>\n",
       "<polygon fill=\"black\" stroke=\"black\" points=\"1732.77,-214.73 1723.4,-209.79 1727.64,-219.5 1732.77,-214.73\"/>\n",
       "<text text-anchor=\"middle\" x=\"1785.29\" y=\"-231.8\" font-family=\"Times,serif\" font-size=\"14.00\">hasName</text>\n",
       "</g>\n",
       "<!-- Moscow -->\n",
       "<g id=\"node11\" class=\"node\">\n",
       "<title>Moscow</title>\n",
       "<ellipse fill=\"none\" stroke=\"black\" cx=\"1874.79\" cy=\"-192\" rx=\"48.19\" ry=\"18\"/>\n",
       "<text text-anchor=\"middle\" x=\"1874.79\" y=\"-188.3\" font-family=\"Times,serif\" font-size=\"14.00\">Moscow</text>\n",
       "</g>\n",
       "<!-- Russia&#45;&gt;Moscow -->\n",
       "<g id=\"edge6\" class=\"edge\">\n",
       "<title>Russia&#45;&gt;Moscow</title>\n",
       "<path fill=\"none\" stroke=\"black\" d=\"M1802.94,-262.41C1816.29,-249.51 1835.45,-231 1850.64,-216.34\"/>\n",
       "<polygon fill=\"black\" stroke=\"black\" points=\"1853.4,-218.53 1858.16,-209.07 1848.53,-213.5 1853.4,-218.53\"/>\n",
       "<text text-anchor=\"middle\" x=\"1873.79\" y=\"-231.8\" font-family=\"Times,serif\" font-size=\"14.00\">hasCapital</text>\n",
       "</g>\n",
       "<!-- Netherlands -->\n",
       "<g id=\"node12\" class=\"node\">\n",
       "<title>Netherlands</title>\n",
       "<ellipse fill=\"none\" stroke=\"blue\" cx=\"613.79\" cy=\"-279\" rx=\"68.49\" ry=\"18\"/>\n",
       "<text text-anchor=\"middle\" x=\"613.79\" y=\"-275.3\" font-family=\"Times,serif\" font-size=\"14.00\">Netherlands</text>\n",
       "</g>\n",
       "<!-- Netherlands&#45;&gt;Amsterdam -->\n",
       "<g id=\"edge15\" class=\"edge\">\n",
       "<title>Netherlands&#45;&gt;Amsterdam</title>\n",
       "<path fill=\"none\" stroke=\"black\" d=\"M566.97,-265.83C544.85,-259.67 518.22,-251.67 494.79,-243 470.56,-234.03 444.15,-222.22 423.18,-212.33\"/>\n",
       "<polygon fill=\"black\" stroke=\"black\" points=\"424.48,-209.08 413.95,-207.94 421.48,-215.4 424.48,-209.08\"/>\n",
       "<text text-anchor=\"middle\" x=\"532.79\" y=\"-231.8\" font-family=\"Times,serif\" font-size=\"14.00\">hasCapital</text>\n",
       "</g>\n",
       "<!-- Netherlands&#45;&gt;Belgium -->\n",
       "<g id=\"edge7\" class=\"edge\">\n",
       "<title>Netherlands&#45;&gt;Belgium</title>\n",
       "<path fill=\"none\" stroke=\"black\" d=\"M632.5,-261.61C647.35,-248.59 668.3,-230.24 684.79,-215.79\"/>\n",
       "<polygon fill=\"black\" stroke=\"black\" points=\"687.26,-218.27 692.48,-209.05 682.65,-213.01 687.26,-218.27\"/>\n",
       "<text text-anchor=\"middle\" x=\"709.29\" y=\"-231.8\" font-family=\"Times,serif\" font-size=\"14.00\">neighbours</text>\n",
       "</g>\n",
       "<!-- Netherlands&#45;&gt;Country -->\n",
       "<g id=\"edge18\" class=\"edge\">\n",
       "<title>Netherlands&#45;&gt;Country</title>\n",
       "<path fill=\"none\" stroke=\"black\" stroke-dasharray=\"1,5\" d=\"M679.22,-273.8C704.84,-269.25 733.01,-260.32 753.79,-243 789.91,-212.91 806.84,-180.78 781.79,-141 775.6,-131.16 765.78,-124.02 755.33,-118.87\"/>\n",
       "<polygon fill=\"black\" stroke=\"black\" points=\"756.62,-115.61 746.05,-114.83 753.83,-122.03 756.62,-115.61\"/>\n",
       "<text text-anchor=\"middle\" x=\"873.29\" y=\"-188.3\" font-family=\"Times,serif\" font-size=\"14.00\">22&#45;rdf&#45;syntax&#45;ns#type</text>\n",
       "</g>\n",
       "<!-- The Netherlands -->\n",
       "<g id=\"node20\" class=\"node\">\n",
       "<title>The Netherlands</title>\n",
       "<ellipse fill=\"none\" stroke=\"black\" cx=\"554.79\" cy=\"-192\" rx=\"88.28\" ry=\"18\"/>\n",
       "<text text-anchor=\"middle\" x=\"554.79\" y=\"-188.3\" font-family=\"Times,serif\" font-size=\"14.00\">The Netherlands</text>\n",
       "</g>\n",
       "<!-- Netherlands&#45;&gt;The Netherlands -->\n",
       "<g id=\"edge20\" class=\"edge\">\n",
       "<title>Netherlands&#45;&gt;The Netherlands</title>\n",
       "<path fill=\"none\" stroke=\"black\" d=\"M598.5,-261.42C593.57,-255.75 588.24,-249.27 583.79,-243 578.45,-235.47 573.2,-226.9 568.67,-219\"/>\n",
       "<polygon fill=\"black\" stroke=\"black\" points=\"571.66,-217.16 563.72,-210.14 565.55,-220.58 571.66,-217.16\"/>\n",
       "<text text-anchor=\"middle\" x=\"617.29\" y=\"-231.8\" font-family=\"Times,serif\" font-size=\"14.00\">hasName</text>\n",
       "</g>\n",
       "<!-- Germany -->\n",
       "<g id=\"node13\" class=\"node\">\n",
       "<title>Germany</title>\n",
       "<ellipse fill=\"none\" stroke=\"blue\" cx=\"1130.79\" cy=\"-279\" rx=\"53.09\" ry=\"18\"/>\n",
       "<text text-anchor=\"middle\" x=\"1130.79\" y=\"-275.3\" font-family=\"Times,serif\" font-size=\"14.00\">Germany</text>\n",
       "</g>\n",
       "<!-- France -->\n",
       "<g id=\"node14\" class=\"node\">\n",
       "<title>France</title>\n",
       "<ellipse fill=\"none\" stroke=\"black\" cx=\"1226.79\" cy=\"-192\" rx=\"42.79\" ry=\"18\"/>\n",
       "<text text-anchor=\"middle\" x=\"1226.79\" y=\"-188.3\" font-family=\"Times,serif\" font-size=\"14.00\">France</text>\n",
       "</g>\n",
       "<!-- Germany&#45;&gt;France -->\n",
       "<g id=\"edge8\" class=\"edge\">\n",
       "<title>Germany&#45;&gt;France</title>\n",
       "<path fill=\"none\" stroke=\"black\" d=\"M1168.7,-266.2C1181.42,-260.75 1194.88,-253.19 1204.79,-243 1211.16,-236.45 1215.86,-227.76 1219.23,-219.45\"/>\n",
       "<polygon fill=\"black\" stroke=\"black\" points=\"1222.52,-220.63 1222.61,-210.04 1215.94,-218.27 1222.52,-220.63\"/>\n",
       "<text text-anchor=\"middle\" x=\"1251.79\" y=\"-231.8\" font-family=\"Times,serif\" font-size=\"14.00\">neighbors</text>\n",
       "</g>\n",
       "<!-- EuropeanCountry -->\n",
       "<g id=\"node18\" class=\"node\">\n",
       "<title>EuropeanCountry</title>\n",
       "<polygon fill=\"none\" stroke=\"blue\" points=\"1116.29,-210 973.29,-210 973.29,-174 1116.29,-174 1116.29,-210\"/>\n",
       "<text text-anchor=\"middle\" x=\"1044.79\" y=\"-188.3\" font-family=\"Times,serif\" font-size=\"14.00\">EuropeanCountry</text>\n",
       "</g>\n",
       "<!-- Germany&#45;&gt;EuropeanCountry -->\n",
       "<g id=\"edge19\" class=\"edge\">\n",
       "<title>Germany&#45;&gt;EuropeanCountry</title>\n",
       "<path fill=\"none\" stroke=\"black\" stroke-dasharray=\"1,5\" d=\"M1085.06,-269.67C1070.05,-264.56 1054.9,-256.3 1045.79,-243 1041.29,-236.42 1039.89,-228.14 1039.95,-220.21\"/>\n",
       "<polygon fill=\"black\" stroke=\"black\" points=\"1043.44,-220.41 1040.72,-210.17 1036.46,-219.87 1043.44,-220.41\"/>\n",
       "<text text-anchor=\"middle\" x=\"1125.29\" y=\"-231.8\" font-family=\"Times,serif\" font-size=\"14.00\">22&#45;rdf&#45;syntax&#45;ns#type</text>\n",
       "</g>\n",
       "<!-- Ukraine -->\n",
       "<g id=\"node16\" class=\"node\">\n",
       "<title>Ukraine</title>\n",
       "<ellipse fill=\"none\" stroke=\"blue\" cx=\"1973.79\" cy=\"-279\" rx=\"48.19\" ry=\"18\"/>\n",
       "<text text-anchor=\"middle\" x=\"1973.79\" y=\"-275.3\" font-family=\"Times,serif\" font-size=\"14.00\">Ukraine</text>\n",
       "</g>\n",
       "<!-- Ukraine&#45;&gt;Ukraine -->\n",
       "<g id=\"edge13\" class=\"edge\">\n",
       "<title>Ukraine&#45;&gt;Ukraine</title>\n",
       "<path fill=\"none\" stroke=\"black\" d=\"M2017.34,-286.85C2030.05,-286.58 2039.89,-283.96 2039.89,-279 2039.89,-275.51 2035.02,-273.18 2027.72,-272.01\"/>\n",
       "<polygon fill=\"black\" stroke=\"black\" points=\"2027.59,-268.49 2017.34,-271.15 2027.01,-275.46 2027.59,-268.49\"/>\n",
       "<text text-anchor=\"middle\" x=\"2073.39\" y=\"-275.3\" font-family=\"Times,serif\" font-size=\"14.00\">hasName</text>\n",
       "</g>\n",
       "<!-- Kiev -->\n",
       "<g id=\"node17\" class=\"node\">\n",
       "<title>Kiev</title>\n",
       "<ellipse fill=\"none\" stroke=\"black\" cx=\"1973.79\" cy=\"-192\" rx=\"31.4\" ry=\"18\"/>\n",
       "<text text-anchor=\"middle\" x=\"1973.79\" y=\"-188.3\" font-family=\"Times,serif\" font-size=\"14.00\">Kiev</text>\n",
       "</g>\n",
       "<!-- Ukraine&#45;&gt;Kiev -->\n",
       "<g id=\"edge11\" class=\"edge\">\n",
       "<title>Ukraine&#45;&gt;Kiev</title>\n",
       "<path fill=\"none\" stroke=\"black\" d=\"M1973.79,-260.8C1973.79,-249.16 1973.79,-233.55 1973.79,-220.24\"/>\n",
       "<polygon fill=\"black\" stroke=\"black\" points=\"1977.29,-220.18 1973.79,-210.18 1970.29,-220.18 1977.29,-220.18\"/>\n",
       "<text text-anchor=\"middle\" x=\"2011.79\" y=\"-231.8\" font-family=\"Times,serif\" font-size=\"14.00\">hasCapital</text>\n",
       "</g>\n",
       "<!-- EuropeanCountry&#45;&gt;Country -->\n",
       "<g id=\"edge14\" class=\"edge\">\n",
       "<title>EuropeanCountry&#45;&gt;Country</title>\n",
       "<path fill=\"none\" stroke=\"black\" stroke-dasharray=\"1,5\" d=\"M977.2,-173.9C911.58,-157.3 813.67,-132.53 756.02,-117.95\"/>\n",
       "<polygon fill=\"black\" stroke=\"black\" points=\"756.64,-114.49 746.08,-115.43 754.92,-121.28 756.64,-114.49\"/>\n",
       "<text text-anchor=\"middle\" x=\"983.79\" y=\"-144.8\" font-family=\"Times,serif\" font-size=\"14.00\">rdf&#45;schema#subClassOf</text>\n",
       "</g>\n",
       "</g>\n",
       "</svg>\n"
      ],
      "text/plain": [
       "<graphviz.graphs.Digraph at 0x7f74e6acf410>"
      ]
     },
     "execution_count": 14,
     "metadata": {},
     "output_type": "execute_result"
    }
   ],
   "source": [
    "for s,p,o in g:\n",
    "    dot.node(strip(s), color=\"blue\")  # all subjects are entities\n",
    "    if \"rdf\" in p:\n",
    "        if strip(p) == \"type\":\n",
    "            dot.node(strip(o), shape = \"rectangle\")\n",
    "        \n",
    "        elif \"subClassOf\" in strip(p):\n",
    "            dot.node(strip(s), shape = \"rectangle\")\n",
    "            dot.node(strip(o), shape = \"rectangle\")\n",
    "\n",
    "       \n",
    "        dot.edge(strip(s),strip(o), strip(p), style = \"dotted\")\n",
    "\n",
    "print(dot)\n",
    "dot\n"
   ]
  },
  {
   "cell_type": "markdown",
   "metadata": {},
   "source": [
    "### - Task 4: (10 Points) Deriving implicit knowledge (a bit of schema)\n",
    "\n",
    "We will look into Schema information in the latter modules, but let us try already to find some implicit information in a first bit of inferencing: whenever there are two statements (s rdf:type o) and (o rdfs:subClassOf o2) we can derive (and later prove) that (s rdf:type o2). \n",
    "\n",
    "Write a procedure that adds all implied triples to our knowledge graph, and which prints each implied triple."
   ]
  },
  {
   "cell_type": "code",
   "execution_count": 94,
   "metadata": {},
   "outputs": [
    {
     "name": "stdout",
     "output_type": "stream",
     "text": [
      "Requirement already satisfied: regex in /home/alex/Downloads/Downloads/envs/newest_version/lib/python3.11/site-packages (2023.8.8)\n",
      "Note: you may need to restart the kernel to use updated packages.\n"
     ]
    }
   ],
   "source": [
    "%pip install regex"
   ]
  },
  {
   "cell_type": "code",
   "execution_count": 19,
   "metadata": {},
   "outputs": [
    {
     "name": "stdout",
     "output_type": "stream",
     "text": [
      "Amsterdam -> Capital [City]\n",
      "Germany -> EuropeanCountry [Country]\n"
     ]
    }
   ],
   "source": [
    "from typing import Tuple\n",
    "\n",
    "type_statements: List[Tuple[str, str, str]] = []\n",
    "subclass_statements: List[Tuple[str, str, str]] = []\n",
    "implied_triples: list = []\n",
    "\n",
    "for s, p, o in g:\n",
    "    if \"type\" in strip(p).lower() and \"rdf\" in strip(p).lower():\n",
    "        # print(strip(p))\n",
    "        type_statements.append((s,p,o))\n",
    "\n",
    "    elif \"subclass\" in strip(p).lower():\n",
    "        subclass_statements.append((s,p,o))\n",
    "\n",
    "\n",
    "for s1,p1,o1 in type_statements:\n",
    "    for s2,p2,o2 in subclass_statements:\n",
    "        if o1 == s2:\n",
    "            print(f\"{strip(s1)} -> {strip(o1)} [{strip(o2)}]\")\n",
    "            g.add((s1,p1,o2))\n",
    "\n",
    "\n",
    "\n",
    "\n",
    "\n",
    "\n",
    "    \n"
   ]
  },
  {
   "cell_type": "markdown",
   "metadata": {},
   "source": [
    "# C. Tasks related to local copies of external RDF Datasets using SPARQL"
   ]
  },
  {
   "cell_type": "markdown",
   "metadata": {},
   "source": [
    "Until now, we have manipulated local knowledge graphs, but as we claimed in the lectures, the advantage of knowledge graphs is that they can easily be linked with other datasets on the Web. \n",
    "\n",
    "In the remaining 3 tasks, we will manipulate data from the Web, and ask complex queries over this web data. \n",
    "\n",
    "In the first task, we will access web data, make a local copy of it, and then query it. In the other two tasks, we will query live data directly from web Knowledge Graphs (in this case, the SPARQL endpoint of DBPedia). "
   ]
  },
  {
   "cell_type": "markdown",
   "metadata": {},
   "source": [
    "### - Task 5: (10 Points) Show and manipulate data about RDF resources on the Web "
   ]
  },
  {
   "cell_type": "markdown",
   "metadata": {},
   "source": [
    "With rdflib we can easily load a local graph, but we can just as well retrieve a graph from the Web. Here, we will do so using the *requests* library, which allows us to fire a request to any server and/or SPARQL endpoint and to capture the response. The following snippet does so for the resource Netherlands from Dbpedia, by using the 'DESCRIBE' keyword to give us all triples about The Netherlands, and then loads it in a RDFlib Graph object. Note that, in the next assignment, we will learn a more high-level approach that hides most of the raw request details.\n",
    "\n",
    "Should, for some external reason, the code below fail to retrieve the graph from DBpedia, then you can manually load the turtle file `dbpedia_AmsterdamBelgium.ttl` which is located in this directory and which contains the same triples. Only do this as a last resort!"
   ]
  },
  {
   "cell_type": "code",
   "execution_count": 96,
   "metadata": {},
   "outputs": [
    {
     "name": "stdout",
     "output_type": "stream",
     "text": [
      "Requirement already satisfied: requests in /home/alex/Downloads/Downloads/envs/newest_version/lib/python3.11/site-packages (2.31.0)\n",
      "Requirement already satisfied: charset-normalizer<4,>=2 in /home/alex/Downloads/Downloads/envs/newest_version/lib/python3.11/site-packages (from requests) (3.2.0)\n",
      "Requirement already satisfied: idna<4,>=2.5 in /home/alex/Downloads/Downloads/envs/newest_version/lib/python3.11/site-packages (from requests) (3.4)\n",
      "Requirement already satisfied: urllib3<3,>=1.21.1 in /home/alex/Downloads/Downloads/envs/newest_version/lib/python3.11/site-packages (from requests) (2.0.4)\n",
      "Requirement already satisfied: certifi>=2017.4.17 in /home/alex/Downloads/Downloads/envs/newest_version/lib/python3.11/site-packages (from requests) (2023.7.22)\n",
      "Note: you may need to restart the kernel to use updated packages.\n"
     ]
    }
   ],
   "source": [
    "# install the library\n",
    "%pip install requests"
   ]
  },
  {
   "cell_type": "code",
   "execution_count": 97,
   "metadata": {},
   "outputs": [
    {
     "name": "stdout",
     "output_type": "stream",
     "text": [
      "[a rdfg:Graph;rdflib:storage [a rdflib:Store;rdfs:label 'Memory']].\n"
     ]
    }
   ],
   "source": [
    "import requests\n",
    "\n",
    "endpoint = \"https://dbpedia.org/sparql\"\n",
    "query = 'DESCRIBE <http://dbpedia.org/resource/Netherlands>'\n",
    "\n",
    "payload = {'query':query, 'format':'text/turtle'}\n",
    "response = requests.post(endpoint, data = payload)\n",
    "\n",
    "g = Graph()\n",
    "g.parse(data=response.text, format='ttl')\n",
    "print(g)"
   ]
  },
  {
   "cell_type": "markdown",
   "metadata": {},
   "source": [
    "Now do the same for Belgium"
   ]
  },
  {
   "cell_type": "code",
   "execution_count": 98,
   "metadata": {},
   "outputs": [
    {
     "data": {
      "text/plain": [
       "<Graph identifier=Nfca2a7ad057f48be9744216e043898c3 (<class 'rdflib.graph.Graph'>)>"
      ]
     },
     "execution_count": 98,
     "metadata": {},
     "output_type": "execute_result"
    }
   ],
   "source": [
    "query = 'DESCRIBE <http://dbpedia.org/resource/Belgium>'\n",
    "\n",
    "payload = {'query':query, 'format':'text/turtle'}\n",
    "response = requests.post(endpoint, data = payload)\n",
    "\n",
    "g.parse(data=response.text, format='ttl')  # calling parse again merges the graphs"
   ]
  },
  {
   "cell_type": "markdown",
   "metadata": {},
   "source": [
    "Let us start by showing diverse bits of information w.r.t  The Netherlands and Belgium in DBPedia. It is very similar to task 1, but now with Web Data. \n",
    "\n",
    "First, query the graph g (now containing the DBPedia information about both countries) and check which motor ways cross both countries."
   ]
  },
  {
   "cell_type": "code",
   "execution_count": 99,
   "metadata": {},
   "outputs": [],
   "source": [
    "qres = g.query(\n",
    "   \"\"\"\n",
    "    PREFIX dbr: <http://dbpedia.org/resource/>\n",
    "    PREFIX dbo: <http://dbpedia.org/ontology/>\n",
    "    SELECT ?s\n",
    "        WHERE {\n",
    "            ?s a dbo:Road ;\n",
    "               dbo:country dbr:Netherlands ;\n",
    "               dbo:country dbr:Belgium .\n",
    "        }\n",
    "        LIMIT 10\n",
    "       \"\"\")\n",
    "for row in qres:\n",
    "    print(row)"
   ]
  },
  {
   "cell_type": "markdown",
   "metadata": {},
   "source": [
    "Write a query to check whether you can find someone who was born in The Netherlands and died in Belgium? You need to look at the data to know which property you should check for. \n",
    "\n",
    "To get an intuition of what is in the knowledge graph you might want to look at the human readable rendering on : http://dbpedia.org/resource/Netherlands"
   ]
  },
  {
   "cell_type": "code",
   "execution_count": 100,
   "metadata": {
    "scrolled": true
   },
   "outputs": [
    {
     "name": "stdout",
     "output_type": "stream",
     "text": [
      "(rdflib.term.URIRef('http://dbpedia.org/resource/Ben_van_der_Voort'),)\n",
      "(rdflib.term.URIRef('http://dbpedia.org/resource/Bram_Bart'),)\n",
      "(rdflib.term.URIRef('http://dbpedia.org/resource/Petrus_van_Schendel'),)\n",
      "(rdflib.term.URIRef('http://dbpedia.org/resource/Maximilian_von_Fürstenberg'),)\n",
      "(rdflib.term.URIRef('http://dbpedia.org/resource/Salomon_Zeldenrust'),)\n",
      "(rdflib.term.URIRef('http://dbpedia.org/resource/Co_Prins'),)\n",
      "(rdflib.term.URIRef('http://dbpedia.org/resource/Cornelius_van_Zierikzee'),)\n",
      "(rdflib.term.URIRef('http://dbpedia.org/resource/Theo_Middelkamp'),)\n",
      "(rdflib.term.URIRef('http://dbpedia.org/resource/Anne_Vondeling'),)\n",
      "(rdflib.term.URIRef('http://dbpedia.org/resource/Anton_Winterink'),)\n"
     ]
    }
   ],
   "source": [
    "# Your code here\n",
    "qres = g.query(\n",
    "    \"\"\"  \n",
    "    PREFIX dbr: <http://dbpedia.org/resource/>\n",
    "    PREFIX dbo: <http://dbpedia.org/ontology/>\n",
    "\n",
    "    SELECT ?s \n",
    "        WHERE {\n",
    "            ?s dbo:birthPlace dbr:Netherlands;\n",
    "                dbo:deathPlace dbr:Belgium.\n",
    "        }\n",
    "        LIMIT 10\n",
    "        \"\"\"\n",
    ")\n",
    "\n",
    "for row in qres:\n",
    "    print(row)"
   ]
  },
  {
   "cell_type": "markdown",
   "metadata": {},
   "source": [
    "### - Task 6: (20 Points) Ask SPARQL against live data using Yasgui\n",
    "\n",
    "Yasgui (https://yasgui.triply.cc) is a nice graphical interface for asking queries.\n",
    "\n",
    "Run a new query against http://dbpedia.org/sparql that does the following:\n",
    "\n",
    "- Find all languages spoken in countries that are not official languages of that country.\n",
    "- The query should return two colums: the country, and the number of languages.\n",
    "- Order the countries by the number of unofficial languages, from high to low.\n",
    "\n",
    "Note that\n",
    "- Countries are assumed to be of type `dbo:Country`\n",
    "- Languages are assumed to be of type `dbo:Language` (and can be linked by many different predicates)\n",
    "- Official languages are linked using predicate `dbo:officialLanguage`\n",
    "- Not all countries have an official language (in which case we return all linked languages)\n",
    "\n",
    "Hint: there is more than one possible solution. See https://www.w3.org/TR/sparql11-query/ for documentation on SPARQL."
   ]
  },
  {
   "cell_type": "code",
   "execution_count": 101,
   "metadata": {},
   "outputs": [
    {
     "data": {
      "text/plain": [
       "'\\nPREFIX rdf: <http://www.w3.org/1999/02/22-rdf-syntax-ns#>\\nPREFIX rdfs: <http://www.w3.org/2000/01/rdf-schema#>\\nPREFIX dbr: <http://dbpedia.org/resource/>\\nPREFIX dbo: <http://dbpedia.org/ontology/>\\nSELECT ?country (COUNT(?language) as ?languageCount) WHERE {\\n  ?country a dbo:Country.\\n  ?language a dbo:Language.\\n  ?country dbo:officialLanguage ?language.\\n}\\nGROUP BY ?country\\nORDER BY desc(?languageCount)\\nLIMIT 100\\n'"
      ]
     },
     "execution_count": 101,
     "metadata": {},
     "output_type": "execute_result"
    }
   ],
   "source": [
    "'''\n",
    "PREFIX rdf: <http://www.w3.org/1999/02/22-rdf-syntax-ns#>\n",
    "PREFIX rdfs: <http://www.w3.org/2000/01/rdf-schema#>\n",
    "PREFIX dbr: <http://dbpedia.org/resource/>\n",
    "PREFIX dbo: <http://dbpedia.org/ontology/>\n",
    "SELECT ?country (COUNT(?language) as ?languageCount) WHERE {\n",
    "  ?country a dbo:Country.\n",
    "  ?language a dbo:Language.\n",
    "  ?country dbo:officialLanguage ?language.\n",
    "}\n",
    "GROUP BY ?country\n",
    "ORDER BY desc(?languageCount)\n",
    "LIMIT 100\n",
    "'''"
   ]
  }
 ],
 "metadata": {
  "kernelspec": {
   "display_name": "Python 3 (ipykernel)",
   "language": "python",
   "name": "python3"
  },
  "language_info": {
   "codemirror_mode": {
    "name": "ipython",
    "version": 3
   },
   "file_extension": ".py",
   "mimetype": "text/x-python",
   "name": "python",
   "nbconvert_exporter": "python",
   "pygments_lexer": "ipython3",
   "version": "3.11.4"
  }
 },
 "nbformat": 4,
 "nbformat_minor": 4
}
