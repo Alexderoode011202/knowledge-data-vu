{
 "cells": [
  {
   "cell_type": "markdown",
   "metadata": {},
   "source": [
    "# Knowledge and Data: Practical Assignment 2\n",
    "## Manipulate local and external RDF Knowledge Graphs "
   ]
  },
  {
   "cell_type": "markdown",
   "metadata": {},
   "source": [
    "YOUR NAME: Alex de Roode\n",
    "\n",
    "YOUR VUNetID: ARO241\n",
    "\n",
    "*(If you do not provide your name and VUNetID we will not accept your submission).*"
   ]
  },
  {
   "cell_type": "markdown",
   "metadata": {},
   "source": [
    "### Learning objectives"
   ]
  },
  {
   "cell_type": "markdown",
   "metadata": {},
   "source": [
    "At the end of this exercise you should be able to perform some simple manipulations of RDF Data using the rdflib library. You should be able to: \n",
    "\n",
    "1. Add and retrieve information from a local RDF database\n",
    "2. Represent RDF data in other formats, such as the .dot format for graph visualisation\n",
    "3. Retrieve information from an RDF database created from Web Data\n",
    "4. Query information from the Web with SPARQL"
   ]
  },
  {
   "cell_type": "markdown",
   "metadata": {},
   "source": [
    "### Practicalities"
   ]
  },
  {
   "cell_type": "markdown",
   "metadata": {},
   "source": [
    "Follow this Notebook step-by-step. \n",
    "\n",
    "Of course, you can do the exercises in any Programming Editor of your liking. \n",
    "But you do not have to. Feel free to simply write code in the Notebook. When \n",
    "everything is filled in and works, save the Notebook and submit it \n",
    "as a Jupyter Notebook, i.e. with an .ipynb extension. Please use as name of the \n",
    "Notebook your studentID+Assignment2.ipynb.  \n",
    "\n",
    "We will not evaluate the programming style of your solutions. Yet we do look whether your solutions suggests an understanding, and whether they yield the correct output.\n",
    "\n",
    "Note that all notebooks will automatically be checked for plagiarism: while similar answers can be expected, it is not allowed to directly copy the solutions from fellow students or TAs, or from the examples discussed during the lectures. Similarly, sharing your solutions with your peers is not allowed."
   ]
  },
  {
   "cell_type": "markdown",
   "metadata": {},
   "source": [
    "# A. Tasks related to local RDF Knowledge Graphs"
   ]
  },
  {
   "cell_type": "markdown",
   "metadata": {},
   "source": [
    "This first cell will open a file 'example-from-slide.ttl' using the rdflib library. The first Practical Assignment should have taught you that manipulating symbols as strings is a major pain. \n",
    "\n",
    "Programming libraries, such as **rdflib**, help you with this mess once and for all, by parsing the files, creating appropriate datastructures (Graph()) and providing useful functions (such as serialize(), save() and much more). \n",
    "Check the website of rdflib http://rdflib.readthedocs.io/: this library does most of the hard work for you."
   ]
  },
  {
   "cell_type": "code",
   "execution_count": 1,
   "metadata": {},
   "outputs": [
    {
     "name": "stdout",
     "output_type": "stream",
     "text": [
      "Collecting rdflib\n",
      "  Obtaining dependency information for rdflib from https://files.pythonhosted.org/packages/d4/b0/7b7d8b5b0d01f1a0b12cc2e5038a868ef3a15825731b8a0d776cf47566c0/rdflib-7.0.0-py3-none-any.whl.metadata\n",
      "  Downloading rdflib-7.0.0-py3-none-any.whl.metadata (11 kB)\n",
      "Collecting isodate<0.7.0,>=0.6.0 (from rdflib)\n",
      "  Downloading isodate-0.6.1-py2.py3-none-any.whl (41 kB)\n",
      "\u001b[2K     \u001b[90m━━━━━━━━━━━━━━━━━━━━━━━━━━━━━━━━━━━━━━━\u001b[0m \u001b[32m41.7/41.7 kB\u001b[0m \u001b[31m218.1 kB/s\u001b[0m eta \u001b[36m0:00:00\u001b[0m00:01\u001b[0m0:01\u001b[0m\n",
      "\u001b[?25hRequirement already satisfied: pyparsing<4,>=2.1.0 in /home/alex/Downloads/Downloads/envs/newest_version/lib/python3.11/site-packages (from rdflib) (3.0.9)\n",
      "Requirement already satisfied: six in /home/alex/Downloads/Downloads/envs/newest_version/lib/python3.11/site-packages (from isodate<0.7.0,>=0.6.0->rdflib) (1.16.0)\n",
      "Downloading rdflib-7.0.0-py3-none-any.whl (531 kB)\n",
      "\u001b[2K   \u001b[90m━━━━━━━━━━━━━━━━━━━━━━━━━━━━━━━━━━━━━━━━\u001b[0m \u001b[32m531.9/531.9 kB\u001b[0m \u001b[31m1.8 MB/s\u001b[0m eta \u001b[36m0:00:00\u001b[0m00:01\u001b[0m00:01\u001b[0mm\n",
      "\u001b[?25hInstalling collected packages: isodate, rdflib\n",
      "Successfully installed isodate-0.6.1 rdflib-7.0.0\n",
      "Note: you may need to restart the kernel to use updated packages.\n"
     ]
    }
   ],
   "source": [
    "# Before starting with the tasks of this assignment, do not forget to install **rdflib** so we can start using it. \n",
    "%pip install rdflib"
   ]
  },
  {
   "cell_type": "code",
   "execution_count": 2,
   "metadata": {},
   "outputs": [],
   "source": [
    "from rdflib import Graph, RDF, Namespace, Literal, URIRef\n",
    "\n",
    "g = Graph()\n",
    "\n",
    "EX = Namespace('http://example.com/kad0/')\n",
    "g.bind('ex',EX)\n",
    "\n",
    "def serialize_graph():\n",
    "    # g.serialize() returns a string\n",
    "    print(g.serialize(format='turtle'))\n",
    "\n",
    "def save_graph(filename):\n",
    "    with open(filename, 'w') as f:\n",
    "        g.serialize(f, format='nt')\n",
    "        \n",
    "def load_graph(filename):\n",
    "    with open(filename, 'r') as f:\n",
    "        g.parse(f, format='turtle')   "
   ]
  },
  {
   "cell_type": "markdown",
   "metadata": {},
   "source": [
    "The file 'example-from-slides.ttl' formalises the knowledge base from the slides from Module 1, and a bit more. \n",
    "\n",
    "Here is how it looks when you load it into your program and serialise it with rdflib in turtle. "
   ]
  },
  {
   "cell_type": "code",
   "execution_count": 3,
   "metadata": {},
   "outputs": [
    {
     "name": "stdout",
     "output_type": "stream",
     "text": [
      "@prefix ex1: <http://example.com/kad/> .\n",
      "@prefix rdfs: <http://www.w3.org/2000/01/rdf-schema#> .\n",
      "\n",
      "ex1:Germany a ex1:EuropeanCountry .\n",
      "\n",
      "ex1:Netherlands a ex1:Country ;\n",
      "    ex1:hasCapital ex1:Amsterdam ;\n",
      "    ex1:hasName \"The Netherlands\" ;\n",
      "    ex1:neighbours ex1:Belgium .\n",
      "\n",
      "ex1:hasCapital rdfs:range ex1:Capital ;\n",
      "    rdfs:subPropertyOf ex1:containsCity .\n",
      "\n",
      "ex1:Amsterdam a ex1:Capital .\n",
      "\n",
      "ex1:Belgium a ex1:Country .\n",
      "\n",
      "ex1:EuropeanCountry rdfs:subClassOf ex1:Country .\n",
      "\n",
      "ex1:containsCity rdfs:domain ex1:Country ;\n",
      "    rdfs:range ex1:City .\n",
      "\n",
      "ex1:Capital rdfs:subClassOf ex1:City .\n",
      "\n",
      "\n"
     ]
    }
   ],
   "source": [
    "load_graph('example-from-slides.ttl')\n",
    "serialize_graph()"
   ]
  },
  {
   "cell_type": "markdown",
   "metadata": {},
   "source": [
    "Now, we can manipulate the graph very easily, e.g. like in the following very simple function, which returns the predicate(s) that relate a subject to a literal object: "
   ]
  },
  {
   "cell_type": "code",
   "execution_count": 12,
   "metadata": {
    "scrolled": true
   },
   "outputs": [
    {
     "name": "stdout",
     "output_type": "stream",
     "text": [
      "Predicate:http://www.w3.org/1999/02/22-rdf-syntax-ns#type\n",
      "http://example.com/kad/hasName\n",
      "Predicate:http://example.com/kad/hasName\n",
      "Predicate:http://www.w3.org/1999/02/22-rdf-syntax-ns#type\n",
      "Predicate:http://www.w3.org/1999/02/22-rdf-syntax-ns#type\n",
      "Predicate:http://www.w3.org/2000/01/rdf-schema#subClassOf\n",
      "Predicate:http://www.w3.org/2000/01/rdf-schema#range\n",
      "Predicate:http://www.w3.org/2000/01/rdf-schema#subClassOf\n",
      "Predicate:http://example.com/kad/hasCapital\n",
      "Predicate:http://www.w3.org/2000/01/rdf-schema#subPropertyOf\n",
      "Predicate:http://www.w3.org/2000/01/rdf-schema#range\n",
      "Predicate:http://example.com/kad/neighbours\n",
      "Predicate:http://www.w3.org/1999/02/22-rdf-syntax-ns#type\n",
      "Predicate:http://www.w3.org/2000/01/rdf-schema#domain\n"
     ]
    }
   ],
   "source": [
    "for s,p,o in g:\n",
    "    if type(o) is Literal:\n",
    "        print(p)\n",
    "\n",
    "    print(f\"Predicate:{p}\")"
   ]
  },
  {
   "cell_type": "markdown",
   "metadata": {},
   "source": [
    "### - Task 1: (10 Points) Add information to an RDF graph"
   ]
  },
  {
   "cell_type": "markdown",
   "metadata": {},
   "source": [
    "Add triples to the knowledge graph. Make sure that they have the right namespaces. \n",
    "\n",
    "Similarily to the triples already present in the file 'example-from-slides.ttl':\n",
    "- add at least three new countries with their name and capital \n",
    "- add at least one triple with the neighbour predicate\n",
    "\n",
    "Check: http://rdflib.readthedocs.io/en/stable/intro_to_creating_rdf.html\n",
    "\n",
    "Remember that ```a``` is Turtle shorthand for ```rdf:type```."
   ]
  },
  {
   "cell_type": "code",
   "execution_count": 19,
   "metadata": {},
   "outputs": [
    {
     "name": "stdout",
     "output_type": "stream",
     "text": [
      "@prefix ex1: <http://example.com/kad/> .\n",
      "@prefix rdfs: <http://www.w3.org/2000/01/rdf-schema#> .\n",
      "\n",
      "ex1:Germany a ex1:EuropeanCountry ;\n",
      "    ex1:neighbors ex1:France .\n",
      "\n",
      "ex1:Netherlands a ex1:Country ;\n",
      "    ex1:hasCapital ex1:Amsterdam ;\n",
      "    ex1:hasName \"The Netherlands\" ;\n",
      "    ex1:neighbours ex1:Belgium .\n",
      "\n",
      "ex1:Russia ex1:hasCapital ex1:Moscow ;\n",
      "    ex1:hasName \"Russian Federation\" .\n",
      "\n",
      "ex1:Turkey ex1:hasCapital ex1:Ankara ;\n",
      "    ex1:hasName \"Republic of Turkey\" .\n",
      "\n",
      "ex1:Ukraine ex1:hasCapital ex1:Kiev ;\n",
      "    ex1:hasName \"Ukraine\" .\n",
      "\n",
      "ex1:hasCapital rdfs:range ex1:Capital ;\n",
      "    rdfs:subPropertyOf ex1:containsCity .\n",
      "\n",
      "ex1:Amsterdam a ex1:Capital .\n",
      "\n",
      "ex1:Belgium a ex1:Country .\n",
      "\n",
      "ex1:EuropeanCountry rdfs:subClassOf ex1:Country .\n",
      "\n",
      "ex1:containsCity rdfs:domain ex1:Country ;\n",
      "    rdfs:range ex1:City .\n",
      "\n",
      "ex1:Capital rdfs:subClassOf ex1:City .\n",
      "\n",
      "\n"
     ]
    }
   ],
   "source": [
    "ex = Namespace(\"http://example.com/kad/\")\n",
    "owl = Namespace(\"http://www.w3.org/2002/07/owl#\")\n",
    "rdf = Namespace(\"http://www.w3.org/1999/02/22-rdf-syntax-ns#\")\n",
    "rdfs = Namespace(\"http://www.w3.org/2000/01/rdf-schema#\")\n",
    "\n",
    "\n",
    "\n",
    "# add triples here to the graph 'g' (do not forget the namespaces).\n",
    "\n",
    "g.add((ex.Ukraine, ex.hasCapital, ex.Kiev))\n",
    "g.add((ex.Russia, ex.hasCapital, ex.Moscow))\n",
    "g.add((ex.Turkey, ex.hasCapital, ex.Ankara))\n",
    "\n",
    "g.add((ex.Ukraine, ex.hasName, Literal(\"Ukraine\")))\n",
    "g.add((ex.Russia, ex.hasName, Literal(\"Russian Federation\")))\n",
    "g.add((ex.Turkey, ex.hasName, Literal(\"Republic of Turkey\")))\n",
    "\n",
    "g.add((ex.Germany, ex.neighbors, ex.France))\n",
    "\n",
    "\n",
    "# g.add(())\n",
    "serialize_graph()\n"
   ]
  },
  {
   "cell_type": "markdown",
   "metadata": {},
   "source": [
    "*After you ran the previous code (adding triples) the next cells will be executed on your extended graph. That is ok.*"
   ]
  },
  {
   "cell_type": "markdown",
   "metadata": {},
   "source": [
    "### - Task 2a: (10 Points) Get unstructured information from an RDF graph (all Literals)"
   ]
  },
  {
   "cell_type": "markdown",
   "metadata": {},
   "source": [
    "Use the functions available in the RDFLib library. Write a small function to print all Literals. \n",
    "\n",
    "Hint: there is a function in rdflib to test the type of an object (check previous examples in this notebook)"
   ]
  },
  {
   "cell_type": "code",
   "execution_count": 20,
   "metadata": {},
   "outputs": [
    {
     "name": "stdout",
     "output_type": "stream",
     "text": [
      "The Netherlands\n",
      "Ukraine\n",
      "Russian Federation\n",
      "Republic of Turkey\n"
     ]
    }
   ],
   "source": [
    "from typing import List\n",
    "\n",
    "for s,p,o in g:\n",
    "    if type(o) == Literal:\n",
    "        print(o)"
   ]
  },
  {
   "cell_type": "markdown",
   "metadata": {},
   "source": [
    "### - Task 2b: (10 Points) Get structured information from an RDF graph (all unique Predicates)"
   ]
  },
  {
   "cell_type": "markdown",
   "metadata": {},
   "source": [
    "Please provide another function that gives a **unique** list of the predicates, ordered by occurrence (most occurring first). The answer will look like similar to this: \n",
    "<br>http://www.w3.org/2000/01/rdf-schema#label\n",
    "<br>http://www.w3.org/1999/02/22-rdf-syntax-ns#type\n",
    "<br>http://example.com/sw2016/locatedIn\n",
    "<br>http://www.w3.org/2000/01/rdf-schema#range"
   ]
  },
  {
   "cell_type": "code",
   "execution_count": 6,
   "metadata": {},
   "outputs": [
    {
     "name": "stdout",
     "output_type": "stream",
     "text": [
      "['http://example.com/kad/hasCapital' 'http://example.com/kad/hasName'\n",
      " 'http://example.com/kad/neighbours'\n",
      " 'http://www.w3.org/1999/02/22-rdf-syntax-ns#type'\n",
      " 'http://www.w3.org/2000/01/rdf-schema#domain'\n",
      " 'http://www.w3.org/2000/01/rdf-schema#range'\n",
      " 'http://www.w3.org/2000/01/rdf-schema#subClassOf'\n",
      " 'http://www.w3.org/2000/01/rdf-schema#subPropertyOf']\n"
     ]
    }
   ],
   "source": [
    "import numpy as np\n",
    "predicates: list = []\n",
    "for s,p,o in g:\n",
    "    predicates.append(p)\n",
    "predicates = np.unique(predicates)\n",
    "print(predicates)"
   ]
  },
  {
   "cell_type": "markdown",
   "metadata": {},
   "source": [
    "# B. Tasks related to Graph visualisations "
   ]
  },
  {
   "cell_type": "markdown",
   "metadata": {},
   "source": [
    "### - Task 3a: (20 Points) From RDF to .dot \n"
   ]
  },
  {
   "cell_type": "markdown",
   "metadata": {},
   "source": [
    "In the lecture, we have seen two ways of writing a knowledge graph (simple n-triples, and simple turtle). Let us consider a 3rd syntax, this time a syntax that is useful for visualisation. One standard for visualising graphs is the .dot format.\n",
    "\n",
    "Print the knowledge graph in .dot file format. Check https://graphviz.gitlab.io/documentation/ and https://graphviz.readthedocs.io/en/stable/ for the documentation. You will only need very little of this information, and the most relevant information can be found in the examples that are given. \n",
    "\n",
    "<br>Basically, an RDF graph in .dot format starts with \n",
    "<br>digraph G { \n",
    "    and then a list of links of the following form \n",
    "<br>s -> o [label=\"p\"]\n",
    "    for every (s p o ) in KG (separated by ;\n",
    "<br>Do not forget to end with a closing bracket. }\n",
    "\n",
    "An example is \n",
    "     \n",
    "     digraph G { s1 -> o1 [label=\"p1\"] ; s2 -> o2 [label=\"p2\"] } \n",
    "     \n",
    "for an RDF graph {(s1 p1 o1),(s2 p2 o2)}"
   ]
  },
  {
   "cell_type": "markdown",
   "metadata": {},
   "source": [
    "First, create an auxiliary function which strips the namespaces from URIs. This is necessary to make the node names readable when visualizing the .dot graph. Make sure that literals are enclosed by quotation marks. Hint: use `'\"...\"'` or `\"\\\"...\\\"\"` to insert quotation marks in Python strings."
   ]
  },
  {
   "cell_type": "code",
   "execution_count": 7,
   "metadata": {},
   "outputs": [
    {
     "name": "stdout",
     "output_type": "stream",
     "text": [
      "Collecting graphviz\n",
      "  Downloading graphviz-0.20.1-py3-none-any.whl (47 kB)\n",
      "\u001b[2K     \u001b[90m━━━━━━━━━━━━━━━━━━━━━━━━━━━━━━━━━━━━━━━\u001b[0m \u001b[32m47.0/47.0 kB\u001b[0m \u001b[31m631.3 kB/s\u001b[0m eta \u001b[36m0:00:00\u001b[0m \u001b[36m0:00:01\u001b[0m\n",
      "\u001b[?25hInstalling collected packages: graphviz\n",
      "Successfully installed graphviz-0.20.1\n",
      "Note: you may need to restart the kernel to use updated packages.\n"
     ]
    }
   ],
   "source": [
    "# install and import the graphviz library\n",
    "%pip install graphviz\n",
    "import graphviz"
   ]
  },
  {
   "cell_type": "code",
   "execution_count": 40,
   "metadata": {},
   "outputs": [],
   "source": [
    "def strip(e):\n",
    "    # 'http://www.example.org/pizza' should become 'pizza'\n",
    "    string: str = \"\"\n",
    "    for char in e[::-1]:\n",
    "        if char == \"/\": # Appearantly 'or char == \"#\"' is not needed anymore\n",
    "            break\n",
    "        else:\n",
    "            string+= char\n",
    "    return string[::-1]\n",
    "\n",
    "# strip(\"http://www.example.org/pizza\")"
   ]
  },
  {
   "cell_type": "code",
   "execution_count": 21,
   "metadata": {},
   "outputs": [
    {
     "name": "stdout",
     "output_type": "stream",
     "text": [
      "// The Round Table\n",
      "digraph {\n",
      "\tA [label=\"King Arthur\"]\n",
      "\tB [label=\"Sir Bedevere the Wise\"]\n",
      "\tL [label=\"Sir Lancelot the Brave\"]\n",
      "\tA -> B\n",
      "\tA -> L\n",
      "\tB -> L\n",
      "}\n",
      "\n"
     ]
    }
   ],
   "source": [
    "\"\"\"# TEST AREA\n",
    "dot = graphviz.Digraph(comment=\"The Round Table\")\n",
    "dot.node(\"A\",\"King Arthur\")\n",
    "dot.node(\"B\",\"Sir Bedevere the Wise\")\n",
    "dot.node(\"L\", \"Sir Lancelot the Brave\")\n",
    "\n",
    "dot.edges([\"AB\",\"AL\"])\n",
    "dot.edge(\"B\",\"L\")\n",
    "\n",
    "print(dot)\"\"\""
   ]
  },
  {
   "cell_type": "markdown",
   "metadata": {},
   "source": [
    "Next, convert your graph to the .dot format."
   ]
  },
  {
   "cell_type": "code",
   "execution_count": 41,
   "metadata": {},
   "outputs": [],
   "source": [
    "dot = graphviz.Digraph(strict=True, graph_attr={\"dpi\":\"75\"})  # adjust dpi to scale graph\n",
    "for s,p,o in g:\n",
    "    # Your code here (see the documentation)\n",
    "    dot.edge(strip(s),strip(o),strip(p))"
   ]
  },
  {
   "cell_type": "markdown",
   "metadata": {},
   "source": [
    "View the end result as .dot syntax and as a graph:"
   ]
  },
  {
   "cell_type": "code",
   "execution_count": 42,
   "metadata": {},
   "outputs": [
    {
     "name": "stdout",
     "output_type": "stream",
     "text": [
      "strict digraph {\n",
      "\tgraph [dpi=75]\n",
      "\tNetherlands -> Country [label=\"22-rdf-syntax-ns#type\"]\n",
      "\tNetherlands -> \"The Netherlands\" [label=hasName]\n",
      "\tAmsterdam -> Capital [label=\"22-rdf-syntax-ns#type\"]\n",
      "\tCapital -> City [label=\"rdf-schema#subClassOf\"]\n",
      "\tNetherlands -> Amsterdam [label=hasCapital]\n",
      "\thasCapital -> containsCity [label=\"rdf-schema#subPropertyOf\"]\n",
      "\tUkraine -> Ukraine [label=hasName]\n",
      "\tGermany -> France [label=neighbors]\n",
      "\tGermany -> EuropeanCountry [label=\"22-rdf-syntax-ns#type\"]\n",
      "\tUkraine -> Kiev [label=hasCapital]\n",
      "\tRussia -> \"Russian Federation\" [label=hasName]\n",
      "\tEuropeanCountry -> Country [label=\"rdf-schema#subClassOf\"]\n",
      "\tTurkey -> \"Republic of Turkey\" [label=hasName]\n",
      "\tcontainsCity -> City [label=\"rdf-schema#range\"]\n",
      "\tTurkey -> Ankara [label=hasCapital]\n",
      "\tRussia -> Moscow [label=hasCapital]\n",
      "\thasCapital -> Capital [label=\"rdf-schema#range\"]\n",
      "\tNetherlands -> Belgium [label=neighbours]\n",
      "\tBelgium -> Country [label=\"22-rdf-syntax-ns#type\"]\n",
      "\tcontainsCity -> Country [label=\"rdf-schema#domain\"]\n",
      "}\n",
      "\n"
     ]
    },
    {
     "data": {
      "image/svg+xml": [
       "<?xml version=\"1.0\" encoding=\"UTF-8\" standalone=\"no\"?>\n",
       "<!DOCTYPE svg PUBLIC \"-//W3C//DTD SVG 1.1//EN\"\n",
       " \"http://www.w3.org/Graphics/SVG/1.1/DTD/svg11.dtd\">\n",
       "<!-- Generated by graphviz version 2.43.0 (0)\n",
       " -->\n",
       "<!-- Title: %3 Pages: 1 -->\n",
       "<svg width=\"2144pt\" height=\"318pt\"\n",
       " viewBox=\"0.00 0.00 2057.79 305.00\" xmlns=\"http://www.w3.org/2000/svg\" xmlns:xlink=\"http://www.w3.org/1999/xlink\">\n",
       "<g id=\"graph0\" class=\"graph\" transform=\"scale(0.96 0.96) rotate(0) translate(4 301)\">\n",
       "<title>%3</title>\n",
       "<polygon fill=\"white\" stroke=\"transparent\" points=\"-4,4 -4,-301 2053.79,-301 2053.79,4 -4,4\"/>\n",
       "<!-- Netherlands -->\n",
       "<g id=\"node1\" class=\"node\">\n",
       "<title>Netherlands</title>\n",
       "<ellipse fill=\"none\" stroke=\"black\" cx=\"616.79\" cy=\"-279\" rx=\"68.49\" ry=\"18\"/>\n",
       "<text text-anchor=\"middle\" x=\"616.79\" y=\"-275.3\" font-family=\"Times,serif\" font-size=\"14.00\">Netherlands</text>\n",
       "</g>\n",
       "<!-- Country -->\n",
       "<g id=\"node2\" class=\"node\">\n",
       "<title>Country</title>\n",
       "<ellipse fill=\"none\" stroke=\"black\" cx=\"737.79\" cy=\"-105\" rx=\"48.19\" ry=\"18\"/>\n",
       "<text text-anchor=\"middle\" x=\"737.79\" y=\"-101.3\" font-family=\"Times,serif\" font-size=\"14.00\">Country</text>\n",
       "</g>\n",
       "<!-- Netherlands&#45;&gt;Country -->\n",
       "<g id=\"edge1\" class=\"edge\">\n",
       "<title>Netherlands&#45;&gt;Country</title>\n",
       "<path fill=\"none\" stroke=\"black\" d=\"M641.72,-261.85C648.59,-256.49 655.58,-250.07 660.79,-243 680.35,-216.51 671.91,-202.84 687.79,-174 696.18,-158.77 707.53,-143.06 717.3,-130.58\"/>\n",
       "<polygon fill=\"black\" stroke=\"black\" points=\"720.25,-132.49 723.75,-122.5 714.78,-128.13 720.25,-132.49\"/>\n",
       "<text text-anchor=\"middle\" x=\"767.29\" y=\"-188.3\" font-family=\"Times,serif\" font-size=\"14.00\">22&#45;rdf&#45;syntax&#45;ns#type</text>\n",
       "</g>\n",
       "<!-- The Netherlands -->\n",
       "<g id=\"node3\" class=\"node\">\n",
       "<title>The Netherlands</title>\n",
       "<ellipse fill=\"none\" stroke=\"black\" cx=\"554.79\" cy=\"-192\" rx=\"88.28\" ry=\"18\"/>\n",
       "<text text-anchor=\"middle\" x=\"554.79\" y=\"-188.3\" font-family=\"Times,serif\" font-size=\"14.00\">The Netherlands</text>\n",
       "</g>\n",
       "<!-- Netherlands&#45;&gt;The Netherlands -->\n",
       "<g id=\"edge2\" class=\"edge\">\n",
       "<title>Netherlands&#45;&gt;The Netherlands</title>\n",
       "<path fill=\"none\" stroke=\"black\" d=\"M604.55,-261.21C595.6,-248.95 583.33,-232.11 573.2,-218.24\"/>\n",
       "<polygon fill=\"black\" stroke=\"black\" points=\"575.95,-216.07 567.23,-210.05 570.3,-220.19 575.95,-216.07\"/>\n",
       "<text text-anchor=\"middle\" x=\"623.29\" y=\"-231.8\" font-family=\"Times,serif\" font-size=\"14.00\">hasName</text>\n",
       "</g>\n",
       "<!-- Amsterdam -->\n",
       "<g id=\"node4\" class=\"node\">\n",
       "<title>Amsterdam</title>\n",
       "<ellipse fill=\"none\" stroke=\"black\" cx=\"383.79\" cy=\"-192\" rx=\"64.19\" ry=\"18\"/>\n",
       "<text text-anchor=\"middle\" x=\"383.79\" y=\"-188.3\" font-family=\"Times,serif\" font-size=\"14.00\">Amsterdam</text>\n",
       "</g>\n",
       "<!-- Netherlands&#45;&gt;Amsterdam -->\n",
       "<g id=\"edge5\" class=\"edge\">\n",
       "<title>Netherlands&#45;&gt;Amsterdam</title>\n",
       "<path fill=\"none\" stroke=\"black\" d=\"M572.06,-265.39C550.9,-259.14 525.37,-251.19 502.79,-243 476.8,-233.58 448.22,-221.62 425.59,-211.77\"/>\n",
       "<polygon fill=\"black\" stroke=\"black\" points=\"426.84,-208.49 416.28,-207.68 424.03,-214.9 426.84,-208.49\"/>\n",
       "<text text-anchor=\"middle\" x=\"540.79\" y=\"-231.8\" font-family=\"Times,serif\" font-size=\"14.00\">hasCapital</text>\n",
       "</g>\n",
       "<!-- Belgium -->\n",
       "<g id=\"node20\" class=\"node\">\n",
       "<title>Belgium</title>\n",
       "<ellipse fill=\"none\" stroke=\"black\" cx=\"904.79\" cy=\"-192\" rx=\"49.29\" ry=\"18\"/>\n",
       "<text text-anchor=\"middle\" x=\"904.79\" y=\"-188.3\" font-family=\"Times,serif\" font-size=\"14.00\">Belgium</text>\n",
       "</g>\n",
       "<!-- Netherlands&#45;&gt;Belgium -->\n",
       "<g id=\"edge18\" class=\"edge\">\n",
       "<title>Netherlands&#45;&gt;Belgium</title>\n",
       "<path fill=\"none\" stroke=\"black\" d=\"M660.54,-265.09C713.72,-249.39 803.12,-223.01 857.75,-206.89\"/>\n",
       "<polygon fill=\"black\" stroke=\"black\" points=\"858.93,-210.19 867.53,-204 856.95,-203.47 858.93,-210.19\"/>\n",
       "<text text-anchor=\"middle\" x=\"819.29\" y=\"-231.8\" font-family=\"Times,serif\" font-size=\"14.00\">neighbours</text>\n",
       "</g>\n",
       "<!-- Capital -->\n",
       "<g id=\"node5\" class=\"node\">\n",
       "<title>Capital</title>\n",
       "<ellipse fill=\"none\" stroke=\"black\" cx=\"386.79\" cy=\"-105\" rx=\"44.39\" ry=\"18\"/>\n",
       "<text text-anchor=\"middle\" x=\"386.79\" y=\"-101.3\" font-family=\"Times,serif\" font-size=\"14.00\">Capital</text>\n",
       "</g>\n",
       "<!-- Amsterdam&#45;&gt;Capital -->\n",
       "<g id=\"edge3\" class=\"edge\">\n",
       "<title>Amsterdam&#45;&gt;Capital</title>\n",
       "<path fill=\"none\" stroke=\"black\" d=\"M384.4,-173.8C384.81,-162.16 385.36,-146.55 385.83,-133.24\"/>\n",
       "<polygon fill=\"black\" stroke=\"black\" points=\"389.33,-133.29 386.19,-123.18 382.34,-133.05 389.33,-133.29\"/>\n",
       "<text text-anchor=\"middle\" x=\"465.29\" y=\"-144.8\" font-family=\"Times,serif\" font-size=\"14.00\">22&#45;rdf&#45;syntax&#45;ns#type</text>\n",
       "</g>\n",
       "<!-- City -->\n",
       "<g id=\"node6\" class=\"node\">\n",
       "<title>City</title>\n",
       "<ellipse fill=\"none\" stroke=\"black\" cx=\"207.79\" cy=\"-18\" rx=\"29.8\" ry=\"18\"/>\n",
       "<text text-anchor=\"middle\" x=\"207.79\" y=\"-14.3\" font-family=\"Times,serif\" font-size=\"14.00\">City</text>\n",
       "</g>\n",
       "<!-- Capital&#45;&gt;City -->\n",
       "<g id=\"edge4\" class=\"edge\">\n",
       "<title>Capital&#45;&gt;City</title>\n",
       "<path fill=\"none\" stroke=\"black\" d=\"M359.22,-90.91C326.95,-75.58 273.61,-50.25 239.61,-34.11\"/>\n",
       "<polygon fill=\"black\" stroke=\"black\" points=\"241.11,-30.94 230.57,-29.82 238.1,-37.27 241.11,-30.94\"/>\n",
       "<text text-anchor=\"middle\" x=\"394.79\" y=\"-57.8\" font-family=\"Times,serif\" font-size=\"14.00\">rdf&#45;schema#subClassOf</text>\n",
       "</g>\n",
       "<!-- hasCapital -->\n",
       "<g id=\"node7\" class=\"node\">\n",
       "<title>hasCapital</title>\n",
       "<ellipse fill=\"none\" stroke=\"black\" cx=\"59.79\" cy=\"-279\" rx=\"59.59\" ry=\"18\"/>\n",
       "<text text-anchor=\"middle\" x=\"59.79\" y=\"-275.3\" font-family=\"Times,serif\" font-size=\"14.00\">hasCapital</text>\n",
       "</g>\n",
       "<!-- hasCapital&#45;&gt;Capital -->\n",
       "<g id=\"edge17\" class=\"edge\">\n",
       "<title>hasCapital&#45;&gt;Capital</title>\n",
       "<path fill=\"none\" stroke=\"black\" d=\"M42.51,-261.62C21.42,-239.66 -8.78,-200.41 13.79,-174 61.16,-118.6 267.09,-140.68 337.79,-123 340.41,-122.35 343.08,-121.61 345.76,-120.83\"/>\n",
       "<polygon fill=\"black\" stroke=\"black\" points=\"346.91,-124.14 355.41,-117.81 344.82,-117.45 346.91,-124.14\"/>\n",
       "<text text-anchor=\"middle\" x=\"80.29\" y=\"-188.3\" font-family=\"Times,serif\" font-size=\"14.00\">rdf&#45;schema#range</text>\n",
       "</g>\n",
       "<!-- containsCity -->\n",
       "<g id=\"node8\" class=\"node\">\n",
       "<title>containsCity</title>\n",
       "<ellipse fill=\"none\" stroke=\"black\" cx=\"224.79\" cy=\"-192\" rx=\"68.79\" ry=\"18\"/>\n",
       "<text text-anchor=\"middle\" x=\"224.79\" y=\"-188.3\" font-family=\"Times,serif\" font-size=\"14.00\">containsCity</text>\n",
       "</g>\n",
       "<!-- hasCapital&#45;&gt;containsCity -->\n",
       "<g id=\"edge6\" class=\"edge\">\n",
       "<title>hasCapital&#45;&gt;containsCity</title>\n",
       "<path fill=\"none\" stroke=\"black\" d=\"M88.54,-263.19C115.56,-249.27 156.22,-228.32 186.1,-212.94\"/>\n",
       "<polygon fill=\"black\" stroke=\"black\" points=\"187.71,-216.04 194.99,-208.35 184.5,-209.82 187.71,-216.04\"/>\n",
       "<text text-anchor=\"middle\" x=\"250.79\" y=\"-231.8\" font-family=\"Times,serif\" font-size=\"14.00\">rdf&#45;schema#subPropertyOf</text>\n",
       "</g>\n",
       "<!-- containsCity&#45;&gt;Country -->\n",
       "<g id=\"edge20\" class=\"edge\">\n",
       "<title>containsCity&#45;&gt;Country</title>\n",
       "<path fill=\"none\" stroke=\"black\" d=\"M224.47,-173.96C225.24,-162.82 228.27,-148.91 237.79,-141 246.22,-134 550.55,-116.37 680.22,-109.15\"/>\n",
       "<polygon fill=\"black\" stroke=\"black\" points=\"680.57,-112.64 690.36,-108.59 680.18,-105.65 680.57,-112.64\"/>\n",
       "<text text-anchor=\"middle\" x=\"309.79\" y=\"-144.8\" font-family=\"Times,serif\" font-size=\"14.00\">rdf&#45;schema#domain</text>\n",
       "</g>\n",
       "<!-- containsCity&#45;&gt;City -->\n",
       "<g id=\"edge14\" class=\"edge\">\n",
       "<title>containsCity&#45;&gt;City</title>\n",
       "<path fill=\"none\" stroke=\"black\" d=\"M217.02,-174.1C211.25,-160.6 203.88,-141.02 200.79,-123 196.35,-97.06 199.22,-67.03 202.52,-45.93\"/>\n",
       "<polygon fill=\"black\" stroke=\"black\" points=\"205.97,-46.5 204.2,-36.06 199.07,-45.33 205.97,-46.5\"/>\n",
       "<text text-anchor=\"middle\" x=\"267.29\" y=\"-101.3\" font-family=\"Times,serif\" font-size=\"14.00\">rdf&#45;schema#range</text>\n",
       "</g>\n",
       "<!-- Ukraine -->\n",
       "<g id=\"node9\" class=\"node\">\n",
       "<title>Ukraine</title>\n",
       "<ellipse fill=\"none\" stroke=\"black\" cx=\"1341.79\" cy=\"-279\" rx=\"48.19\" ry=\"18\"/>\n",
       "<text text-anchor=\"middle\" x=\"1341.79\" y=\"-275.3\" font-family=\"Times,serif\" font-size=\"14.00\">Ukraine</text>\n",
       "</g>\n",
       "<!-- Ukraine&#45;&gt;Ukraine -->\n",
       "<g id=\"edge7\" class=\"edge\">\n",
       "<title>Ukraine&#45;&gt;Ukraine</title>\n",
       "<path fill=\"none\" stroke=\"black\" d=\"M1385.34,-286.85C1398.05,-286.58 1407.89,-283.96 1407.89,-279 1407.89,-275.51 1403.02,-273.18 1395.72,-272.01\"/>\n",
       "<polygon fill=\"black\" stroke=\"black\" points=\"1395.59,-268.49 1385.34,-271.15 1395.01,-275.46 1395.59,-268.49\"/>\n",
       "<text text-anchor=\"middle\" x=\"1441.39\" y=\"-275.3\" font-family=\"Times,serif\" font-size=\"14.00\">hasName</text>\n",
       "</g>\n",
       "<!-- Kiev -->\n",
       "<g id=\"node13\" class=\"node\">\n",
       "<title>Kiev</title>\n",
       "<ellipse fill=\"none\" stroke=\"black\" cx=\"1341.79\" cy=\"-192\" rx=\"31.4\" ry=\"18\"/>\n",
       "<text text-anchor=\"middle\" x=\"1341.79\" y=\"-188.3\" font-family=\"Times,serif\" font-size=\"14.00\">Kiev</text>\n",
       "</g>\n",
       "<!-- Ukraine&#45;&gt;Kiev -->\n",
       "<g id=\"edge10\" class=\"edge\">\n",
       "<title>Ukraine&#45;&gt;Kiev</title>\n",
       "<path fill=\"none\" stroke=\"black\" d=\"M1341.79,-260.8C1341.79,-249.16 1341.79,-233.55 1341.79,-220.24\"/>\n",
       "<polygon fill=\"black\" stroke=\"black\" points=\"1345.29,-220.18 1341.79,-210.18 1338.29,-220.18 1345.29,-220.18\"/>\n",
       "<text text-anchor=\"middle\" x=\"1379.79\" y=\"-231.8\" font-family=\"Times,serif\" font-size=\"14.00\">hasCapital</text>\n",
       "</g>\n",
       "<!-- Germany -->\n",
       "<g id=\"node10\" class=\"node\">\n",
       "<title>Germany</title>\n",
       "<ellipse fill=\"none\" stroke=\"black\" cx=\"1143.79\" cy=\"-279\" rx=\"53.09\" ry=\"18\"/>\n",
       "<text text-anchor=\"middle\" x=\"1143.79\" y=\"-275.3\" font-family=\"Times,serif\" font-size=\"14.00\">Germany</text>\n",
       "</g>\n",
       "<!-- France -->\n",
       "<g id=\"node11\" class=\"node\">\n",
       "<title>France</title>\n",
       "<ellipse fill=\"none\" stroke=\"black\" cx=\"1246.79\" cy=\"-192\" rx=\"42.79\" ry=\"18\"/>\n",
       "<text text-anchor=\"middle\" x=\"1246.79\" y=\"-188.3\" font-family=\"Times,serif\" font-size=\"14.00\">France</text>\n",
       "</g>\n",
       "<!-- Germany&#45;&gt;France -->\n",
       "<g id=\"edge8\" class=\"edge\">\n",
       "<title>Germany&#45;&gt;France</title>\n",
       "<path fill=\"none\" stroke=\"black\" d=\"M1184.43,-267.2C1198.6,-261.81 1213.71,-254.01 1224.79,-243 1231.27,-236.56 1235.99,-227.89 1239.36,-219.58\"/>\n",
       "<polygon fill=\"black\" stroke=\"black\" points=\"1242.66,-220.74 1242.71,-210.14 1236.06,-218.39 1242.66,-220.74\"/>\n",
       "<text text-anchor=\"middle\" x=\"1271.79\" y=\"-231.8\" font-family=\"Times,serif\" font-size=\"14.00\">neighbors</text>\n",
       "</g>\n",
       "<!-- EuropeanCountry -->\n",
       "<g id=\"node12\" class=\"node\">\n",
       "<title>EuropeanCountry</title>\n",
       "<ellipse fill=\"none\" stroke=\"black\" cx=\"1064.79\" cy=\"-192\" rx=\"92.88\" ry=\"18\"/>\n",
       "<text text-anchor=\"middle\" x=\"1064.79\" y=\"-188.3\" font-family=\"Times,serif\" font-size=\"14.00\">EuropeanCountry</text>\n",
       "</g>\n",
       "<!-- Germany&#45;&gt;EuropeanCountry -->\n",
       "<g id=\"edge9\" class=\"edge\">\n",
       "<title>Germany&#45;&gt;EuropeanCountry</title>\n",
       "<path fill=\"none\" stroke=\"black\" d=\"M1100.51,-268.32C1087.13,-263.1 1073.82,-255.13 1065.79,-243 1061.4,-236.35 1060.02,-228.05 1060.07,-220.12\"/>\n",
       "<polygon fill=\"black\" stroke=\"black\" points=\"1063.57,-220.33 1060.82,-210.1 1056.59,-219.81 1063.57,-220.33\"/>\n",
       "<text text-anchor=\"middle\" x=\"1145.29\" y=\"-231.8\" font-family=\"Times,serif\" font-size=\"14.00\">22&#45;rdf&#45;syntax&#45;ns#type</text>\n",
       "</g>\n",
       "<!-- EuropeanCountry&#45;&gt;Country -->\n",
       "<g id=\"edge12\" class=\"edge\">\n",
       "<title>EuropeanCountry&#45;&gt;Country</title>\n",
       "<path fill=\"none\" stroke=\"black\" d=\"M1046.67,-174.26C1033.34,-162.94 1014.23,-148.71 994.79,-141 930.05,-115.31 849.72,-107.88 796.27,-106.03\"/>\n",
       "<polygon fill=\"black\" stroke=\"black\" points=\"796.05,-102.53 785.95,-105.73 795.85,-109.52 796.05,-102.53\"/>\n",
       "<text text-anchor=\"middle\" x=\"1107.79\" y=\"-144.8\" font-family=\"Times,serif\" font-size=\"14.00\">rdf&#45;schema#subClassOf</text>\n",
       "</g>\n",
       "<!-- Russia -->\n",
       "<g id=\"node14\" class=\"node\">\n",
       "<title>Russia</title>\n",
       "<ellipse fill=\"none\" stroke=\"black\" cx=\"1534.79\" cy=\"-279\" rx=\"41.69\" ry=\"18\"/>\n",
       "<text text-anchor=\"middle\" x=\"1534.79\" y=\"-275.3\" font-family=\"Times,serif\" font-size=\"14.00\">Russia</text>\n",
       "</g>\n",
       "<!-- Russian Federation -->\n",
       "<g id=\"node15\" class=\"node\">\n",
       "<title>Russian Federation</title>\n",
       "<ellipse fill=\"none\" stroke=\"black\" cx=\"1513.79\" cy=\"-192\" rx=\"100.98\" ry=\"18\"/>\n",
       "<text text-anchor=\"middle\" x=\"1513.79\" y=\"-188.3\" font-family=\"Times,serif\" font-size=\"14.00\">Russian Federation</text>\n",
       "</g>\n",
       "<!-- Russia&#45;&gt;Russian Federation -->\n",
       "<g id=\"edge11\" class=\"edge\">\n",
       "<title>Russia&#45;&gt;Russian Federation</title>\n",
       "<path fill=\"none\" stroke=\"black\" d=\"M1530.55,-260.8C1527.67,-249.16 1523.81,-233.55 1520.52,-220.24\"/>\n",
       "<polygon fill=\"black\" stroke=\"black\" points=\"1523.83,-219.04 1518.04,-210.18 1517.04,-220.72 1523.83,-219.04\"/>\n",
       "<text text-anchor=\"middle\" x=\"1559.29\" y=\"-231.8\" font-family=\"Times,serif\" font-size=\"14.00\">hasName</text>\n",
       "</g>\n",
       "<!-- Moscow -->\n",
       "<g id=\"node19\" class=\"node\">\n",
       "<title>Moscow</title>\n",
       "<ellipse fill=\"none\" stroke=\"black\" cx=\"1680.79\" cy=\"-192\" rx=\"48.19\" ry=\"18\"/>\n",
       "<text text-anchor=\"middle\" x=\"1680.79\" y=\"-188.3\" font-family=\"Times,serif\" font-size=\"14.00\">Moscow</text>\n",
       "</g>\n",
       "<!-- Russia&#45;&gt;Moscow -->\n",
       "<g id=\"edge16\" class=\"edge\">\n",
       "<title>Russia&#45;&gt;Moscow</title>\n",
       "<path fill=\"none\" stroke=\"black\" d=\"M1559.31,-264.33C1570.74,-257.92 1584.5,-250.13 1596.79,-243 1613.73,-233.18 1632.46,-222.06 1647.93,-212.8\"/>\n",
       "<polygon fill=\"black\" stroke=\"black\" points=\"1649.84,-215.73 1656.62,-207.59 1646.24,-209.73 1649.84,-215.73\"/>\n",
       "<text text-anchor=\"middle\" x=\"1660.79\" y=\"-231.8\" font-family=\"Times,serif\" font-size=\"14.00\">hasCapital</text>\n",
       "</g>\n",
       "<!-- Turkey -->\n",
       "<g id=\"node16\" class=\"node\">\n",
       "<title>Turkey</title>\n",
       "<ellipse fill=\"none\" stroke=\"black\" cx=\"1924.79\" cy=\"-279\" rx=\"42.79\" ry=\"18\"/>\n",
       "<text text-anchor=\"middle\" x=\"1924.79\" y=\"-275.3\" font-family=\"Times,serif\" font-size=\"14.00\">Turkey</text>\n",
       "</g>\n",
       "<!-- Republic of Turkey -->\n",
       "<g id=\"node17\" class=\"node\">\n",
       "<title>Republic of Turkey</title>\n",
       "<ellipse fill=\"none\" stroke=\"black\" cx=\"1844.79\" cy=\"-192\" rx=\"98.28\" ry=\"18\"/>\n",
       "<text text-anchor=\"middle\" x=\"1844.79\" y=\"-188.3\" font-family=\"Times,serif\" font-size=\"14.00\">Republic of Turkey</text>\n",
       "</g>\n",
       "<!-- Turkey&#45;&gt;Republic of Turkey -->\n",
       "<g id=\"edge13\" class=\"edge\">\n",
       "<title>Turkey&#45;&gt;Republic of Turkey</title>\n",
       "<path fill=\"none\" stroke=\"black\" d=\"M1909.75,-262.01C1897.91,-249.43 1881.21,-231.7 1867.72,-217.35\"/>\n",
       "<polygon fill=\"black\" stroke=\"black\" points=\"1870,-214.67 1860.6,-209.79 1864.9,-219.47 1870,-214.67\"/>\n",
       "<text text-anchor=\"middle\" x=\"1923.29\" y=\"-231.8\" font-family=\"Times,serif\" font-size=\"14.00\">hasName</text>\n",
       "</g>\n",
       "<!-- Ankara -->\n",
       "<g id=\"node18\" class=\"node\">\n",
       "<title>Ankara</title>\n",
       "<ellipse fill=\"none\" stroke=\"black\" cx=\"2004.79\" cy=\"-192\" rx=\"43.59\" ry=\"18\"/>\n",
       "<text text-anchor=\"middle\" x=\"2004.79\" y=\"-188.3\" font-family=\"Times,serif\" font-size=\"14.00\">Ankara</text>\n",
       "</g>\n",
       "<!-- Turkey&#45;&gt;Ankara -->\n",
       "<g id=\"edge15\" class=\"edge\">\n",
       "<title>Turkey&#45;&gt;Ankara</title>\n",
       "<path fill=\"none\" stroke=\"black\" d=\"M1941.55,-262.23C1947.71,-256.31 1954.67,-249.44 1960.79,-243 1968.65,-234.75 1976.97,-225.44 1984.24,-217.12\"/>\n",
       "<polygon fill=\"black\" stroke=\"black\" points=\"1986.94,-219.35 1990.84,-209.5 1981.65,-214.77 1986.94,-219.35\"/>\n",
       "<text text-anchor=\"middle\" x=\"2011.79\" y=\"-231.8\" font-family=\"Times,serif\" font-size=\"14.00\">hasCapital</text>\n",
       "</g>\n",
       "<!-- Belgium&#45;&gt;Country -->\n",
       "<g id=\"edge19\" class=\"edge\">\n",
       "<title>Belgium&#45;&gt;Country</title>\n",
       "<path fill=\"none\" stroke=\"black\" d=\"M877.22,-176.96C849.09,-162.65 805.3,-140.36 774.31,-124.59\"/>\n",
       "<polygon fill=\"black\" stroke=\"black\" points=\"775.63,-121.33 765.13,-119.92 772.46,-127.57 775.63,-121.33\"/>\n",
       "<text text-anchor=\"middle\" x=\"911.29\" y=\"-144.8\" font-family=\"Times,serif\" font-size=\"14.00\">22&#45;rdf&#45;syntax&#45;ns#type</text>\n",
       "</g>\n",
       "</g>\n",
       "</svg>\n"
      ],
      "text/plain": [
       "<graphviz.graphs.Digraph at 0x7fda92b05050>"
      ]
     },
     "execution_count": 42,
     "metadata": {},
     "output_type": "execute_result"
    }
   ],
   "source": [
    "print(dot.source)\n",
    "dot  # try dot.view() if this does not produce anything (or paste the source at www.webgraphviz.com)"
   ]
  },
  {
   "cell_type": "markdown",
   "metadata": {},
   "source": [
    "### - Task 3b: (10 Points) From RDF to .dot with \"semantic information\""
   ]
  },
  {
   "cell_type": "markdown",
   "metadata": {},
   "source": [
    "There is a conceptual distinction between properties, instances and classes (sets of instances). A simple way of checking is the following\n",
    "\n",
    "1. in a triple (s a o), with predicate a (which is a special abbreviation for the predicate rdf:type), the s is an Instance, and o is a Class. \n",
    "2. in a triple (s rdfs:subClassOf o) both s and o are Classes. \n",
    "3. in a triple (p rdfs:domain o) p is a Property and o is a Class. \n",
    "4. in a triple (p rdfs:range o)  p is a Property and o is a Class. \n",
    "\n",
    "Update the .dot representation for an RDF graph that:\n",
    "\n",
    "- renders all predicates that are defined in the RDF namespace as dotted lines,\n",
    "- renders all classes as rectangles,\n",
    "- renders all literals as plain text (no enclosure), and\n",
    "- renders all entities with the color blue. \n",
    "\n",
    "Check how your graph looks once finished. Hint: you can use the `color`, `shape` and `style` attributes in the node and edge function (see the documentation)."
   ]
  },
  {
   "cell_type": "code",
   "execution_count": 49,
   "metadata": {},
   "outputs": [
    {
     "name": "stderr",
     "output_type": "stream",
     "text": [
      "Warning: dotted is not a known color.\n"
     ]
    },
    {
     "name": "stdout",
     "output_type": "stream",
     "text": [
      "strict digraph {\n",
      "\tgraph [dpi=75]\n",
      "\tNetherlands -> Country [label=\"22-rdf-syntax-ns#type\"]\n",
      "\tNetherlands -> \"The Netherlands\" [label=hasName]\n",
      "\tAmsterdam -> Capital [label=\"22-rdf-syntax-ns#type\"]\n",
      "\tCapital -> City [label=\"rdf-schema#subClassOf\"]\n",
      "\tNetherlands -> Amsterdam [label=hasCapital]\n",
      "\thasCapital -> containsCity [label=\"rdf-schema#subPropertyOf\"]\n",
      "\tUkraine -> Ukraine [label=hasName]\n",
      "\tGermany -> France [label=neighbors]\n",
      "\tGermany -> EuropeanCountry [label=\"22-rdf-syntax-ns#type\"]\n",
      "\tUkraine -> Kiev [label=hasCapital]\n",
      "\tRussia -> \"Russian Federation\" [label=hasName]\n",
      "\tEuropeanCountry -> Country [label=\"rdf-schema#subClassOf\"]\n",
      "\tTurkey -> \"Republic of Turkey\" [label=hasName]\n",
      "\tcontainsCity -> City [label=\"rdf-schema#range\"]\n",
      "\tTurkey -> Ankara [label=hasCapital]\n",
      "\tRussia -> Moscow [label=hasCapital]\n",
      "\thasCapital -> Capital [label=\"rdf-schema#range\"]\n",
      "\tNetherlands -> Belgium [label=neighbours]\n",
      "\tBelgium -> Country [label=\"22-rdf-syntax-ns#type\"]\n",
      "\tcontainsCity -> Country [label=\"rdf-schema#domain\"]\n",
      "\tNetherlands [color=blue]\n",
      "\tNetherlands -> Country [label=\"22-rdf-syntax-ns#type\" color=dotted]\n",
      "\tNetherlands [color=blue]\n",
      "\tAmsterdam [color=blue]\n",
      "\tAmsterdam -> Capital [label=\"22-rdf-syntax-ns#type\" color=dotted]\n",
      "\tCapital [color=blue]\n",
      "\tCapital [shape=rectangle]\n",
      "\tCity [shape=rectangle]\n",
      "\tCapital -> City [label=\"rdf-schema#subClassOf\" color=dotted]\n",
      "\tNetherlands [color=blue]\n",
      "\thasCapital [color=blue]\n",
      "\thasCapital -> containsCity [label=\"rdf-schema#subPropertyOf\" color=dotted]\n",
      "\tUkraine [color=blue]\n",
      "\tGermany [color=blue]\n",
      "\tGermany [color=blue]\n",
      "\tGermany -> EuropeanCountry [label=\"22-rdf-syntax-ns#type\" color=dotted]\n",
      "\tUkraine [color=blue]\n",
      "\tRussia [color=blue]\n",
      "\tEuropeanCountry [color=blue]\n",
      "\tEuropeanCountry [shape=rectangle]\n",
      "\tCountry [shape=rectangle]\n",
      "\tEuropeanCountry -> Country [label=\"rdf-schema#subClassOf\" color=dotted]\n",
      "\tTurkey [color=blue]\n",
      "\tcontainsCity [color=blue]\n",
      "\tcontainsCity -> City [label=\"rdf-schema#range\" color=dotted]\n",
      "\tTurkey [color=blue]\n",
      "\tRussia [color=blue]\n",
      "\thasCapital [color=blue]\n",
      "\thasCapital -> Capital [label=\"rdf-schema#range\" color=dotted]\n",
      "\tNetherlands [color=blue]\n",
      "\tBelgium [color=blue]\n",
      "\tBelgium -> Country [label=\"22-rdf-syntax-ns#type\" color=dotted]\n",
      "\tcontainsCity [color=blue]\n",
      "\tcontainsCity -> Country [label=\"rdf-schema#domain\" color=dotted]\n",
      "\tNetherlands [color=blue]\n",
      "\tNetherlands -> Country [label=\"22-rdf-syntax-ns#type\" color=dotted]\n",
      "\tNetherlands [color=blue]\n",
      "\tAmsterdam [color=blue]\n",
      "\tAmsterdam -> Capital [label=\"22-rdf-syntax-ns#type\" color=dotted]\n",
      "\tCapital [color=blue]\n",
      "\tCapital [shape=rectangle]\n",
      "\tCity [shape=rectangle]\n",
      "\tCapital -> City [label=\"rdf-schema#subClassOf\" color=dotted]\n",
      "\tNetherlands [color=blue]\n",
      "\thasCapital [color=blue]\n",
      "\thasCapital -> containsCity [label=\"rdf-schema#subPropertyOf\" color=dotted]\n",
      "\tUkraine [color=blue]\n",
      "\tGermany [color=blue]\n",
      "\tGermany [color=blue]\n",
      "\tGermany -> EuropeanCountry [label=\"22-rdf-syntax-ns#type\" color=dotted]\n",
      "\tUkraine [color=blue]\n",
      "\tRussia [color=blue]\n",
      "\tEuropeanCountry [color=blue]\n",
      "\tEuropeanCountry [shape=rectangle]\n",
      "\tCountry [shape=rectangle]\n",
      "\tEuropeanCountry -> Country [label=\"rdf-schema#subClassOf\" color=dotted]\n",
      "\tTurkey [color=blue]\n",
      "\tcontainsCity [color=blue]\n",
      "\tcontainsCity -> City [label=\"rdf-schema#range\" color=dotted]\n",
      "\tTurkey [color=blue]\n",
      "\tRussia [color=blue]\n",
      "\thasCapital [color=blue]\n",
      "\thasCapital -> Capital [label=\"rdf-schema#range\" color=dotted]\n",
      "\tNetherlands [color=blue]\n",
      "\tBelgium [color=blue]\n",
      "\tBelgium -> Country [label=\"22-rdf-syntax-ns#type\" color=dotted]\n",
      "\tcontainsCity [color=blue]\n",
      "\tcontainsCity -> Country [label=\"rdf-schema#domain\" color=dotted]\n",
      "\tNetherlands [color=blue]\n",
      "\tNetherlands -> Country [label=\"22-rdf-syntax-ns#type\" color=dotted]\n",
      "\tNetherlands [color=blue]\n",
      "\tAmsterdam [color=blue]\n",
      "\tAmsterdam -> Capital [label=\"22-rdf-syntax-ns#type\" color=dotted]\n",
      "\tCapital [color=blue]\n",
      "\tCapital [shape=rectangle]\n",
      "\tCity [shape=rectangle]\n",
      "\tCapital -> City [label=\"rdf-schema#subClassOf\" color=dotted]\n",
      "\tNetherlands [color=blue]\n",
      "\thasCapital [color=blue]\n",
      "\thasCapital -> containsCity [label=\"rdf-schema#subPropertyOf\" color=dotted]\n",
      "\tUkraine [color=blue]\n",
      "\tGermany [color=blue]\n",
      "\tGermany [color=blue]\n",
      "\tGermany -> EuropeanCountry [label=\"22-rdf-syntax-ns#type\" color=dotted]\n",
      "\tUkraine [color=blue]\n",
      "\tRussia [color=blue]\n",
      "\tEuropeanCountry [color=blue]\n",
      "\tEuropeanCountry [shape=rectangle]\n",
      "\tCountry [shape=rectangle]\n",
      "\tEuropeanCountry -> Country [label=\"rdf-schema#subClassOf\" color=dotted]\n",
      "\tTurkey [color=blue]\n",
      "\tcontainsCity [color=blue]\n",
      "\tcontainsCity -> City [label=\"rdf-schema#range\" color=dotted]\n",
      "\tTurkey [color=blue]\n",
      "\tRussia [color=blue]\n",
      "\thasCapital [color=blue]\n",
      "\thasCapital -> Capital [label=\"rdf-schema#range\" color=dotted]\n",
      "\tNetherlands [color=blue]\n",
      "\tBelgium [color=blue]\n",
      "\tBelgium -> Country [label=\"22-rdf-syntax-ns#type\" color=dotted]\n",
      "\tcontainsCity [color=blue]\n",
      "\tcontainsCity -> Country [label=\"rdf-schema#domain\" color=dotted]\n",
      "\tNetherlands [color=blue]\n",
      "\tNetherlands -> Country [label=\"22-rdf-syntax-ns#type\" style=dotted]\n",
      "\tNetherlands [color=blue]\n",
      "\tAmsterdam [color=blue]\n",
      "\tAmsterdam -> Capital [label=\"22-rdf-syntax-ns#type\" style=dotted]\n",
      "\tCapital [color=blue]\n",
      "\tCapital [shape=rectangle]\n",
      "\tCity [shape=rectangle]\n",
      "\tCapital -> City [label=\"rdf-schema#subClassOf\" style=dotted]\n",
      "\tNetherlands [color=blue]\n",
      "\thasCapital [color=blue]\n",
      "\thasCapital -> containsCity [label=\"rdf-schema#subPropertyOf\" style=dotted]\n",
      "\tUkraine [color=blue]\n",
      "\tGermany [color=blue]\n",
      "\tGermany [color=blue]\n",
      "\tGermany -> EuropeanCountry [label=\"22-rdf-syntax-ns#type\" style=dotted]\n",
      "\tUkraine [color=blue]\n",
      "\tRussia [color=blue]\n",
      "\tEuropeanCountry [color=blue]\n",
      "\tEuropeanCountry [shape=rectangle]\n",
      "\tCountry [shape=rectangle]\n",
      "\tEuropeanCountry -> Country [label=\"rdf-schema#subClassOf\" style=dotted]\n",
      "\tTurkey [color=blue]\n",
      "\tcontainsCity [color=blue]\n",
      "\tcontainsCity -> City [label=\"rdf-schema#range\" style=dotted]\n",
      "\tTurkey [color=blue]\n",
      "\tRussia [color=blue]\n",
      "\thasCapital [color=blue]\n",
      "\thasCapital -> Capital [label=\"rdf-schema#range\" style=dotted]\n",
      "\tNetherlands [color=blue]\n",
      "\tBelgium [color=blue]\n",
      "\tBelgium -> Country [label=\"22-rdf-syntax-ns#type\" style=dotted]\n",
      "\tcontainsCity [color=blue]\n",
      "\tcontainsCity -> Country [label=\"rdf-schema#domain\" style=dotted]\n",
      "}\n",
      "\n"
     ]
    },
    {
     "data": {
      "image/svg+xml": [
       "<?xml version=\"1.0\" encoding=\"UTF-8\" standalone=\"no\"?>\n",
       "<!DOCTYPE svg PUBLIC \"-//W3C//DTD SVG 1.1//EN\"\n",
       " \"http://www.w3.org/Graphics/SVG/1.1/DTD/svg11.dtd\">\n",
       "<!-- Generated by graphviz version 2.43.0 (0)\n",
       " -->\n",
       "<!-- Title: %3 Pages: 1 -->\n",
       "<svg width=\"2122pt\" height=\"318pt\"\n",
       " viewBox=\"0.00 0.00 2036.79 305.00\" xmlns=\"http://www.w3.org/2000/svg\" xmlns:xlink=\"http://www.w3.org/1999/xlink\">\n",
       "<g id=\"graph0\" class=\"graph\" transform=\"scale(0.96 0.96) rotate(0) translate(4 301)\">\n",
       "<title>%3</title>\n",
       "<polygon fill=\"white\" stroke=\"transparent\" points=\"-4,4 -4,-301 2032.79,-301 2032.79,4 -4,4\"/>\n",
       "<!-- Netherlands -->\n",
       "<g id=\"node1\" class=\"node\">\n",
       "<title>Netherlands</title>\n",
       "<ellipse fill=\"none\" stroke=\"blue\" cx=\"616.79\" cy=\"-279\" rx=\"68.49\" ry=\"18\"/>\n",
       "<text text-anchor=\"middle\" x=\"616.79\" y=\"-275.3\" font-family=\"Times,serif\" font-size=\"14.00\">Netherlands</text>\n",
       "</g>\n",
       "<!-- Country -->\n",
       "<g id=\"node2\" class=\"node\">\n",
       "<title>Country</title>\n",
       "<polygon fill=\"none\" stroke=\"black\" points=\"769.79,-123 695.79,-123 695.79,-87 769.79,-87 769.79,-123\"/>\n",
       "<text text-anchor=\"middle\" x=\"732.79\" y=\"-101.3\" font-family=\"Times,serif\" font-size=\"14.00\">Country</text>\n",
       "</g>\n",
       "<!-- Netherlands&#45;&gt;Country -->\n",
       "<g id=\"edge1\" class=\"edge\">\n",
       "<title>Netherlands&#45;&gt;Country</title>\n",
       "<path fill=\"none\" stroke=\"#000000\" stroke-dasharray=\"1,5\" d=\"M641.72,-261.85C648.59,-256.49 655.58,-250.07 660.79,-243 680.35,-216.51 672.62,-203.23 687.79,-174 695.35,-159.44 705.29,-144.13 713.9,-131.73\"/>\n",
       "<polygon fill=\"#000000\" stroke=\"#000000\" points=\"716.97,-133.45 719.88,-123.27 711.25,-129.41 716.97,-133.45\"/>\n",
       "<text text-anchor=\"middle\" x=\"767.29\" y=\"-188.3\" font-family=\"Times,serif\" font-size=\"14.00\">22&#45;rdf&#45;syntax&#45;ns#type</text>\n",
       "</g>\n",
       "<!-- The Netherlands -->\n",
       "<g id=\"node3\" class=\"node\">\n",
       "<title>The Netherlands</title>\n",
       "<ellipse fill=\"none\" stroke=\"black\" cx=\"554.79\" cy=\"-192\" rx=\"88.28\" ry=\"18\"/>\n",
       "<text text-anchor=\"middle\" x=\"554.79\" y=\"-188.3\" font-family=\"Times,serif\" font-size=\"14.00\">The Netherlands</text>\n",
       "</g>\n",
       "<!-- Netherlands&#45;&gt;The Netherlands -->\n",
       "<g id=\"edge2\" class=\"edge\">\n",
       "<title>Netherlands&#45;&gt;The Netherlands</title>\n",
       "<path fill=\"none\" stroke=\"black\" d=\"M604.55,-261.21C595.6,-248.95 583.33,-232.11 573.2,-218.24\"/>\n",
       "<polygon fill=\"black\" stroke=\"black\" points=\"575.95,-216.07 567.23,-210.05 570.3,-220.19 575.95,-216.07\"/>\n",
       "<text text-anchor=\"middle\" x=\"623.29\" y=\"-231.8\" font-family=\"Times,serif\" font-size=\"14.00\">hasName</text>\n",
       "</g>\n",
       "<!-- Amsterdam -->\n",
       "<g id=\"node4\" class=\"node\">\n",
       "<title>Amsterdam</title>\n",
       "<ellipse fill=\"none\" stroke=\"blue\" cx=\"383.79\" cy=\"-192\" rx=\"64.19\" ry=\"18\"/>\n",
       "<text text-anchor=\"middle\" x=\"383.79\" y=\"-188.3\" font-family=\"Times,serif\" font-size=\"14.00\">Amsterdam</text>\n",
       "</g>\n",
       "<!-- Netherlands&#45;&gt;Amsterdam -->\n",
       "<g id=\"edge5\" class=\"edge\">\n",
       "<title>Netherlands&#45;&gt;Amsterdam</title>\n",
       "<path fill=\"none\" stroke=\"black\" d=\"M572.06,-265.39C550.9,-259.14 525.37,-251.19 502.79,-243 476.8,-233.58 448.22,-221.62 425.59,-211.77\"/>\n",
       "<polygon fill=\"black\" stroke=\"black\" points=\"426.84,-208.49 416.28,-207.68 424.03,-214.9 426.84,-208.49\"/>\n",
       "<text text-anchor=\"middle\" x=\"540.79\" y=\"-231.8\" font-family=\"Times,serif\" font-size=\"14.00\">hasCapital</text>\n",
       "</g>\n",
       "<!-- Belgium -->\n",
       "<g id=\"node20\" class=\"node\">\n",
       "<title>Belgium</title>\n",
       "<ellipse fill=\"none\" stroke=\"blue\" cx=\"904.79\" cy=\"-192\" rx=\"49.29\" ry=\"18\"/>\n",
       "<text text-anchor=\"middle\" x=\"904.79\" y=\"-188.3\" font-family=\"Times,serif\" font-size=\"14.00\">Belgium</text>\n",
       "</g>\n",
       "<!-- Netherlands&#45;&gt;Belgium -->\n",
       "<g id=\"edge18\" class=\"edge\">\n",
       "<title>Netherlands&#45;&gt;Belgium</title>\n",
       "<path fill=\"none\" stroke=\"black\" d=\"M660.54,-265.09C713.72,-249.39 803.12,-223.01 857.75,-206.89\"/>\n",
       "<polygon fill=\"black\" stroke=\"black\" points=\"858.93,-210.19 867.53,-204 856.95,-203.47 858.93,-210.19\"/>\n",
       "<text text-anchor=\"middle\" x=\"819.29\" y=\"-231.8\" font-family=\"Times,serif\" font-size=\"14.00\">neighbours</text>\n",
       "</g>\n",
       "<!-- Capital -->\n",
       "<g id=\"node5\" class=\"node\">\n",
       "<title>Capital</title>\n",
       "<polygon fill=\"none\" stroke=\"blue\" points=\"410.79,-123 342.79,-123 342.79,-87 410.79,-87 410.79,-123\"/>\n",
       "<text text-anchor=\"middle\" x=\"376.79\" y=\"-101.3\" font-family=\"Times,serif\" font-size=\"14.00\">Capital</text>\n",
       "</g>\n",
       "<!-- Amsterdam&#45;&gt;Capital -->\n",
       "<g id=\"edge3\" class=\"edge\">\n",
       "<title>Amsterdam&#45;&gt;Capital</title>\n",
       "<path fill=\"none\" stroke=\"#000000\" stroke-dasharray=\"1,5\" d=\"M382.38,-173.8C381.42,-162.16 380.13,-146.55 379.04,-133.24\"/>\n",
       "<polygon fill=\"#000000\" stroke=\"#000000\" points=\"382.52,-132.85 378.21,-123.18 375.54,-133.43 382.52,-132.85\"/>\n",
       "<text text-anchor=\"middle\" x=\"460.29\" y=\"-144.8\" font-family=\"Times,serif\" font-size=\"14.00\">22&#45;rdf&#45;syntax&#45;ns#type</text>\n",
       "</g>\n",
       "<!-- City -->\n",
       "<g id=\"node6\" class=\"node\">\n",
       "<title>City</title>\n",
       "<polygon fill=\"none\" stroke=\"black\" points=\"234.79,-36 180.79,-36 180.79,0 234.79,0 234.79,-36\"/>\n",
       "<text text-anchor=\"middle\" x=\"207.79\" y=\"-14.3\" font-family=\"Times,serif\" font-size=\"14.00\">City</text>\n",
       "</g>\n",
       "<!-- Capital&#45;&gt;City -->\n",
       "<g id=\"edge4\" class=\"edge\">\n",
       "<title>Capital&#45;&gt;City</title>\n",
       "<path fill=\"none\" stroke=\"#000000\" stroke-dasharray=\"1,5\" d=\"M342.6,-86.8C313.96,-72.4 273.21,-51.9 244.03,-37.22\"/>\n",
       "<polygon fill=\"#000000\" stroke=\"#000000\" points=\"245.49,-34.04 234.99,-32.68 242.35,-40.3 245.49,-34.04\"/>\n",
       "<text text-anchor=\"middle\" x=\"388.79\" y=\"-57.8\" font-family=\"Times,serif\" font-size=\"14.00\">rdf&#45;schema#subClassOf</text>\n",
       "</g>\n",
       "<!-- hasCapital -->\n",
       "<g id=\"node7\" class=\"node\">\n",
       "<title>hasCapital</title>\n",
       "<ellipse fill=\"none\" stroke=\"blue\" cx=\"59.79\" cy=\"-279\" rx=\"59.59\" ry=\"18\"/>\n",
       "<text text-anchor=\"middle\" x=\"59.79\" y=\"-275.3\" font-family=\"Times,serif\" font-size=\"14.00\">hasCapital</text>\n",
       "</g>\n",
       "<!-- hasCapital&#45;&gt;Capital -->\n",
       "<g id=\"edge17\" class=\"edge\">\n",
       "<title>hasCapital&#45;&gt;Capital</title>\n",
       "<path fill=\"none\" stroke=\"#000000\" stroke-dasharray=\"1,5\" d=\"M42.52,-261.62C21.44,-239.68 -8.76,-200.43 13.79,-174 59.16,-120.83 251.1,-141.38 332.68,-123.96\"/>\n",
       "<polygon fill=\"#000000\" stroke=\"#000000\" points=\"333.66,-127.33 342.52,-121.51 331.97,-120.53 333.66,-127.33\"/>\n",
       "<text text-anchor=\"middle\" x=\"80.29\" y=\"-188.3\" font-family=\"Times,serif\" font-size=\"14.00\">rdf&#45;schema#range</text>\n",
       "</g>\n",
       "<!-- containsCity -->\n",
       "<g id=\"node8\" class=\"node\">\n",
       "<title>containsCity</title>\n",
       "<ellipse fill=\"none\" stroke=\"blue\" cx=\"224.79\" cy=\"-192\" rx=\"68.79\" ry=\"18\"/>\n",
       "<text text-anchor=\"middle\" x=\"224.79\" y=\"-188.3\" font-family=\"Times,serif\" font-size=\"14.00\">containsCity</text>\n",
       "</g>\n",
       "<!-- hasCapital&#45;&gt;containsCity -->\n",
       "<g id=\"edge6\" class=\"edge\">\n",
       "<title>hasCapital&#45;&gt;containsCity</title>\n",
       "<path fill=\"none\" stroke=\"#000000\" stroke-dasharray=\"1,5\" d=\"M88.54,-263.19C115.56,-249.27 156.22,-228.32 186.1,-212.94\"/>\n",
       "<polygon fill=\"#000000\" stroke=\"#000000\" points=\"187.71,-216.04 194.99,-208.35 184.5,-209.82 187.71,-216.04\"/>\n",
       "<text text-anchor=\"middle\" x=\"250.79\" y=\"-231.8\" font-family=\"Times,serif\" font-size=\"14.00\">rdf&#45;schema#subPropertyOf</text>\n",
       "</g>\n",
       "<!-- containsCity&#45;&gt;Country -->\n",
       "<g id=\"edge20\" class=\"edge\">\n",
       "<title>containsCity&#45;&gt;Country</title>\n",
       "<path fill=\"none\" stroke=\"#000000\" stroke-dasharray=\"1,5\" d=\"M222.61,-173.66C222.27,-162.68 223.97,-149.07 232.79,-141 241.09,-133.41 562.03,-115.26 685.27,-108.55\"/>\n",
       "<polygon fill=\"#000000\" stroke=\"#000000\" points=\"685.74,-112.03 695.53,-107.99 685.36,-105.04 685.74,-112.03\"/>\n",
       "<text text-anchor=\"middle\" x=\"304.79\" y=\"-144.8\" font-family=\"Times,serif\" font-size=\"14.00\">rdf&#45;schema#domain</text>\n",
       "</g>\n",
       "<!-- containsCity&#45;&gt;City -->\n",
       "<g id=\"edge14\" class=\"edge\">\n",
       "<title>containsCity&#45;&gt;City</title>\n",
       "<path fill=\"none\" stroke=\"#000000\" stroke-dasharray=\"1,5\" d=\"M217.02,-174.1C211.25,-160.6 203.88,-141.02 200.79,-123 196.35,-97.06 199.22,-67.03 202.52,-45.93\"/>\n",
       "<polygon fill=\"#000000\" stroke=\"#000000\" points=\"205.97,-46.5 204.2,-36.06 199.07,-45.33 205.97,-46.5\"/>\n",
       "<text text-anchor=\"middle\" x=\"267.29\" y=\"-101.3\" font-family=\"Times,serif\" font-size=\"14.00\">rdf&#45;schema#range</text>\n",
       "</g>\n",
       "<!-- Ukraine -->\n",
       "<g id=\"node9\" class=\"node\">\n",
       "<title>Ukraine</title>\n",
       "<ellipse fill=\"none\" stroke=\"blue\" cx=\"1320.79\" cy=\"-279\" rx=\"48.19\" ry=\"18\"/>\n",
       "<text text-anchor=\"middle\" x=\"1320.79\" y=\"-275.3\" font-family=\"Times,serif\" font-size=\"14.00\">Ukraine</text>\n",
       "</g>\n",
       "<!-- Ukraine&#45;&gt;Ukraine -->\n",
       "<g id=\"edge7\" class=\"edge\">\n",
       "<title>Ukraine&#45;&gt;Ukraine</title>\n",
       "<path fill=\"none\" stroke=\"black\" d=\"M1364.34,-286.85C1377.05,-286.58 1386.89,-283.96 1386.89,-279 1386.89,-275.51 1382.02,-273.18 1374.72,-272.01\"/>\n",
       "<polygon fill=\"black\" stroke=\"black\" points=\"1374.59,-268.49 1364.34,-271.15 1374.01,-275.46 1374.59,-268.49\"/>\n",
       "<text text-anchor=\"middle\" x=\"1420.39\" y=\"-275.3\" font-family=\"Times,serif\" font-size=\"14.00\">hasName</text>\n",
       "</g>\n",
       "<!-- Kiev -->\n",
       "<g id=\"node13\" class=\"node\">\n",
       "<title>Kiev</title>\n",
       "<ellipse fill=\"none\" stroke=\"black\" cx=\"1320.79\" cy=\"-192\" rx=\"31.4\" ry=\"18\"/>\n",
       "<text text-anchor=\"middle\" x=\"1320.79\" y=\"-188.3\" font-family=\"Times,serif\" font-size=\"14.00\">Kiev</text>\n",
       "</g>\n",
       "<!-- Ukraine&#45;&gt;Kiev -->\n",
       "<g id=\"edge10\" class=\"edge\">\n",
       "<title>Ukraine&#45;&gt;Kiev</title>\n",
       "<path fill=\"none\" stroke=\"black\" d=\"M1320.79,-260.8C1320.79,-249.16 1320.79,-233.55 1320.79,-220.24\"/>\n",
       "<polygon fill=\"black\" stroke=\"black\" points=\"1324.29,-220.18 1320.79,-210.18 1317.29,-220.18 1324.29,-220.18\"/>\n",
       "<text text-anchor=\"middle\" x=\"1358.79\" y=\"-231.8\" font-family=\"Times,serif\" font-size=\"14.00\">hasCapital</text>\n",
       "</g>\n",
       "<!-- Germany -->\n",
       "<g id=\"node10\" class=\"node\">\n",
       "<title>Germany</title>\n",
       "<ellipse fill=\"none\" stroke=\"blue\" cx=\"1122.79\" cy=\"-279\" rx=\"53.09\" ry=\"18\"/>\n",
       "<text text-anchor=\"middle\" x=\"1122.79\" y=\"-275.3\" font-family=\"Times,serif\" font-size=\"14.00\">Germany</text>\n",
       "</g>\n",
       "<!-- France -->\n",
       "<g id=\"node11\" class=\"node\">\n",
       "<title>France</title>\n",
       "<ellipse fill=\"none\" stroke=\"black\" cx=\"1225.79\" cy=\"-192\" rx=\"42.79\" ry=\"18\"/>\n",
       "<text text-anchor=\"middle\" x=\"1225.79\" y=\"-188.3\" font-family=\"Times,serif\" font-size=\"14.00\">France</text>\n",
       "</g>\n",
       "<!-- Germany&#45;&gt;France -->\n",
       "<g id=\"edge8\" class=\"edge\">\n",
       "<title>Germany&#45;&gt;France</title>\n",
       "<path fill=\"none\" stroke=\"black\" d=\"M1163.43,-267.2C1177.6,-261.81 1192.71,-254.01 1203.79,-243 1210.27,-236.56 1214.99,-227.89 1218.36,-219.58\"/>\n",
       "<polygon fill=\"black\" stroke=\"black\" points=\"1221.66,-220.74 1221.71,-210.14 1215.06,-218.39 1221.66,-220.74\"/>\n",
       "<text text-anchor=\"middle\" x=\"1250.79\" y=\"-231.8\" font-family=\"Times,serif\" font-size=\"14.00\">neighbors</text>\n",
       "</g>\n",
       "<!-- EuropeanCountry -->\n",
       "<g id=\"node12\" class=\"node\">\n",
       "<title>EuropeanCountry</title>\n",
       "<polygon fill=\"none\" stroke=\"blue\" points=\"1115.29,-210 972.29,-210 972.29,-174 1115.29,-174 1115.29,-210\"/>\n",
       "<text text-anchor=\"middle\" x=\"1043.79\" y=\"-188.3\" font-family=\"Times,serif\" font-size=\"14.00\">EuropeanCountry</text>\n",
       "</g>\n",
       "<!-- Germany&#45;&gt;EuropeanCountry -->\n",
       "<g id=\"edge9\" class=\"edge\">\n",
       "<title>Germany&#45;&gt;EuropeanCountry</title>\n",
       "<path fill=\"none\" stroke=\"#000000\" stroke-dasharray=\"1,5\" d=\"M1079.51,-268.32C1066.13,-263.1 1052.82,-255.13 1044.79,-243 1040.4,-236.35 1039.02,-228.05 1039.07,-220.12\"/>\n",
       "<polygon fill=\"#000000\" stroke=\"#000000\" points=\"1042.57,-220.33 1039.82,-210.1 1035.59,-219.81 1042.57,-220.33\"/>\n",
       "<text text-anchor=\"middle\" x=\"1124.29\" y=\"-231.8\" font-family=\"Times,serif\" font-size=\"14.00\">22&#45;rdf&#45;syntax&#45;ns#type</text>\n",
       "</g>\n",
       "<!-- EuropeanCountry&#45;&gt;Country -->\n",
       "<g id=\"edge12\" class=\"edge\">\n",
       "<title>EuropeanCountry&#45;&gt;Country</title>\n",
       "<path fill=\"none\" stroke=\"#000000\" stroke-dasharray=\"1,5\" d=\"M1028.21,-173.75C1017,-162.51 1000.91,-148.57 983.79,-141 948.25,-125.27 842.23,-114.58 779.93,-109.47\"/>\n",
       "<polygon fill=\"#000000\" stroke=\"#000000\" points=\"780.2,-105.98 769.95,-108.67 779.64,-112.96 780.2,-105.98\"/>\n",
       "<text text-anchor=\"middle\" x=\"1093.79\" y=\"-144.8\" font-family=\"Times,serif\" font-size=\"14.00\">rdf&#45;schema#subClassOf</text>\n",
       "</g>\n",
       "<!-- Russia -->\n",
       "<g id=\"node14\" class=\"node\">\n",
       "<title>Russia</title>\n",
       "<ellipse fill=\"none\" stroke=\"blue\" cx=\"1513.79\" cy=\"-279\" rx=\"41.69\" ry=\"18\"/>\n",
       "<text text-anchor=\"middle\" x=\"1513.79\" y=\"-275.3\" font-family=\"Times,serif\" font-size=\"14.00\">Russia</text>\n",
       "</g>\n",
       "<!-- Russian Federation -->\n",
       "<g id=\"node15\" class=\"node\">\n",
       "<title>Russian Federation</title>\n",
       "<ellipse fill=\"none\" stroke=\"black\" cx=\"1492.79\" cy=\"-192\" rx=\"100.98\" ry=\"18\"/>\n",
       "<text text-anchor=\"middle\" x=\"1492.79\" y=\"-188.3\" font-family=\"Times,serif\" font-size=\"14.00\">Russian Federation</text>\n",
       "</g>\n",
       "<!-- Russia&#45;&gt;Russian Federation -->\n",
       "<g id=\"edge11\" class=\"edge\">\n",
       "<title>Russia&#45;&gt;Russian Federation</title>\n",
       "<path fill=\"none\" stroke=\"black\" d=\"M1509.55,-260.8C1506.67,-249.16 1502.81,-233.55 1499.52,-220.24\"/>\n",
       "<polygon fill=\"black\" stroke=\"black\" points=\"1502.83,-219.04 1497.04,-210.18 1496.04,-220.72 1502.83,-219.04\"/>\n",
       "<text text-anchor=\"middle\" x=\"1538.29\" y=\"-231.8\" font-family=\"Times,serif\" font-size=\"14.00\">hasName</text>\n",
       "</g>\n",
       "<!-- Moscow -->\n",
       "<g id=\"node19\" class=\"node\">\n",
       "<title>Moscow</title>\n",
       "<ellipse fill=\"none\" stroke=\"black\" cx=\"1659.79\" cy=\"-192\" rx=\"48.19\" ry=\"18\"/>\n",
       "<text text-anchor=\"middle\" x=\"1659.79\" y=\"-188.3\" font-family=\"Times,serif\" font-size=\"14.00\">Moscow</text>\n",
       "</g>\n",
       "<!-- Russia&#45;&gt;Moscow -->\n",
       "<g id=\"edge16\" class=\"edge\">\n",
       "<title>Russia&#45;&gt;Moscow</title>\n",
       "<path fill=\"none\" stroke=\"black\" d=\"M1538.31,-264.33C1549.74,-257.92 1563.5,-250.13 1575.79,-243 1592.73,-233.18 1611.46,-222.06 1626.93,-212.8\"/>\n",
       "<polygon fill=\"black\" stroke=\"black\" points=\"1628.84,-215.73 1635.62,-207.59 1625.24,-209.73 1628.84,-215.73\"/>\n",
       "<text text-anchor=\"middle\" x=\"1639.79\" y=\"-231.8\" font-family=\"Times,serif\" font-size=\"14.00\">hasCapital</text>\n",
       "</g>\n",
       "<!-- Turkey -->\n",
       "<g id=\"node16\" class=\"node\">\n",
       "<title>Turkey</title>\n",
       "<ellipse fill=\"none\" stroke=\"blue\" cx=\"1903.79\" cy=\"-279\" rx=\"42.79\" ry=\"18\"/>\n",
       "<text text-anchor=\"middle\" x=\"1903.79\" y=\"-275.3\" font-family=\"Times,serif\" font-size=\"14.00\">Turkey</text>\n",
       "</g>\n",
       "<!-- Republic of Turkey -->\n",
       "<g id=\"node17\" class=\"node\">\n",
       "<title>Republic of Turkey</title>\n",
       "<ellipse fill=\"none\" stroke=\"black\" cx=\"1823.79\" cy=\"-192\" rx=\"98.28\" ry=\"18\"/>\n",
       "<text text-anchor=\"middle\" x=\"1823.79\" y=\"-188.3\" font-family=\"Times,serif\" font-size=\"14.00\">Republic of Turkey</text>\n",
       "</g>\n",
       "<!-- Turkey&#45;&gt;Republic of Turkey -->\n",
       "<g id=\"edge13\" class=\"edge\">\n",
       "<title>Turkey&#45;&gt;Republic of Turkey</title>\n",
       "<path fill=\"none\" stroke=\"black\" d=\"M1888.75,-262.01C1876.91,-249.43 1860.21,-231.7 1846.72,-217.35\"/>\n",
       "<polygon fill=\"black\" stroke=\"black\" points=\"1849,-214.67 1839.6,-209.79 1843.9,-219.47 1849,-214.67\"/>\n",
       "<text text-anchor=\"middle\" x=\"1902.29\" y=\"-231.8\" font-family=\"Times,serif\" font-size=\"14.00\">hasName</text>\n",
       "</g>\n",
       "<!-- Ankara -->\n",
       "<g id=\"node18\" class=\"node\">\n",
       "<title>Ankara</title>\n",
       "<ellipse fill=\"none\" stroke=\"black\" cx=\"1983.79\" cy=\"-192\" rx=\"43.59\" ry=\"18\"/>\n",
       "<text text-anchor=\"middle\" x=\"1983.79\" y=\"-188.3\" font-family=\"Times,serif\" font-size=\"14.00\">Ankara</text>\n",
       "</g>\n",
       "<!-- Turkey&#45;&gt;Ankara -->\n",
       "<g id=\"edge15\" class=\"edge\">\n",
       "<title>Turkey&#45;&gt;Ankara</title>\n",
       "<path fill=\"none\" stroke=\"black\" d=\"M1920.55,-262.23C1926.71,-256.31 1933.67,-249.44 1939.79,-243 1947.65,-234.75 1955.97,-225.44 1963.24,-217.12\"/>\n",
       "<polygon fill=\"black\" stroke=\"black\" points=\"1965.94,-219.35 1969.84,-209.5 1960.65,-214.77 1965.94,-219.35\"/>\n",
       "<text text-anchor=\"middle\" x=\"1990.79\" y=\"-231.8\" font-family=\"Times,serif\" font-size=\"14.00\">hasCapital</text>\n",
       "</g>\n",
       "<!-- Belgium&#45;&gt;Country -->\n",
       "<g id=\"edge19\" class=\"edge\">\n",
       "<title>Belgium&#45;&gt;Country</title>\n",
       "<path fill=\"none\" stroke=\"#000000\" stroke-dasharray=\"1,5\" d=\"M873.36,-177.98C858.5,-171.64 840.59,-163.73 824.79,-156 807.19,-147.38 788.09,-137.15 771.88,-128.2\"/>\n",
       "<polygon fill=\"#000000\" stroke=\"#000000\" points=\"773.14,-124.9 762.7,-123.1 769.74,-131.02 773.14,-124.9\"/>\n",
       "<text text-anchor=\"middle\" x=\"904.29\" y=\"-144.8\" font-family=\"Times,serif\" font-size=\"14.00\">22&#45;rdf&#45;syntax&#45;ns#type</text>\n",
       "</g>\n",
       "</g>\n",
       "</svg>\n"
      ],
      "text/plain": [
       "<graphviz.graphs.Digraph at 0x7fda92b05050>"
      ]
     },
     "execution_count": 49,
     "metadata": {},
     "output_type": "execute_result"
    }
   ],
   "source": [
    "for s,p,o in g:\n",
    "    dot.node(strip(s), color=\"blue\")  # all subjects are entities\n",
    "    if \"rdf\" in p:\n",
    "        if strip(p) == \"type\":\n",
    "            dot.node(strip(o), shape = \"rectangle\")\n",
    "        \n",
    "        elif \"subClassOf\" in strip(p):\n",
    "            dot.node(strip(s), shape = \"rectangle\")\n",
    "            dot.node(strip(o), shape = \"rectangle\")\n",
    "\n",
    "       \n",
    "        dot.edge(strip(s),strip(o), strip(p), style = \"dotted\")\n",
    "\n",
    "print(dot)\n",
    "dot\n"
   ]
  },
  {
   "cell_type": "markdown",
   "metadata": {},
   "source": [
    "### - Task 4: (10 Points) Deriving implicit knowledge (a bit of schema)\n",
    "\n",
    "We will look into Schema information in the latter modules, but let us try already to find some implicit information in a first bit of inferencing: whenever there are two statements (s rdf:type o) and (o rdfs:subClassOf o2) we can derive (and later prove) that (s rdf:type o2). \n",
    "\n",
    "Write a procedure that adds all implied triples to our knowledge graph, and which prints each implied triple."
   ]
  },
  {
   "cell_type": "code",
   "execution_count": null,
   "metadata": {},
   "outputs": [],
   "source": [
    "# Your code here"
   ]
  },
  {
   "cell_type": "markdown",
   "metadata": {},
   "source": [
    "# C. Tasks related to local copies of external RDF Datasets using SPARQL"
   ]
  },
  {
   "cell_type": "markdown",
   "metadata": {},
   "source": [
    "Until now, we have manipulated local knowledge graphs, but as we claimed in the lectures, the advantage of knowledge graphs is that they can easily be linked with other datasets on the Web. \n",
    "\n",
    "In the remaining 3 tasks, we will manipulate data from the Web, and ask complex queries over this web data. \n",
    "\n",
    "In the first task, we will access web data, make a local copy of it, and then query it. In the other two tasks, we will query live data directly from web Knowledge Graphs (in this case, the SPARQL endpoint of DBPedia). "
   ]
  },
  {
   "cell_type": "markdown",
   "metadata": {},
   "source": [
    "### - Task 5: (10 Points) Show and manipulate data about RDF resources on the Web "
   ]
  },
  {
   "cell_type": "markdown",
   "metadata": {},
   "source": [
    "With rdflib we can easily load a local graph, but we can just as well retrieve a graph from the Web. Here, we will do so using the *requests* library, which allows us to fire a request to any server and/or SPARQL endpoint and to capture the response. The following snippet does so for the resource Netherlands from Dbpedia, by using the 'DESCRIBE' keyword to give us all triples about The Netherlands, and then loads it in a RDFlib Graph object. Note that, in the next assignment, we will learn a more high-level approach that hides most of the raw request details.\n",
    "\n",
    "Should, for some external reason, the code below fail to retrieve the graph from DBpedia, then you can manually load the turtle file `dbpedia_AmsterdamBelgium.ttl` which is located in this directory and which contains the same triples. Only do this as a last resort!"
   ]
  },
  {
   "cell_type": "code",
   "execution_count": 50,
   "metadata": {},
   "outputs": [
    {
     "name": "stdout",
     "output_type": "stream",
     "text": [
      "Collecting requests\n",
      "  Obtaining dependency information for requests from https://files.pythonhosted.org/packages/70/8e/0e2d847013cb52cd35b38c009bb167a1a26b2ce6cd6965bf26b47bc0bf44/requests-2.31.0-py3-none-any.whl.metadata\n",
      "  Downloading requests-2.31.0-py3-none-any.whl.metadata (4.6 kB)\n",
      "Collecting charset-normalizer<4,>=2 (from requests)\n",
      "  Obtaining dependency information for charset-normalizer<4,>=2 from https://files.pythonhosted.org/packages/bc/85/ef25d4ba14c7653c3020a1c6e1a7413e6791ef36a0ac177efa605fc2c737/charset_normalizer-3.2.0-cp311-cp311-manylinux_2_17_x86_64.manylinux2014_x86_64.whl.metadata\n",
      "  Downloading charset_normalizer-3.2.0-cp311-cp311-manylinux_2_17_x86_64.manylinux2014_x86_64.whl.metadata (31 kB)\n",
      "Collecting idna<4,>=2.5 (from requests)\n",
      "  Downloading idna-3.4-py3-none-any.whl (61 kB)\n",
      "\u001b[2K     \u001b[90m━━━━━━━━━━━━━━━━━━━━━━━━━━━━━━━━━━━━━━━━\u001b[0m \u001b[32m61.5/61.5 kB\u001b[0m \u001b[31m1.1 MB/s\u001b[0m eta \u001b[36m0:00:00\u001b[0m:00:01\u001b[0m\n",
      "\u001b[?25hCollecting urllib3<3,>=1.21.1 (from requests)\n",
      "  Obtaining dependency information for urllib3<3,>=1.21.1 from https://files.pythonhosted.org/packages/9b/81/62fd61001fa4b9d0df6e31d47ff49cfa9de4af03adecf339c7bc30656b37/urllib3-2.0.4-py3-none-any.whl.metadata\n",
      "  Downloading urllib3-2.0.4-py3-none-any.whl.metadata (6.6 kB)\n",
      "Collecting certifi>=2017.4.17 (from requests)\n",
      "  Obtaining dependency information for certifi>=2017.4.17 from https://files.pythonhosted.org/packages/4c/dd/2234eab22353ffc7d94e8d13177aaa050113286e93e7b40eae01fbf7c3d9/certifi-2023.7.22-py3-none-any.whl.metadata\n",
      "  Downloading certifi-2023.7.22-py3-none-any.whl.metadata (2.2 kB)\n",
      "Downloading requests-2.31.0-py3-none-any.whl (62 kB)\n",
      "\u001b[2K   \u001b[90m━━━━━━━━━━━━━━━━━━━━━━━━━━━━━━━━━━━━━━━━\u001b[0m \u001b[32m62.6/62.6 kB\u001b[0m \u001b[31m1.1 MB/s\u001b[0m eta \u001b[36m0:00:00\u001b[0m:00:01\u001b[0m\n",
      "\u001b[?25hDownloading certifi-2023.7.22-py3-none-any.whl (158 kB)\n",
      "\u001b[2K   \u001b[90m━━━━━━━━━━━━━━━━━━━━━━━━━━━━━━━━━━━━━━━━\u001b[0m \u001b[32m158.3/158.3 kB\u001b[0m \u001b[31m2.0 MB/s\u001b[0m eta \u001b[36m0:00:00\u001b[0ma \u001b[36m0:00:01\u001b[0m\n",
      "\u001b[?25hDownloading charset_normalizer-3.2.0-cp311-cp311-manylinux_2_17_x86_64.manylinux2014_x86_64.whl (199 kB)\n",
      "\u001b[2K   \u001b[90m━━━━━━━━━━━━━━━━━━━━━━━━━━━━━━━━━━━━━━━━\u001b[0m \u001b[32m199.6/199.6 kB\u001b[0m \u001b[31m2.1 MB/s\u001b[0m eta \u001b[36m0:00:00\u001b[0ma \u001b[36m0:00:01\u001b[0m\n",
      "\u001b[?25hDownloading urllib3-2.0.4-py3-none-any.whl (123 kB)\n",
      "\u001b[2K   \u001b[90m━━━━━━━━━━━━━━━━━━━━━━━━━━━━━━━━━━━━━━━━\u001b[0m \u001b[32m123.9/123.9 kB\u001b[0m \u001b[31m1.5 MB/s\u001b[0m eta \u001b[36m0:00:00\u001b[0m00:01\u001b[0m\n",
      "\u001b[?25hInstalling collected packages: urllib3, idna, charset-normalizer, certifi, requests\n",
      "Successfully installed certifi-2023.7.22 charset-normalizer-3.2.0 idna-3.4 requests-2.31.0 urllib3-2.0.4\n",
      "Note: you may need to restart the kernel to use updated packages.\n"
     ]
    }
   ],
   "source": [
    "# install the library\n",
    "%pip install requests"
   ]
  },
  {
   "cell_type": "code",
   "execution_count": 66,
   "metadata": {},
   "outputs": [
    {
     "name": "stdout",
     "output_type": "stream",
     "text": [
      "[a rdfg:Graph;rdflib:storage [a rdflib:Store;rdfs:label 'Memory']].\n"
     ]
    }
   ],
   "source": [
    "import requests\n",
    "\n",
    "endpoint = \"https://dbpedia.org/sparql\"\n",
    "query = 'DESCRIBE <http://dbpedia.org/resource/Netherlands>'\n",
    "\n",
    "payload = {'query':query, 'format':'text/turtle'}\n",
    "response = requests.post(endpoint, data = payload)\n",
    "\n",
    "g = Graph()\n",
    "g.parse(data=response.text, format='ttl')\n",
    "print(g)"
   ]
  },
  {
   "cell_type": "markdown",
   "metadata": {},
   "source": [
    "Now do the same for Belgium"
   ]
  },
  {
   "cell_type": "code",
   "execution_count": 58,
   "metadata": {},
   "outputs": [
    {
     "data": {
      "text/plain": [
       "<Graph identifier=N3c842175aec649fca46aabbfdf51a4e3 (<class 'rdflib.graph.Graph'>)>"
      ]
     },
     "execution_count": 58,
     "metadata": {},
     "output_type": "execute_result"
    }
   ],
   "source": [
    "query = 'DESCRIBE <http://dbpedia.org/resource/Belgium>'\n",
    "\n",
    "payload = {'query':query, 'format':'text/turtle'}\n",
    "response = requests.post(endpoint, data = payload)\n",
    "\n",
    "g.parse(data=response.text, format='ttl')  # calling parse again merges the graphs"
   ]
  },
  {
   "cell_type": "markdown",
   "metadata": {},
   "source": [
    "Let us start by showing diverse bits of information w.r.t  The Netherlands and Belgium in DBPedia. It is very similar to task 1, but now with Web Data. \n",
    "\n",
    "First, query the graph g (now containing the DBPedia information about both countries) and check which motor ways cross both countries."
   ]
  },
  {
   "cell_type": "code",
   "execution_count": 67,
   "metadata": {},
   "outputs": [],
   "source": [
    "qres = g.query(\n",
    "   \"\"\"\n",
    "    PREFIX dbr: <http://dbpedia.org/resource/>\n",
    "    PREFIX dbo: <http://dbpedia.org/ontology/>\n",
    "    SELECT ?s\n",
    "        WHERE {\n",
    "            ?s a dbo:Road ;\n",
    "               dbo:country dbr:Netherlands ;\n",
    "               dbo:country dbr:Belgium .\n",
    "        }\n",
    "        LIMIT 10\n",
    "       \"\"\")\n",
    "for row in qres:\n",
    "    print(row)"
   ]
  },
  {
   "cell_type": "markdown",
   "metadata": {},
   "source": [
    "Write a query to check whether you can find someone who was born in The Netherlands and died in Belgium? You need to look at the data to know which property you should check for. \n",
    "\n",
    "To get an intuition of what is in the knowledge graph you might want to look at the human readable rendering on : http://dbpedia.org/resource/Netherlands"
   ]
  },
  {
   "cell_type": "code",
   "execution_count": 63,
   "metadata": {
    "scrolled": true
   },
   "outputs": [
    {
     "name": "stdout",
     "output_type": "stream",
     "text": [
      "(rdflib.term.URIRef('http://dbpedia.org/resource/Ben_van_der_Voort'),)\n",
      "(rdflib.term.URIRef('http://dbpedia.org/resource/Bram_Bart'),)\n",
      "(rdflib.term.URIRef('http://dbpedia.org/resource/Petrus_van_Schendel'),)\n",
      "(rdflib.term.URIRef('http://dbpedia.org/resource/Maximilian_von_Fürstenberg'),)\n",
      "(rdflib.term.URIRef('http://dbpedia.org/resource/Salomon_Zeldenrust'),)\n",
      "(rdflib.term.URIRef('http://dbpedia.org/resource/Co_Prins'),)\n",
      "(rdflib.term.URIRef('http://dbpedia.org/resource/Cornelius_van_Zierikzee'),)\n",
      "(rdflib.term.URIRef('http://dbpedia.org/resource/Theo_Middelkamp'),)\n",
      "(rdflib.term.URIRef('http://dbpedia.org/resource/Anne_Vondeling'),)\n",
      "(rdflib.term.URIRef('http://dbpedia.org/resource/Anton_Winterink'),)\n"
     ]
    }
   ],
   "source": [
    "# Your code here\n",
    "qres = g.query(\n",
    "    \"\"\"  \n",
    "    PREFIX dbr: <http://dbpedia.org/resource/>\n",
    "    PREFIX dbo: <http://dbpedia.org/ontology/>\n",
    "\n",
    "    SELECT ?s \n",
    "        WHERE {\n",
    "            ?s dbo:birthPlace dbr:Netherlands;\n",
    "                dbo:deathPlace dbr:Belgium.\n",
    "        }\n",
    "        LIMIT 10\n",
    "        \"\"\"\n",
    ")\n",
    "\n",
    "for row in qres:\n",
    "    print(row)"
   ]
  },
  {
   "cell_type": "markdown",
   "metadata": {},
   "source": [
    "### - Task 6: (20 Points) Ask SPARQL against live data using Yasgui\n",
    "\n",
    "Yasgui (https://yasgui.triply.cc) is a nice graphical interface for asking queries.\n",
    "\n",
    "Run a new query against http://dbpedia.org/sparql that does the following:\n",
    "\n",
    "- Find all languages spoken in countries that are not official languages of that country.\n",
    "- The query should return two colums: the country, and the number of languages.\n",
    "- Order the countries by the number of unofficial languages, from high to low.\n",
    "\n",
    "Note that\n",
    "- Countries are assumed to be of type `dbo:Country`\n",
    "- Languages are assumed to be of type `dbo:Language` (and can be linked by many different predicates)\n",
    "- Official languages are linked using predicate `dbo:officialLanguage`\n",
    "- Not all countries have an official language (in which case we return all linked languages)\n",
    "\n",
    "Hint: there is more than one possible solution. See https://www.w3.org/TR/sparql11-query/ for documentation on SPARQL."
   ]
  },
  {
   "cell_type": "code",
   "execution_count": 68,
   "metadata": {},
   "outputs": [
    {
     "data": {
      "text/plain": [
       "'\\nPREFIX rdf: <http://www.w3.org/1999/02/22-rdf-syntax-ns#>\\nPREFIX rdfs: <http://www.w3.org/2000/01/rdf-schema#>\\nPREFIX dbr: <http://dbpedia.org/resource/>\\nPREFIX dbo: <http://dbpedia.org/ontology/>\\nSELECT ?country (COUNT(?language) as ?languageCount) WHERE {\\n  ?country a dbo:Country.\\n  ?language a dbo:Language.\\n  ?country dbo:officialLanguage ?language.\\n}\\nGROUP BY ?country\\nLIMIT 100\\n'"
      ]
     },
     "execution_count": 68,
     "metadata": {},
     "output_type": "execute_result"
    }
   ],
   "source": [
    "'''\n",
    "PREFIX rdf: <http://www.w3.org/1999/02/22-rdf-syntax-ns#>\n",
    "PREFIX rdfs: <http://www.w3.org/2000/01/rdf-schema#>\n",
    "PREFIX dbr: <http://dbpedia.org/resource/>\n",
    "PREFIX dbo: <http://dbpedia.org/ontology/>\n",
    "SELECT ?country (COUNT(?language) as ?languageCount) WHERE {\n",
    "  ?country a dbo:Country.\n",
    "  ?language a dbo:Language.\n",
    "  ?country dbo:officialLanguage ?language.\n",
    "}\n",
    "GROUP BY ?country\n",
    "LIMIT 100\n",
    "'''"
   ]
  }
 ],
 "metadata": {
  "kernelspec": {
   "display_name": "Python 3 (ipykernel)",
   "language": "python",
   "name": "python3"
  },
  "language_info": {
   "codemirror_mode": {
    "name": "ipython",
    "version": 3
   },
   "file_extension": ".py",
   "mimetype": "text/x-python",
   "name": "python",
   "nbconvert_exporter": "python",
   "pygments_lexer": "ipython3",
   "version": "3.11.4"
  }
 },
 "nbformat": 4,
 "nbformat_minor": 4
}
